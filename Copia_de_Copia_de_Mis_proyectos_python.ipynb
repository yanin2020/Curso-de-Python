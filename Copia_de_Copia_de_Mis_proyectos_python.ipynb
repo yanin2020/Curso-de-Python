{
  "nbformat": 4,
  "nbformat_minor": 0,
  "metadata": {
    "colab": {
      "name": "Copia de Copia de Mis proyectos python.ipynb",
      "provenance": [],
      "collapsed_sections": [],
      "authorship_tag": "ABX9TyMYtirnQDAQkwaTzWUjDCsV",
      "include_colab_link": true
    },
    "kernelspec": {
      "name": "python3",
      "display_name": "Python 3"
    },
    "language_info": {
      "name": "python"
    }
  },
  "cells": [
    {
      "cell_type": "markdown",
      "metadata": {
        "id": "view-in-github",
        "colab_type": "text"
      },
      "source": [
        "<a href=\"https://colab.research.google.com/github/yanin2020/Curso-de-Python/blob/master/Copia_de_Copia_de_Mis_proyectos_python.ipynb\" target=\"_parent\"><img src=\"https://colab.research.google.com/assets/colab-badge.svg\" alt=\"Open In Colab\"/></a>"
      ]
    },
    {
      "cell_type": "markdown",
      "source": [
        "PROYECTO 1 \"HISTORIAS LOCAS\""
      ],
      "metadata": {
        "id": "unQGh4zgc7X1"
      }
    },
    {
      "cell_type": "code",
      "source": [
        "# CONCATENAR CADENAS DE CARACTERES\n",
        "# Supongamos que queremos crear una cuenta que diga:\n",
        "# Aprende a programar con ____________.\n",
        "# organización = \"FreeCodeCamp\"\n",
        "# print(\"Aprende a programar con \" + organización)\n",
        "# print(\"Aprende a programar con {}\".format(organización))\n",
        "# print(f\"Aprende a programar con {organización}\") # f-string\n",
        "\n",
        "# Mad Libs (Historias Locas)\n",
        "\n",
        "adj = input(\"Ingrese un Adjetivo: \")\n",
        "verbo1 = input(\"Ingrese un Verbo: \")\n",
        "verbo2 = input(\"Ingrese otro Verbo: \")\n",
        "sustantivo_plural = input(\"Ingrese un Sustantivo (plural): \")\n",
        "madlib = f\"!Programar es tan {adj}! Siempre me emociona porque me encanta {verbo1} problemas. !Aprende a {verbo2} con FreeCodeCamp y alcanza tus {sustantivo_plural}!\"\n",
        "print(madlib)"
      ],
      "metadata": {
        "colab": {
          "base_uri": "https://localhost:8080/"
        },
        "id": "H3TS8ec1dHKB",
        "outputId": "b0dcd010-6240-41f8-d333-c67d6c3a547e"
      },
      "execution_count": null,
      "outputs": [
        {
          "output_type": "stream",
          "name": "stdout",
          "text": [
            "Ingrese un Adjetivo: sabroso\n",
            "Ingrese un Verbo: trabajar\n",
            "Ingrese otro Verbo: jugar\n",
            "Ingrese un Sustantivo (plural): libros\n",
            "!Programar es tan sabroso! Siempre me emociona porque me encanta trabajar problemas. !Aprende a jugar con FreeCodeCamp y alcanza tus libros!\n"
          ]
        }
      ]
    },
    {
      "cell_type": "markdown",
      "source": [
        "**Proyecto** #2 **Adivina el número.**"
      ],
      "metadata": {
        "id": "Br5AjAfDs1kO"
      }
    },
    {
      "cell_type": "code",
      "source": [
        "import random\n",
        "\n",
        "\n",
        "def adivina_el_número(x):\n",
        "\n",
        "    print(\"==============================\")\n",
        "    print(\" !Bienvenido(a) al Juego! \")\n",
        "    print(\"==============================\")\n",
        "    print(\"Tu meta es adivinar el número generado por la computadora.\")\n",
        "\n",
        "    número_aleatorio = random.randint(1, x) # Número aleatorio entre 1 y x.\n",
        "\n",
        "    adivina = 0\n",
        "    while adivina != número_aleatorio:\n",
        "        # El usuario ingresa un número\n",
        "        adivina = int(input(f\"Adivina un número entre 1 y {x}: \")) # f-string\n",
        "\n",
        "        if adivina < número_aleatorio:\n",
        "            print(\"Intenta de nuevo. Este número es muy pequeño :v\")\n",
        "        elif adivina > número_aleatorio:\n",
        "            print(\"Intenta de nuevo. Este número es muy grande :v\")   \n",
        "\n",
        "    print(f\"!Felicitaciones! Adivinaste el número {número_aleatorio} correctamente :D \")  \n",
        "\n",
        "\n",
        "adivina_el_número(15)           "
      ],
      "metadata": {
        "colab": {
          "base_uri": "https://localhost:8080/"
        },
        "id": "ohk23ES_tDC3",
        "outputId": "edda2130-2f25-4cf8-ea5f-48d7e095e9fb"
      },
      "execution_count": null,
      "outputs": [
        {
          "output_type": "stream",
          "name": "stdout",
          "text": [
            "==============================\n",
            " !Bienvenido(a) al Juego! \n",
            "==============================\n",
            "Tu meta es adivinar el número generado por la computadora.\n",
            "Adivina un número entre 1 y 15: 6\n",
            "Intenta de nuevo. Este número es muy pequeño :v\n",
            "Adivina un número entre 1 y 15: 13\n",
            "Intenta de nuevo. Este número es muy grande :v\n",
            "Adivina un número entre 1 y 15: 7\n",
            "Intenta de nuevo. Este número es muy pequeño :v\n",
            "Adivina un número entre 1 y 15: 10\n",
            "!Felicitaciones! Adivinaste el número 10 correctamente :D \n"
          ]
        }
      ]
    },
    {
      "cell_type": "markdown",
      "source": [
        "**Proyecto #3 Adivina el número (humano vs computadora >:3)**"
      ],
      "metadata": {
        "id": "TTTOAXc0TxzB"
      }
    },
    {
      "cell_type": "code",
      "source": [
        "import random\n",
        "\n",
        "\n",
        "def adivina_el_número_computadora(x):\n",
        "\n",
        "    print(\"==============================\")\n",
        "    print(\" !Bienvenido(a) al Juego! \")\n",
        "    print(\"==============================\")\n",
        "    print(f\"Selecciona un número entre 1 y {x} para que la computadora intente adivinarlo....xd.....:v\")\n",
        "\n",
        "    límite_inferior = 1 # [1, x]\n",
        "    límite_superior = x\n",
        "    respuesta = \"\"\n",
        "    while respuesta != \"c\":\n",
        "        # Generar predicción\n",
        "        if límite_inferior != límite_superior: # [1, 15]\n",
        "            predicción = random.randint(límite_inferior, límite_superior)\n",
        "        else:    \n",
        "            predicción = límite_inferior # también podría ser el límite superior.\n",
        "\n",
        "        # Obtener respuesta del usuario   \n",
        "        respuesta = input(f\"Mi predicción es {predicción} :). Si es muy alta, ingresa (A). Si es muy baja, ingresa (B). Si es correcta, ingresa (C): \").lower()\n",
        "\n",
        "        if respuesta == \"a\":\n",
        "            límite_superior = predicción - 1\n",
        "        elif respuesta == \"b\":\n",
        "            límite_inferior = predicción + 1\n",
        "\n",
        "    print(f\" Siii UWU!!! La computadora adivinó tu número correctamente :D el número era: {predicción} :)\") \n",
        "\n",
        "\n",
        "adivina_el_número_computadora(15)               \n",
        "            \n",
        "            # Intervalo inicial: [1, 15]\n",
        "            # Predicción: 6\n",
        "            # Respuesta: \"a\"\n",
        "            # Intervalo: [1, 5]\n"
      ],
      "metadata": {
        "colab": {
          "base_uri": "https://localhost:8080/"
        },
        "id": "OhaW8OvtUGsv",
        "outputId": "73cf323f-3c66-4300-ff01-55f81d94aaef"
      },
      "execution_count": null,
      "outputs": [
        {
          "output_type": "stream",
          "name": "stdout",
          "text": [
            "==============================\n",
            " !Bienvenido(a) al Juego! \n",
            "==============================\n",
            "Selecciona un número entre 1 y 15 para que la computadora intente adivinarlo....xd.....:v\n",
            "Mi predicción es 8 :). Si es muy alta, ingresa (A). Si es muy baja, ingresa (B). Si es correcta, ingresa (C): a\n",
            "Mi predicción es 3 :). Si es muy alta, ingresa (A). Si es muy baja, ingresa (B). Si es correcta, ingresa (C): b\n",
            "Mi predicción es 4 :). Si es muy alta, ingresa (A). Si es muy baja, ingresa (B). Si es correcta, ingresa (C): c\n",
            " Siii UWU!!! La computadora adivinó tu número correctamente :D el número era: 4 :)\n"
          ]
        }
      ]
    },
    {
      "cell_type": "markdown",
      "source": [
        "**Proyecto #4 Piedra, Papel o Tijera >:3**"
      ],
      "metadata": {
        "id": "nRh7feFGtbfM"
      }
    },
    {
      "cell_type": "code",
      "source": [
        "import random\n",
        "\n",
        "\n",
        "def jugar():\n",
        "    usuario = input(\"Escoge una opción: 'pi' para piedra, 'pa' para papel, 'ti' para tijera :3.\\n\").lower()\n",
        "    computadora = random.choice(['pi', 'pa', 'ti'])\n",
        "\n",
        "    if usuario == computadora:\n",
        "        return '!Empate :v!'\n",
        "\n",
        "    if ganó_el_jugador(usuario, computadora):\n",
        "        return '!Ganaste :D!'\n",
        "\n",
        "    return '!Perdiste T-T!'\n",
        "\n",
        "\n",
        "def ganó_el_jugador(jugador, oponente):\n",
        "    # Retornar True (verdadero) si gana el jugador.\n",
        "    # Piedra gana a Tijera (pi > ti).\n",
        "    # Tijera gana a Papel (ti > pa).\n",
        "    # Papel gana a Piedra (pa > pi).\n",
        "    if ((jugador == 'pi' and oponente == 'ti')\n",
        "        or (jugador == 'ti' and oponente == 'pa')\n",
        "        or (jugador == 'pa' and oponente == 'pi')):\n",
        "        return True\n",
        "    else:\n",
        "        return False\n",
        "\n",
        "\n",
        "print(jugar())"
      ],
      "metadata": {
        "colab": {
          "base_uri": "https://localhost:8080/"
        },
        "id": "H_o1FHvBttrt",
        "outputId": "b019e58c-17fe-4fcc-8179-4af88e1b5118"
      },
      "execution_count": null,
      "outputs": [
        {
          "output_type": "stream",
          "name": "stdout",
          "text": [
            "Escoge una opción: 'pi' para piedra, 'pa' para papel, 'ti' para tijera :3.\n",
            "pa\n",
            "!Ganaste :D!\n"
          ]
        }
      ]
    },
    {
      "cell_type": "markdown",
      "source": [
        "**Proyecto #5 El Ahorcado >:3**"
      ],
      "metadata": {
        "id": "hgaJgWI10jyx"
      }
    },
    {
      "cell_type": "code",
      "source": [
        "import random\n",
        "import string\n",
        "\n",
        "from palabras import palabras\n",
        "from ahorcado_diagramas import vidas_diccionario_visual\n",
        "\n",
        "\n",
        "def obtener_palabra_válida(palabras):\n",
        "    #seleccionamos al azar una palabra de esa lista con ramdom.\n",
        "    palabra = random.choice(palabras)\n",
        "\n",
        "\n",
        "    while '-' in palabras or ' ' in palabras:  \n",
        "        palabra = random.choice(palabras)  \n",
        "\n",
        "    return palabra.upper()        \n",
        "\n",
        "\n",
        "def ahorcado():\n",
        "\n",
        "    print(\"==========================================\")\n",
        "    print(\" !Bienvenido(a) al Juego del Ahorcado :D! \")\n",
        "    print(\"==========================================\")\n",
        "\n",
        "    palabra = obtener_palabra_válida(palabras)\n",
        "\n",
        "    letras_por_adivinar = set(palabra)\n",
        "    letras_adivinadas = set() #No {}\n",
        "    abecedario = set(string.ascii_uppercase) # no tiene la ñ.\n",
        "\n",
        "    vidas = 7\n",
        "\n",
        "    while len(letras_por_adivinar) > 0 and vidas > 0:\n",
        "        print(f\"Te quedan {vidas} vidas y has usado estas letras:  {' '.join(letras_adivinadas)}\")\n",
        "        #H-LA sintaxis list comprehension\n",
        "        #Mostrar estado actual de la palabra|\n",
        "        palabra_lista = [letra if letra in letras_adivinadas\n",
        "        else '-' for letra in palabra]\n",
        "        #Mostrar estado del ahorcado\n",
        "        print(vidas_diccionario_visual[vidas])\n",
        "        #Mostrar las letras separadas por un espacio\n",
        "        print(f\"Palabras:{' '.join(palabra_lista)}\")\n",
        "\n",
        "        letra_usuario = input(\"Escoge una letra: \").upper()\n",
        "        # Si la letra escogida por el usuario está en el abecedario\n",
        "        #y no está en el conjunto de letras que ya ingreso, se añade la letra\n",
        "        # al conjunto de letras ingresadas\n",
        "        if letra_usuario in abecedario - letras_adivinadas:\n",
        "            letras_adivinadas.add(letra_usuario)\n",
        "           \n",
        "            if letra_usuario in letras_por_adivinar:\n",
        "                letras_por_adivinar.remove(letra_usuario)\n",
        "                print('')\n",
        "            else:\n",
        "                vidas = vidas - 1 \n",
        "                print(f\"\\nTu letra, {letra_usuario} no está en la palabra.\")\n",
        "        # Si la letra escogida por el usuario ya fue ingresada.\n",
        "        elif letra_usuario in letras_adivinadas:\n",
        "            print(\"\\Letra repetida, elige una nueva :v.\")\n",
        "        else:\n",
        "            print(\"\\nEsta letra no es válida :/\")\n",
        "    \n",
        "    # El juego llega hasta esta línea al adivinar todas las letras\n",
        "    # o cuando se agotan las vidas del jugador\n",
        "    if vidas == 0:\n",
        "        print(vidas_diccionario_visual[vidas])\n",
        "        print(f\"!Ahorcado! Perdiste T-T. La palabra era: {palabra} :v\")\n",
        "    else:    \n",
        "        print(f\"!Excelente! !Adivinaste la palabra {palabra} :D!\")\n",
        "\n",
        "\n",
        "ahorcado()\n"
      ],
      "metadata": {
        "colab": {
          "base_uri": "https://localhost:8080/"
        },
        "id": "Rq4tBGk2aEBQ",
        "outputId": "7f6f3f59-4f7a-4897-da2b-2929ff7d408b"
      },
      "execution_count": 9,
      "outputs": [
        {
          "output_type": "stream",
          "name": "stdout",
          "text": [
            "==========================================\n",
            " !Bienvenido(a) al Juego del Ahorcado :D! \n",
            "==========================================\n",
            "Te quedan 7 vidas y has usado estas letras:  \n",
            "\n",
            "Palabras:- - - - - - - - -\n",
            "Escoge una letra: a\n",
            "\n",
            "Te quedan 7 vidas y has usado estas letras:  A\n",
            "\n",
            "Palabras:- - - A - - - A -\n",
            "Escoge una letra: c\n",
            "\n",
            "Tu letra, C no está en la palabra.\n",
            "Te quedan 6 vidas y has usado estas letras:  C A\n",
            "\n",
            "               |\n",
            "               |\n",
            "               |\n",
            "               |\n",
            "               |\n",
            "            \n",
            "Palabras:- - - A - - - A -\n",
            "Escoge una letra: n\n",
            "\n",
            "Te quedan 6 vidas y has usado estas letras:  N C A\n",
            "\n",
            "               |\n",
            "               |\n",
            "               |\n",
            "               |\n",
            "               |\n",
            "            \n",
            "Palabras:- - - A - - N A -\n",
            "Escoge una letra: l\n",
            "\n",
            "Tu letra, L no está en la palabra.\n",
            "Te quedan 5 vidas y has usado estas letras:  N C L A\n",
            "\n",
            "                ___________\n",
            "               | /        \n",
            "               |/        \n",
            "               |          \n",
            "               |          \n",
            "               |\n",
            "            \n",
            "Palabras:- - - A - - N A -\n",
            "Escoge una letra: r\n",
            "\n",
            "Te quedan 5 vidas y has usado estas letras:  A R L N C\n",
            "\n",
            "                ___________\n",
            "               | /        \n",
            "               |/        \n",
            "               |          \n",
            "               |          \n",
            "               |\n",
            "            \n",
            "Palabras:- - - A - - N A R\n",
            "Escoge una letra: p\n",
            "\n",
            "Tu letra, P no está en la palabra.\n",
            "Te quedan 4 vidas y has usado estas letras:  A R L P N C\n",
            "\n",
            "                ___________\n",
            "               | /        | \n",
            "               |/        \n",
            "               |          \n",
            "               |          \n",
            "               |\n",
            "            \n",
            "Palabras:- - - A - - N A R\n",
            "Escoge una letra: e\n",
            "\n",
            "Te quedan 4 vidas y has usado estas letras:  A R L E P N C\n",
            "\n",
            "                ___________\n",
            "               | /        | \n",
            "               |/        \n",
            "               |          \n",
            "               |          \n",
            "               |\n",
            "            \n",
            "Palabras:- E - A - - N A R\n",
            "Escoge una letra: t\n",
            "\n",
            "Tu letra, T no está en la palabra.\n",
            "Te quedan 3 vidas y has usado estas letras:  A R L E T P N C\n",
            "\n",
            "                ___________\n",
            "               | /        | \n",
            "               |/        ( )\n",
            "               |          \n",
            "               |          \n",
            "               |\n",
            "            \n",
            "Palabras:- E - A - - N A R\n",
            "Escoge una letra: d\n",
            "\n",
            "Te quedan 3 vidas y has usado estas letras:  D A R L E T P N C\n",
            "\n",
            "                ___________\n",
            "               | /        | \n",
            "               |/        ( )\n",
            "               |          \n",
            "               |          \n",
            "               |\n",
            "            \n",
            "Palabras:D E - A - - N A R\n",
            "Escoge una letra: s\n",
            "\n",
            "Te quedan 3 vidas y has usado estas letras:  D A R S L E T P N C\n",
            "\n",
            "                ___________\n",
            "               | /        | \n",
            "               |/        ( )\n",
            "               |          \n",
            "               |          \n",
            "               |\n",
            "            \n",
            "Palabras:D E S A - - N A R\n",
            "Escoge una letra: f\n",
            "\n",
            "Tu letra, F no está en la palabra.\n",
            "Te quedan 2 vidas y has usado estas letras:  D F A R S L E T P N C\n",
            "\n",
            "                ___________\n",
            "               | /        | \n",
            "               |/        ( )\n",
            "               |          |\n",
            "               |          \n",
            "               |\n",
            "            \n",
            "Palabras:D E S A - - N A R\n",
            "Escoge una letra: y\n",
            "\n",
            "Te quedan 2 vidas y has usado estas letras:  D F A R S L E T Y P N C\n",
            "\n",
            "                ___________\n",
            "               | /        | \n",
            "               |/        ( )\n",
            "               |          |\n",
            "               |          \n",
            "               |\n",
            "            \n",
            "Palabras:D E S A Y - N A R\n",
            "Escoge una letra: u\n",
            "\n",
            "!Excelente! !Adivinaste la palabra DESAYUNAR :D!\n"
          ]
        }
      ]
    },
    {
      "cell_type": "markdown",
      "source": [
        "# Nueva sección"
      ],
      "metadata": {
        "id": "CfjOF-nQqd6o"
      }
    }
  ]
}