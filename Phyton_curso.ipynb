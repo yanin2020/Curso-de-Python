{
  "nbformat": 4,
  "nbformat_minor": 0,
  "metadata": {
    "colab": {
      "name": "Phyton_curso.ipynb",
      "provenance": [],
      "authorship_tag": "ABX9TyPFhjER40Jg8qHmka2/uUrX",
      "include_colab_link": true
    },
    "kernelspec": {
      "name": "python3",
      "display_name": "Python 3"
    },
    "language_info": {
      "name": "python"
    }
  },
  "cells": [
    {
      "cell_type": "markdown",
      "metadata": {
        "id": "view-in-github",
        "colab_type": "text"
      },
      "source": [
        "<a href=\"https://colab.research.google.com/github/yanin2020/OpenSource-RoadMap-DataScience/blob/master/Phyton_curso.ipynb\" target=\"_parent\"><img src=\"https://colab.research.google.com/assets/colab-badge.svg\" alt=\"Open In Colab\"/></a>"
      ]
    },
    {
      "cell_type": "markdown",
      "source": [
        "[CURSO FRECODECAMP](https://www.youtube.com/watch?v=DLikpfc64cA&ab_channel=freeCodeCampEspa%C3%B1ol)\n",
        "# ASIGNACIONES EN **PYTHON**"
      ],
      "metadata": {
        "id": "TJKsEFO0Sd_K"
      }
    },
    {
      "cell_type": "code",
      "source": [
        "edad *= 3\n",
        "edad"
      ],
      "metadata": {
        "colab": {
          "base_uri": "https://localhost:8080/"
        },
        "id": "iZnc7HdGVoEH",
        "outputId": "0b3197bb-501a-4057-9053-b99386c9f5df"
      },
      "execution_count": 15,
      "outputs": [
        {
          "output_type": "execute_result",
          "data": {
            "text/plain": [
              "147"
            ]
          },
          "metadata": {},
          "execution_count": 15
        }
      ]
    },
    {
      "cell_type": "code",
      "source": [
        "edad /= 2\n",
        "edad"
      ],
      "metadata": {
        "colab": {
          "base_uri": "https://localhost:8080/"
        },
        "id": "r33clOh-V69d",
        "outputId": "b9711e17-fbbb-472a-c0e1-5b593ece6333"
      },
      "execution_count": 16,
      "outputs": [
        {
          "output_type": "execute_result",
          "data": {
            "text/plain": [
              "73.5"
            ]
          },
          "metadata": {},
          "execution_count": 16
        }
      ]
    },
    {
      "cell_type": "code",
      "source": [
        "edad -= 2\n",
        "edad"
      ],
      "metadata": {
        "colab": {
          "base_uri": "https://localhost:8080/"
        },
        "id": "T4ma9jPbWHoG",
        "outputId": "e4bb0fc5-d331-499a-c8f3-bcd2c16f4556"
      },
      "execution_count": 17,
      "outputs": [
        {
          "output_type": "execute_result",
          "data": {
            "text/plain": [
              "71.5"
            ]
          },
          "metadata": {},
          "execution_count": 17
        }
      ]
    },
    {
      "cell_type": "code",
      "source": [
        "edad = 56\n",
        "edad += 3\n",
        "edad"
      ],
      "metadata": {
        "colab": {
          "base_uri": "https://localhost:8080/"
        },
        "id": "C2EqaXDlWNqN",
        "outputId": "a15ef285-0000-48b9-e010-0d7073cc9ab5"
      },
      "execution_count": 18,
      "outputs": [
        {
          "output_type": "execute_result",
          "data": {
            "text/plain": [
              "59"
            ]
          },
          "metadata": {},
          "execution_count": 18
        }
      ]
    },
    {
      "cell_type": "code",
      "source": [
        "num = 6\n",
        "num %= 2\n",
        "print (num)"
      ],
      "metadata": {
        "colab": {
          "base_uri": "https://localhost:8080/"
        },
        "id": "ZHekUpg3YABN",
        "outputId": "71b9fa9a-b6f1-46d8-f145-2d7893d19d21"
      },
      "execution_count": 30,
      "outputs": [
        {
          "output_type": "stream",
          "name": "stdout",
          "text": [
            "0\n"
          ]
        }
      ]
    },
    {
      "cell_type": "markdown",
      "source": [
        "Sentencia **Condicional**\n",
        "Instrucción o un grupo de instrucciones cuya ejecución depende del valor de una condición booleana."
      ],
      "metadata": {
        "id": "Wz0RGZ8EY7q4"
      }
    },
    {
      "cell_type": "code",
      "source": [
        "temp = 15\n",
        "if temp < 25:\n",
        "    print(\"Frío\")"
      ],
      "metadata": {
        "colab": {
          "base_uri": "https://localhost:8080/"
        },
        "id": "FKD-I_01cFbZ",
        "outputId": "19223258-e0ce-465a-dd8b-c72b7f05635e"
      },
      "execution_count": 44,
      "outputs": [
        {
          "output_type": "stream",
          "name": "stdout",
          "text": [
            "Frío\n"
          ]
        }
      ]
    },
    {
      "cell_type": "markdown",
      "source": [
        "**Condicional**"
      ],
      "metadata": {
        "id": "FA93NOjvd_2w"
      }
    },
    {
      "cell_type": "code",
      "source": [
        "temp = 15\n",
        "if temp < 25:\n",
        "        print (\"Frío\")\n",
        "else:\n",
        "        print (\"Calor\")"
      ],
      "metadata": {
        "colab": {
          "base_uri": "https://localhost:8080/"
        },
        "id": "f-LxxY1KdDVk",
        "outputId": "3b80446e-48f0-4d9c-c93a-995cff660617"
      },
      "execution_count": 45,
      "outputs": [
        {
          "output_type": "stream",
          "name": "stdout",
          "text": [
            "Frío\n"
          ]
        }
      ]
    },
    {
      "cell_type": "code",
      "source": [
        "temp = 30\n",
        "if temp < 25:\n",
        "        print (\"Frío\")\n",
        "else:\n",
        "        print (\"Calor\")"
      ],
      "metadata": {
        "colab": {
          "base_uri": "https://localhost:8080/"
        },
        "id": "FoPQMpi_eILc",
        "outputId": "4f9f20cc-f210-4b0f-f619-3701207583d8"
      },
      "execution_count": 46,
      "outputs": [
        {
          "output_type": "stream",
          "name": "stdout",
          "text": [
            "Calor\n"
          ]
        }
      ]
    },
    {
      "cell_type": "markdown",
      "source": [
        "Cláusula \"elif\""
      ],
      "metadata": {
        "id": "UqV4iNTvesOK"
      }
    },
    {
      "cell_type": "code",
      "source": [
        "temp = 0\n",
        "if temp <=0:\n",
        "        print(\"Muy Frío\")\n",
        "elif temp < 25:\n",
        "        print(\"Frío\")\n",
        "else:\n",
        "        print(\"Calor\")                    "
      ],
      "metadata": {
        "colab": {
          "base_uri": "https://localhost:8080/"
        },
        "id": "31VKI5MIfOgN",
        "outputId": "90314c62-535e-4676-ffd3-c4a3481f133a"
      },
      "execution_count": 49,
      "outputs": [
        {
          "output_type": "stream",
          "name": "stdout",
          "text": [
            "Muy Frío\n"
          ]
        }
      ]
    },
    {
      "cell_type": "code",
      "source": [
        "temp = 18\n",
        "if temp <=0:\n",
        "        print(\"Muy Frío\")\n",
        "elif temp < 25:\n",
        "        print(\"Frío\")\n",
        "else:\n",
        "        print(\"Calor\")                    "
      ],
      "metadata": {
        "colab": {
          "base_uri": "https://localhost:8080/"
        },
        "id": "sz_FKoW6gk2p",
        "outputId": "a9963de6-d72f-46a5-d6c2-c05336a58875"
      },
      "execution_count": 52,
      "outputs": [
        {
          "output_type": "stream",
          "name": "stdout",
          "text": [
            "Frío\n"
          ]
        }
      ]
    },
    {
      "cell_type": "markdown",
      "source": [
        "**Puede haber más de una cláusula \"elif\",pero solo una cláusula \"else\"**"
      ],
      "metadata": {
        "id": "693YzOUuhgF9"
      }
    },
    {
      "cell_type": "markdown",
      "source": [
        "**COMENTARIOS**"
      ],
      "metadata": {
        "id": "r2OCi6OeiIaG"
      }
    },
    {
      "cell_type": "code",
      "source": [
        "# Número de estudiantes\n",
        "# registrados en el salón 56\n",
        "num_estudiantes = 33\n",
        "print(num_estudiantes)"
      ],
      "metadata": {
        "colab": {
          "base_uri": "https://localhost:8080/"
        },
        "id": "42DBsFhuiOTn",
        "outputId": "da819f49-5913-476c-ab89-740c5f8aa9ee"
      },
      "execution_count": 53,
      "outputs": [
        {
          "output_type": "stream",
          "name": "stdout",
          "text": [
            "33\n"
          ]
        }
      ]
    },
    {
      "cell_type": "markdown",
      "source": [
        "\n",
        "LISTA: Estructura de datos utilizada para almacenar múltiples valores en secuencia."
      ],
      "metadata": {
        "id": "yzepKB7hkoa5"
      }
    },
    {
      "cell_type": "code",
      "source": [
        "letras = [\"a\", \"b\", \"c\", \"d\"]\n",
        "letras[0]"
      ],
      "metadata": {
        "colab": {
          "base_uri": "https://localhost:8080/",
          "height": 35
        },
        "id": "XU8-HD-XlP6n",
        "outputId": "ca066129-5465-40f6-a979-cc0ef2f1df39"
      },
      "execution_count": 54,
      "outputs": [
        {
          "output_type": "execute_result",
          "data": {
            "application/vnd.google.colaboratory.intrinsic+json": {
              "type": "string"
            },
            "text/plain": [
              "'a'"
            ]
          },
          "metadata": {},
          "execution_count": 54
        }
      ]
    }
  ]
}