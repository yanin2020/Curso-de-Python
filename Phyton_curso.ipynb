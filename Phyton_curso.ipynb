{
  "nbformat": 4,
  "nbformat_minor": 0,
  "metadata": {
    "colab": {
      "name": "Phyton_curso.ipynb",
      "provenance": [],
      "collapsed_sections": [],
      "authorship_tag": "ABX9TyPw+IzW6JYuLfU+nV7742dG",
      "include_colab_link": true
    },
    "kernelspec": {
      "name": "python3",
      "display_name": "Python 3"
    },
    "language_info": {
      "name": "python"
    }
  },
  "cells": [
    {
      "cell_type": "markdown",
      "metadata": {
        "id": "view-in-github",
        "colab_type": "text"
      },
      "source": [
        "<a href=\"https://colab.research.google.com/github/yanin2020/Curso-de-Python/blob/master/Phyton_curso.ipynb\" target=\"_parent\"><img src=\"https://colab.research.google.com/assets/colab-badge.svg\" alt=\"Open In Colab\"/></a>"
      ]
    },
    {
      "cell_type": "markdown",
      "source": [
        "[CURSO FRECODECAMP](https://www.youtube.com/watch?v=DLikpfc64cA&ab_channel=freeCodeCampEspa%C3%B1ol)\n",
        "# ASIGNACIONES EN **PYTHON**"
      ],
      "metadata": {
        "id": "TJKsEFO0Sd_K"
      }
    },
    {
      "cell_type": "code",
      "source": [
        "edad *= 3\n",
        "edad"
      ],
      "metadata": {
        "colab": {
          "base_uri": "https://localhost:8080/"
        },
        "id": "iZnc7HdGVoEH",
        "outputId": "0b3197bb-501a-4057-9053-b99386c9f5df"
      },
      "execution_count": null,
      "outputs": [
        {
          "output_type": "execute_result",
          "data": {
            "text/plain": [
              "147"
            ]
          },
          "metadata": {},
          "execution_count": 15
        }
      ]
    },
    {
      "cell_type": "code",
      "source": [
        "edad /= 2\n",
        "edad"
      ],
      "metadata": {
        "colab": {
          "base_uri": "https://localhost:8080/"
        },
        "id": "r33clOh-V69d",
        "outputId": "b9711e17-fbbb-472a-c0e1-5b593ece6333"
      },
      "execution_count": null,
      "outputs": [
        {
          "output_type": "execute_result",
          "data": {
            "text/plain": [
              "73.5"
            ]
          },
          "metadata": {},
          "execution_count": 16
        }
      ]
    },
    {
      "cell_type": "code",
      "source": [
        "edad -= 2\n",
        "edad"
      ],
      "metadata": {
        "colab": {
          "base_uri": "https://localhost:8080/"
        },
        "id": "T4ma9jPbWHoG",
        "outputId": "e4bb0fc5-d331-499a-c8f3-bcd2c16f4556"
      },
      "execution_count": null,
      "outputs": [
        {
          "output_type": "execute_result",
          "data": {
            "text/plain": [
              "71.5"
            ]
          },
          "metadata": {},
          "execution_count": 17
        }
      ]
    },
    {
      "cell_type": "code",
      "source": [
        "edad = 56\n",
        "edad += 3\n",
        "edad"
      ],
      "metadata": {
        "colab": {
          "base_uri": "https://localhost:8080/"
        },
        "id": "C2EqaXDlWNqN",
        "outputId": "a15ef285-0000-48b9-e010-0d7073cc9ab5"
      },
      "execution_count": null,
      "outputs": [
        {
          "output_type": "execute_result",
          "data": {
            "text/plain": [
              "59"
            ]
          },
          "metadata": {},
          "execution_count": 18
        }
      ]
    },
    {
      "cell_type": "code",
      "source": [
        "num = 6\n",
        "num %= 2\n",
        "print (num)"
      ],
      "metadata": {
        "colab": {
          "base_uri": "https://localhost:8080/"
        },
        "id": "ZHekUpg3YABN",
        "outputId": "71b9fa9a-b6f1-46d8-f145-2d7893d19d21"
      },
      "execution_count": null,
      "outputs": [
        {
          "output_type": "stream",
          "name": "stdout",
          "text": [
            "0\n"
          ]
        }
      ]
    },
    {
      "cell_type": "markdown",
      "source": [
        "Sentencia **Condicional**\n",
        "Instrucción o un grupo de instrucciones cuya ejecución depende del valor de una condición booleana."
      ],
      "metadata": {
        "id": "Wz0RGZ8EY7q4"
      }
    },
    {
      "cell_type": "code",
      "source": [
        "temp = 15\n",
        "if temp < 25:\n",
        "    print(\"Frío\")"
      ],
      "metadata": {
        "colab": {
          "base_uri": "https://localhost:8080/"
        },
        "id": "FKD-I_01cFbZ",
        "outputId": "19223258-e0ce-465a-dd8b-c72b7f05635e"
      },
      "execution_count": null,
      "outputs": [
        {
          "output_type": "stream",
          "name": "stdout",
          "text": [
            "Frío\n"
          ]
        }
      ]
    },
    {
      "cell_type": "markdown",
      "source": [
        "**Condicional**"
      ],
      "metadata": {
        "id": "FA93NOjvd_2w"
      }
    },
    {
      "cell_type": "code",
      "source": [
        "temp = 15\n",
        "if temp < 25:\n",
        "        print (\"Frío\")\n",
        "else:\n",
        "        print (\"Calor\")"
      ],
      "metadata": {
        "colab": {
          "base_uri": "https://localhost:8080/"
        },
        "id": "f-LxxY1KdDVk",
        "outputId": "3b80446e-48f0-4d9c-c93a-995cff660617"
      },
      "execution_count": null,
      "outputs": [
        {
          "output_type": "stream",
          "name": "stdout",
          "text": [
            "Frío\n"
          ]
        }
      ]
    },
    {
      "cell_type": "code",
      "source": [
        "temp = 30\n",
        "if temp < 25:\n",
        "        print (\"Frío\")\n",
        "else:\n",
        "        print (\"Calor\")"
      ],
      "metadata": {
        "colab": {
          "base_uri": "https://localhost:8080/"
        },
        "id": "FoPQMpi_eILc",
        "outputId": "4f9f20cc-f210-4b0f-f619-3701207583d8"
      },
      "execution_count": null,
      "outputs": [
        {
          "output_type": "stream",
          "name": "stdout",
          "text": [
            "Calor\n"
          ]
        }
      ]
    },
    {
      "cell_type": "markdown",
      "source": [
        "Cláusula \"elif\""
      ],
      "metadata": {
        "id": "UqV4iNTvesOK"
      }
    },
    {
      "cell_type": "code",
      "source": [
        "temp = 0\n",
        "if temp <=0:\n",
        "        print(\"Muy Frío\")\n",
        "elif temp < 25:\n",
        "        print(\"Frío\")\n",
        "else:\n",
        "        print(\"Calor\")                    "
      ],
      "metadata": {
        "colab": {
          "base_uri": "https://localhost:8080/"
        },
        "id": "31VKI5MIfOgN",
        "outputId": "90314c62-535e-4676-ffd3-c4a3481f133a"
      },
      "execution_count": null,
      "outputs": [
        {
          "output_type": "stream",
          "name": "stdout",
          "text": [
            "Muy Frío\n"
          ]
        }
      ]
    },
    {
      "cell_type": "code",
      "source": [
        "temp = 18\n",
        "if temp <=0:\n",
        "        print(\"Muy Frío\")\n",
        "elif temp < 25:\n",
        "        print(\"Frío\")\n",
        "else:\n",
        "        print(\"Calor\")                    "
      ],
      "metadata": {
        "colab": {
          "base_uri": "https://localhost:8080/"
        },
        "id": "sz_FKoW6gk2p",
        "outputId": "a9963de6-d72f-46a5-d6c2-c05336a58875"
      },
      "execution_count": null,
      "outputs": [
        {
          "output_type": "stream",
          "name": "stdout",
          "text": [
            "Frío\n"
          ]
        }
      ]
    },
    {
      "cell_type": "markdown",
      "source": [
        "**Puede haber más de una cláusula \"elif\",pero solo una cláusula \"else\"**"
      ],
      "metadata": {
        "id": "693YzOUuhgF9"
      }
    },
    {
      "cell_type": "markdown",
      "source": [
        "**COMENTARIOS**"
      ],
      "metadata": {
        "id": "r2OCi6OeiIaG"
      }
    },
    {
      "cell_type": "code",
      "source": [
        "# Número de estudiantes\n",
        "# registrados en el salón 56\n",
        "num_estudiantes = 33\n",
        "print(num_estudiantes)"
      ],
      "metadata": {
        "colab": {
          "base_uri": "https://localhost:8080/"
        },
        "id": "42DBsFhuiOTn",
        "outputId": "da819f49-5913-476c-ab89-740c5f8aa9ee"
      },
      "execution_count": null,
      "outputs": [
        {
          "output_type": "stream",
          "name": "stdout",
          "text": [
            "33\n"
          ]
        }
      ]
    },
    {
      "cell_type": "markdown",
      "source": [
        "\n",
        "LISTA: Estructura de datos utilizada para almacenar múltiples valores en secuencia."
      ],
      "metadata": {
        "id": "yzepKB7hkoa5"
      }
    },
    {
      "cell_type": "code",
      "source": [
        "letras = [\"a\", \"b\", \"c\", \"d\"]\n",
        "letras[0]"
      ],
      "metadata": {
        "colab": {
          "base_uri": "https://localhost:8080/",
          "height": 35
        },
        "id": "XU8-HD-XlP6n",
        "outputId": "ca066129-5465-40f6-a979-cc0ef2f1df39"
      },
      "execution_count": null,
      "outputs": [
        {
          "output_type": "execute_result",
          "data": {
            "application/vnd.google.colaboratory.intrinsic+json": {
              "type": "string"
            },
            "text/plain": [
              "'a'"
            ]
          },
          "metadata": {},
          "execution_count": 54
        }
      ]
    },
    {
      "cell_type": "markdown",
      "source": [
        "Como principal diferencia entre las listas y las tuplas en Python es que las listas son mutables y llevan corchetes,pero las tuplas son inmutables y llevan parentesís."
      ],
      "metadata": {
        "id": "VqRpQDgEuE74"
      }
    },
    {
      "cell_type": "markdown",
      "source": [
        "**Diccionarios:** Colección de pares clave-valor. \n",
        "**Caraterísticas**:\n",
        "1. Las claves deben ser únicas e inmutables.\n",
        "2. Los valores asociados pueden ser de cualquier tipo.\n",
        "3. La clave se usa para acceder a su valor asociado.\n",
        "4. Los pares clave-valor pueden ser modificados, añadidos, y eliminados.\n"
      ],
      "metadata": {
        "id": "li8CmPzuut0J"
      }
    },
    {
      "cell_type": "code",
      "source": [
        "# Acceder a un diccionario.\n",
        "edades = {\"Gino\": 15, \"Nora\": 45}\n",
        "edades[\"Gino\"] "
      ],
      "metadata": {
        "colab": {
          "base_uri": "https://localhost:8080/"
        },
        "id": "FEglNxzyxZyE",
        "outputId": "e1b0e027-fbc2-413b-c132-283426b15db7"
      },
      "execution_count": null,
      "outputs": [
        {
          "output_type": "execute_result",
          "data": {
            "text/plain": [
              "15"
            ]
          },
          "metadata": {},
          "execution_count": 2
        }
      ]
    },
    {
      "cell_type": "code",
      "source": [
        "edades = {\"Gino\": 15, \"Nora\": 45}\n",
        "edades[\"Nora\"]"
      ],
      "metadata": {
        "colab": {
          "base_uri": "https://localhost:8080/"
        },
        "id": "2Y0LFAp-yRVC",
        "outputId": "6276183e-810d-4d17-acd6-659c301ee02c"
      },
      "execution_count": null,
      "outputs": [
        {
          "output_type": "execute_result",
          "data": {
            "text/plain": [
              "45"
            ]
          },
          "metadata": {},
          "execution_count": 3
        }
      ]
    },
    {
      "cell_type": "code",
      "source": [
        "# El método get cumple la misma función\n",
        "edades = {\"Gino\": 15, \"Nora\": 45}\n",
        "edades.get(\"Gino\")"
      ],
      "metadata": {
        "colab": {
          "base_uri": "https://localhost:8080/"
        },
        "id": "TY7L9WHvynMw",
        "outputId": "cc47580a-7610-46d2-fc35-ff63272cddcf"
      },
      "execution_count": null,
      "outputs": [
        {
          "output_type": "execute_result",
          "data": {
            "text/plain": [
              "15"
            ]
          },
          "metadata": {},
          "execution_count": 4
        }
      ]
    },
    {
      "cell_type": "code",
      "source": [
        "# Cómo agregar valores nuevos al diccionario.\n",
        "edades = {\"Gino\": 15, \"Nora\": 45}\n",
        "edades[\"Rita\"] = 67\n",
        "edades"
      ],
      "metadata": {
        "colab": {
          "base_uri": "https://localhost:8080/"
        },
        "id": "G0z1GzV9zK2x",
        "outputId": "240444fa-9c1d-4ad1-9a47-f5d5ff342c3c"
      },
      "execution_count": null,
      "outputs": [
        {
          "output_type": "execute_result",
          "data": {
            "text/plain": [
              "{'Gino': 15, 'Nora': 45, 'Rita': 67}"
            ]
          },
          "metadata": {},
          "execution_count": 5
        }
      ]
    },
    {
      "cell_type": "code",
      "source": [
        "# Cambiando valor de una llave.\n",
        "edades = {\"Gino\": 15, \"Nora\": 45}\n",
        "edades[\"Gino\"] = 17\n",
        "edades"
      ],
      "metadata": {
        "colab": {
          "base_uri": "https://localhost:8080/"
        },
        "id": "y-rSFawDzkz5",
        "outputId": "82ea77aa-55b5-4163-d49b-9a132b2bdba7"
      },
      "execution_count": null,
      "outputs": [
        {
          "output_type": "execute_result",
          "data": {
            "text/plain": [
              "{'Gino': 17, 'Nora': 45}"
            ]
          },
          "metadata": {},
          "execution_count": 6
        }
      ]
    },
    {
      "cell_type": "code",
      "source": [
        "# Borrar claves de un diccionario.\n",
        "edades = {\"Gino\": 15, \"Nora\": 45}\n",
        "del edades[\"Gino\"]\n",
        "edades"
      ],
      "metadata": {
        "colab": {
          "base_uri": "https://localhost:8080/"
        },
        "id": "Ju-SA2g50jTG",
        "outputId": "85cca0d0-fa53-432d-92b1-ecc1f28a8140"
      },
      "execution_count": null,
      "outputs": [
        {
          "output_type": "execute_result",
          "data": {
            "text/plain": [
              "{'Nora': 45}"
            ]
          },
          "metadata": {},
          "execution_count": 7
        }
      ]
    },
    {
      "cell_type": "code",
      "source": [
        "# Busca si existe una llave en el diccionario y retorna un valor booleano que es true o false.\n",
        "edades = {\"Gino\": 15, \"Nora\": 45} \n",
        "\"Gino\" in edades"
      ],
      "metadata": {
        "colab": {
          "base_uri": "https://localhost:8080/"
        },
        "id": "jiqzOER50_HH",
        "outputId": "c077a2af-3e35-4cc3-9645-9bb8d9fcf612"
      },
      "execution_count": null,
      "outputs": [
        {
          "output_type": "execute_result",
          "data": {
            "text/plain": [
              "True"
            ]
          },
          "metadata": {},
          "execution_count": 8
        }
      ]
    },
    {
      "cell_type": "code",
      "source": [
        "edades = {\"Gino\": 15, \"Nora\": 45} \n",
        "\"Emily\" in edades"
      ],
      "metadata": {
        "colab": {
          "base_uri": "https://localhost:8080/"
        },
        "id": "oUlOXGrQ1We_",
        "outputId": "ddff64c1-ee4f-43c0-fcf1-387dd5eb30f5"
      },
      "execution_count": null,
      "outputs": [
        {
          "output_type": "execute_result",
          "data": {
            "text/plain": [
              "False"
            ]
          },
          "metadata": {},
          "execution_count": 9
        }
      ]
    },
    {
      "cell_type": "code",
      "source": [
        "edades = {\"Gino\": 15, \"Nora\": 45} \n",
        "\"Nora\" in edades"
      ],
      "metadata": {
        "colab": {
          "base_uri": "https://localhost:8080/"
        },
        "id": "FPbs0-_d1aV2",
        "outputId": "525e22f5-58f3-41c5-f0e0-47f99a3c081b"
      },
      "execution_count": null,
      "outputs": [
        {
          "output_type": "execute_result",
          "data": {
            "text/plain": [
              "True"
            ]
          },
          "metadata": {},
          "execution_count": 10
        }
      ]
    },
    {
      "cell_type": "markdown",
      "source": [
        "**Ciclos For**: Es la estructura de control en programación que permite ejecutar una o varias líneas de código múltiples veces. Los usamos cuando sabemos con antelación cuántas veces debemos repetir ciertas.\n",
        "\n",
        "![ciclo for.JPG](data:image/jpeg;base64,/9j/4AAQSkZJRgABAQEAYABgAAD/4RDQRXhpZgAATU0AKgAAAAgABAE7AAIAAAADcGMAAIdpAAQAAAABAAAISpydAAEAAAAGAAAQwuocAAcAAAgMAAAAPgAAAAAc6gAAAAgAAAAAAAAAAAAAAAAAAAAAAAAAAAAAAAAAAAAAAAAAAAAAAAAAAAAAAAAAAAAAAAAAAAAAAAAAAAAAAAAAAAAAAAAAAAAAAAAAAAAAAAAAAAAAAAAAAAAAAAAAAAAAAAAAAAAAAAAAAAAAAAAAAAAAAAAAAAAAAAAAAAAAAAAAAAAAAAAAAAAAAAAAAAAAAAAAAAAAAAAAAAAAAAAAAAAAAAAAAAAAAAAAAAAAAAAAAAAAAAAAAAAAAAAAAAAAAAAAAAAAAAAAAAAAAAAAAAAAAAAAAAAAAAAAAAAAAAAAAAAAAAAAAAAAAAAAAAAAAAAAAAAAAAAAAAAAAAAAAAAAAAAAAAAAAAAAAAAAAAAAAAAAAAAAAAAAAAAAAAAAAAAAAAAAAAAAAAAAAAAAAAAAAAAAAAAAAAAAAAAAAAAAAAAAAAAAAAAAAAAAAAAAAAAAAAAAAAAAAAAAAAAAAAAAAAAAAAAAAAAAAAAAAAAAAAAAAAAAAAAAAAAAAAAAAAAAAAAAAAAAAAAAAAAAAAAAAAAAAAAAAAAAAAAAAAAAAAAAAAAAAAAAAAAAAAAAAAAAAAAAAAAAAAAAAAAAAAAAAAAAAAAAAAAAAAAAAAAAAAAAAAAAAAAAAAAAAAAAAAAAAAAAAAAAAAAAAAAAAAAAAAAAAAAAAAAAAAAAAAAAAAAAAAAAAAAAAAAAAAAAAAAAAAAAAAAAAAAAAAAAAAAAAAAAAAAAAAAAAAAAAAAAAAAAAAAAAAAAAAAAAAAAAAAAAAAAAAAAAAAAAAAAAAAAAAAAAAAAAAAAAAAAAAAAAAAAAAAAAAAAAAAAAAAAAAAAAAAAAAAAAAAAAAAAAAAAAAAAAAAAAAAAAAAAAAAAAAAAAAAAAAAAAAAAAAAAAAAAAAAAAAAAAAAAAAAAAAAAAAAAAAAAAAAAAAAAAAAAAAAAAAAAAAAAAAAAAAAAAAAAAAAAAAAAAAAAAAAAAAAAAAAAAAAAAAAAAAAAAAAAAAAAAAAAAAAAAAAAAAAAAAAAAAAAAAAAAAAAAAAAAAAAAAAAAAAAAAAAAAAAAAAAAAAAAAAAAAAAAAAAAAAAAAAAAAAAAAAAAAAAAAAAAAAAAAAAAAAAAAAAAAAAAAAAAAAAAAAAAAAAAAAAAAAAAAAAAAAAAAAAAAAAAAAAAAAAAAAAAAAAAAAAAAAAAAAAAAAAAAAAAAAAAAAAAAAAAAAAAAAAAAAAAAAAAAAAAAAAAAAAAAAAAAAAAAAAAAAAAAAAAAAAAAAAAAAAAAAAAAAAAAAAAAAAAAAAAAAAAAAAAAAAAAAAAAAAAAAAAAAAAAAAAAAAAAAAAAAAAAAAAAAAAAAAAAAAAAAAAAAAAAAAAAAAAAAAAAAAAAAAAAAAAAAAAAAAAAAAAAAAAAAAAAAAAAAAAAAAAAAAAAAAAAAAAAAAAAAAAAAAAAAAAAAAAAAAAAAAAAAAAAAAAAAAAAAAAAAAAAAAAAAAAAAAAAAAAAAAAAAAAAAAAAAAAAAAAAAAAAAAAAAAAAAAAAAAAAAAAAAAAAAAAAAAAAAAAAAAAAAAAAAAAAAAAAAAAAAAAAAAAAAAAAAAAAAAAAAAAAAAAAAAAAAAAAAAAAAAAAAAAAAAAAAAAAAAAAAAAAAAAAAAAAAAAAAAAAAAAAAAAAAAAAAAAAAAAAAAAAAAAAAAAAAAAAAAAAAAAAAAAAAAAAAAAAAAAAAAAAAAAAAAAAAAAAAAAAAAAAAAAAAAAAAAAAAAAAAAAAAAAAAAAAAAAAAAAAAAAAAAAAAAAAAAAAAAAAAAAAAAAAAAAAAAAAAAAAAAAAAAAAAAAAAAAAAAAAAAAAAAAAAAAAAAAAAAAAAAAAAAAAAAAAAAAAAAAAAAAAAAAAAAAAAAAAAAAAAAAAAAAAAAAAAAAAAAAAAAAAAAAAAAAAAAAAAAAAAAAAAAAAAAAAAAAAAAAAAAAAAAAAAAAAAAAAAAAAAAAAAAAAAAAAAAAAAAAAAAAAAAAAAAAAAAAAAAAAAAAAAAAAAAAAAAAAAAAAAAAAAAAAAAAAAAAAAAAAAAAAAAAAAAAAAAAAAAAAAAAAAAAAAAAAAAAAAAAAAAAAAAAAAAAAAAAAAAAAAAAAAAAAAAAAAAAAAAAAAAAAAAAAAAAAAAAAAAAAAAAAAAAAAAAAAAAAAAAAAAAAAAAAAAAAAAAAAAAAAAAAAAAAAAAAAAAAAAAAAAAAAAAAAAAAAAAAAAAAAAAAAAAAAAAAAAAAAAAAAAAAAAAAAAAAAAAAAAAAAAAAAAAAAAAAAAAAAAAAAAAAAAAAAAAAAAAAAAAAAAAAAAAAAAAAAAAAAAAAAAAAAAAAAAAAAAAAAAAAAAAAAAAAAAAAAAAAAAAAAAAAAAAAAAAAAAAAAAAAAAAAAAAAAAAAAAAAAAAAAAAAAAAAAAAAAAAAAAAAAAAAAAAAAAAAAAAAAAAAAAAAAAAAAAAAAAAAAAAAAAAAAAAAAAAAAAAAAAAAAAAAAAAAAAAAAAAAAAAAAAAAAAAAAAAAAAAAAAAAAAAAAAAAAAAAAAAAAAAAAAAAAAAAAAAAAAAAAAAAAAAAAAAAAAAAAAAAAAAAAAAAAAAAAAAAAAAAAAAAAAAAAAAAAAAAAAAAAAAAAAAAAAAAAAAAAAAAAAAAAAAAAAAAAAAAAAAAAAAAAAAAAAAAAAAAAAAAAAAAAAAAAAAAAAAAAAAAAAAAAAAAAAAAAAAAAAAAAAAAAAAAAFkAMAAgAAABQAABCYkAQAAgAAABQAABCskpEAAgAAAAMzMAAAkpIAAgAAAAMzMAAA6hwABwAACAwAAAiMAAAAABzqAAAACAAAAAAAAAAAAAAAAAAAAAAAAAAAAAAAAAAAAAAAAAAAAAAAAAAAAAAAAAAAAAAAAAAAAAAAAAAAAAAAAAAAAAAAAAAAAAAAAAAAAAAAAAAAAAAAAAAAAAAAAAAAAAAAAAAAAAAAAAAAAAAAAAAAAAAAAAAAAAAAAAAAAAAAAAAAAAAAAAAAAAAAAAAAAAAAAAAAAAAAAAAAAAAAAAAAAAAAAAAAAAAAAAAAAAAAAAAAAAAAAAAAAAAAAAAAAAAAAAAAAAAAAAAAAAAAAAAAAAAAAAAAAAAAAAAAAAAAAAAAAAAAAAAAAAAAAAAAAAAAAAAAAAAAAAAAAAAAAAAAAAAAAAAAAAAAAAAAAAAAAAAAAAAAAAAAAAAAAAAAAAAAAAAAAAAAAAAAAAAAAAAAAAAAAAAAAAAAAAAAAAAAAAAAAAAAAAAAAAAAAAAAAAAAAAAAAAAAAAAAAAAAAAAAAAAAAAAAAAAAAAAAAAAAAAAAAAAAAAAAAAAAAAAAAAAAAAAAAAAAAAAAAAAAAAAAAAAAAAAAAAAAAAAAAAAAAAAAAAAAAAAAAAAAAAAAAAAAAAAAAAAAAAAAAAAAAAAAAAAAAAAAAAAAAAAAAAAAAAAAAAAAAAAAAAAAAAAAAAAAAAAAAAAAAAAAAAAAAAAAAAAAAAAAAAAAAAAAAAAAAAAAAAAAAAAAAAAAAAAAAAAAAAAAAAAAAAAAAAAAAAAAAAAAAAAAAAAAAAAAAAAAAAAAAAAAAAAAAAAAAAAAAAAAAAAAAAAAAAAAAAAAAAAAAAAAAAAAAAAAAAAAAAAAAAAAAAAAAAAAAAAAAAAAAAAAAAAAAAAAAAAAAAAAAAAAAAAAAAAAAAAAAAAAAAAAAAAAAAAAAAAAAAAAAAAAAAAAAAAAAAAAAAAAAAAAAAAAAAAAAAAAAAAAAAAAAAAAAAAAAAAAAAAAAAAAAAAAAAAAAAAAAAAAAAAAAAAAAAAAAAAAAAAAAAAAAAAAAAAAAAAAAAAAAAAAAAAAAAAAAAAAAAAAAAAAAAAAAAAAAAAAAAAAAAAAAAAAAAAAAAAAAAAAAAAAAAAAAAAAAAAAAAAAAAAAAAAAAAAAAAAAAAAAAAAAAAAAAAAAAAAAAAAAAAAAAAAAAAAAAAAAAAAAAAAAAAAAAAAAAAAAAAAAAAAAAAAAAAAAAAAAAAAAAAAAAAAAAAAAAAAAAAAAAAAAAAAAAAAAAAAAAAAAAAAAAAAAAAAAAAAAAAAAAAAAAAAAAAAAAAAAAAAAAAAAAAAAAAAAAAAAAAAAAAAAAAAAAAAAAAAAAAAAAAAAAAAAAAAAAAAAAAAAAAAAAAAAAAAAAAAAAAAAAAAAAAAAAAAAAAAAAAAAAAAAAAAAAAAAAAAAAAAAAAAAAAAAAAAAAAAAAAAAAAAAAAAAAAAAAAAAAAAAAAAAAAAAAAAAAAAAAAAAAAAAAAAAAAAAAAAAAAAAAAAAAAAAAAAAAAAAAAAAAAAAAAAAAAAAAAAAAAAAAAAAAAAAAAAAAAAAAAAAAAAAAAAAAAAAAAAAAAAAAAAAAAAAAAAAAAAAAAAAAAAAAAAAAAAAAAAAAAAAAAAAAAAAAAAAAAAAAAAAAAAAAAAAAAAAAAAAAAAAAAAAAAAAAAAAAAAAAAAAAAAAAAAAAAAAAAAAAAAAAAAAAAAAAAAAAAAAAAAAAAAAAAAAAAAAAAAAAAAAAAAAAAAAAAAAAAAAAAAAAAAAAAAAAAAAAAAAAAAAAAAAAAAAAAAAAAAAAAAAAAAAAAAAAAAAAAAAAAAAAAAAAAAAAAAAAAAAAAAAAAAAAAAAAAAAAAAAAAAAAAAAAAAAAAAAAAAAAAAAAAAAAAAAAAAAAAAAAAAAAAAAAAAAAAAAAAAAAAAAAAAAAAAAAAAAAAAAAAAAAAAAAAAAAAAAAAAAAAAAAAAAAAAAAAAAAAAAAAAAAAAAAAAAAAAAAAAAAAAAAAAAAAAAAAAAAAAAAAAAAAAAAAAAAAAAAAAAAAAAAAAAAAAAAAAAAAAAAAAAAAAAAAAAAAAAAAAAAAAAAAAAAAAAAAAAAAAAAAAAAAAAAAAAAAAAAAAAAAAAAAAAAAAAAAAAAAAAAAAAAAAAAAAAAAAAAAAAAAAAAAAAAAAAAAAAAAAAAAAAAAAAAAAAAAAAAAAAAAAAAAAAAAAAAAAAAAAAAAAAAAAAAAAAAAAAAAAAAAAAAAAAAAAAAAAAAAAAAAAAAAAAAAAAAAAAAAAAAAAAAAAAAAAAAAAAAAAAAAAAAAAAAAAAAAAAAAAAAAAAAAAAAAAAAAAAAAAAAAAAAAAAAAAAAAAAAAAAAAAAAAAAAAAAAAAAAAAAAAAAAAAAAAAAAAAAAAAAAAAAAAAAAAAAAAAAAAAAAAAAAAAAAAAAAAAAAAAAAAAAAAAAAAAAAAAAAAAAAAAAAAAAAAAAAAAAAAAAAAAAAAAAAAAAAAAAAAAAAAAAAAAAAAAAAAAAAAAAAAAAAAAAAAAAAAAAAAAAAAAAAAAAAAAAAAAAAAAAAAAAAAAAAAAAAAAAAAAAAAAAAAAAAAAAAAAAAAAAAAAAAAAAAAAAAAAAAAAAAAAAAAAAAAAAAAAAAAAAAAAAAAAAAAAAAAAAAAAAAAAAAAAAAAAAAAAAAAAAAAAAAAAAAAAAAAAAAAAAAAAAAAAAAAAAAAAAAAAAAAAAAAAAAAAAAAAAAAAAAAAAAAAAAAAAAAAAAAAAAAAAAAAAAAAAAAAAMjAyMToxMjoxNSAxNjoyOTo0NgAyMDIxOjEyOjE1IDE2OjI5OjQ2AAAAcABjAAAA/+ELFWh0dHA6Ly9ucy5hZG9iZS5jb20veGFwLzEuMC8APD94cGFja2V0IGJlZ2luPSfvu78nIGlkPSdXNU0wTXBDZWhpSHpyZVN6TlRjemtjOWQnPz4NCjx4OnhtcG1ldGEgeG1sbnM6eD0iYWRvYmU6bnM6bWV0YS8iPjxyZGY6UkRGIHhtbG5zOnJkZj0iaHR0cDovL3d3dy53My5vcmcvMTk5OS8wMi8yMi1yZGYtc3ludGF4LW5zIyI+PHJkZjpEZXNjcmlwdGlvbiByZGY6YWJvdXQ9InV1aWQ6ZmFmNWJkZDUtYmEzZC0xMWRhLWFkMzEtZDMzZDc1MTgyZjFiIiB4bWxuczpkYz0iaHR0cDovL3B1cmwub3JnL2RjL2VsZW1lbnRzLzEuMS8iLz48cmRmOkRlc2NyaXB0aW9uIHJkZjphYm91dD0idXVpZDpmYWY1YmRkNS1iYTNkLTExZGEtYWQzMS1kMzNkNzUxODJmMWIiIHhtbG5zOnhtcD0iaHR0cDovL25zLmFkb2JlLmNvbS94YXAvMS4wLyI+PHhtcDpDcmVhdGVEYXRlPjIwMjEtMTItMTVUMTY6Mjk6NDYuMzAxPC94bXA6Q3JlYXRlRGF0ZT48L3JkZjpEZXNjcmlwdGlvbj48cmRmOkRlc2NyaXB0aW9uIHJkZjphYm91dD0idXVpZDpmYWY1YmRkNS1iYTNkLTExZGEtYWQzMS1kMzNkNzUxODJmMWIiIHhtbG5zOmRjPSJodHRwOi8vcHVybC5vcmcvZGMvZWxlbWVudHMvMS4xLyI+PGRjOmNyZWF0b3I+PHJkZjpTZXEgeG1sbnM6cmRmPSJodHRwOi8vd3d3LnczLm9yZy8xOTk5LzAyLzIyLXJkZi1zeW50YXgtbnMjIj48cmRmOmxpPnBjPC9yZGY6bGk+PC9yZGY6U2VxPg0KCQkJPC9kYzpjcmVhdG9yPjwvcmRmOkRlc2NyaXB0aW9uPjwvcmRmOlJERj48L3g6eG1wbWV0YT4NCiAgICAgICAgICAgICAgICAgICAgICAgICAgICAgICAgICAgICAgICAgICAgICAgICAgICAgICAgICAgICAgICAgICAgICAgICAgICAgICAgICAgICAgICAgICAgICAgICAgICAKICAgICAgICAgICAgICAgICAgICAgICAgICAgICAgICAgICAgICAgICAgICAgICAgICAgICAgICAgICAgICAgICAgICAgICAgICAgICAgICAgICAgICAgICAgICAgICAgICAgIAogICAgICAgICAgICAgICAgICAgICAgICAgICAgICAgICAgICAgICAgICAgICAgICAgICAgICAgICAgICAgICAgICAgICAgICAgICAgICAgICAgICAgICAgICAgICAgICAgICAgCiAgICAgICAgICAgICAgICAgICAgICAgICAgICAgICAgICAgICAgICAgICAgICAgICAgICAgICAgICAgICAgICAgICAgICAgICAgICAgICAgICAgICAgICAgICAgICAgICAgICAKICAgICAgICAgICAgICAgICAgICAgICAgICAgICAgICAgICAgICAgICAgICAgICAgICAgICAgICAgICAgICAgICAgICAgICAgICAgICAgICAgICAgICAgICAgICAgICAgICAgIAogICAgICAgICAgICAgICAgICAgICAgICAgICAgICAgICAgICAgICAgICAgICAgICAgICAgICAgICAgICAgICAgICAgICAgICAgICAgICAgICAgICAgICAgICAgICAgICAgICAgCiAgICAgICAgICAgICAgICAgICAgICAgICAgICAgICAgICAgICAgICAgICAgICAgICAgICAgICAgICAgICAgICAgICAgICAgICAgICAgICAgICAgICAgICAgICAgICAgICAgICAKICAgICAgICAgICAgICAgICAgICAgICAgICAgICAgICAgICAgICAgICAgICAgICAgICAgICAgICAgICAgICAgICAgICAgICAgICAgICAgICAgICAgICAgICAgICAgICAgICAgIAogICAgICAgICAgICAgICAgICAgICAgICAgICAgICAgICAgICAgICAgICAgICAgICAgICAgICAgICAgICAgICAgICAgICAgICAgICAgICAgICAgICAgICAgICAgICAgICAgICAgCiAgICAgICAgICAgICAgICAgICAgICAgICAgICAgICAgICAgICAgICAgICAgICAgICAgICAgICAgICAgICAgICAgICAgICAgICAgICAgICAgICAgICAgICAgICAgICAgICAgICAKICAgICAgICAgICAgICAgICAgICAgICAgICAgICAgICAgICAgICAgICAgICAgICAgICAgICAgICAgICAgICAgICAgICAgICAgICAgICAgICAgICAgICAgICAgICAgICAgICAgIAogICAgICAgICAgICAgICAgICAgICAgICAgICAgICAgICAgICAgICAgICAgICAgICAgICAgICAgICAgICAgICAgICAgICAgICAgICAgICAgICAgICAgICAgICAgICAgICAgICAgCiAgICAgICAgICAgICAgICAgICAgICAgICAgICAgICAgICAgICAgICAgICAgICAgICAgICAgICAgICAgICAgICAgICAgICAgICAgICAgICAgICAgICAgICAgICAgICAgICAgICAKICAgICAgICAgICAgICAgICAgICAgICAgICAgICAgICAgICAgICAgICAgICAgICAgICAgICAgICAgICAgICAgICAgICAgICAgICAgICAgICAgICAgICAgICAgICAgICAgICAgIAogICAgICAgICAgICAgICAgICAgICAgICAgICAgICAgICAgICAgICAgICAgICAgICAgICAgICAgICAgICAgICAgICAgICAgICAgICAgICAgICAgICAgICAgICAgICAgICAgICAgCiAgICAgICAgICAgICAgICAgICAgICAgICAgICAgICAgICAgICAgICAgICAgICAgICAgICAgICAgICAgICAgICAgICAgICAgICAgICAgICAgICAgICAgICAgICAgICAgICAgICAKICAgICAgICAgICAgICAgICAgICAgICAgICAgICAgICAgICAgICAgICAgICAgICAgICAgICAgICAgICAgICAgICAgICAgICAgICAgICAgICAgICAgICAgICAgICAgICAgICAgIAogICAgICAgICAgICAgICAgICAgICAgICAgICAgICAgICAgICAgICAgICAgICAgICAgICAgICAgICAgICAgICAgICAgICAgICAgICAgICAgICAgICAgICAgICAgICAgICAgICAgCiAgICAgICAgICAgICAgICAgICAgICAgICAgICAgICAgICAgICAgICAgICAgICAgICAgICAgICAgICAgICAgICAgICAgICAgICAgICAgICAgICAgICAgICAgICAgICAgICAgICAKICAgICAgICAgICAgICAgICAgICAgICAgICAgICAgICAgICAgICAgICAgICAgICAgICAgICAgICAgICAgICAgICAgICAgICAgICAgICAgICAgICAgICAgICAgICAgICAgICAgIAogICAgICAgICAgICAgICAgICAgICAgICAgICAgPD94cGFja2V0IGVuZD0ndyc/Pv/bAEMABwUFBgUEBwYFBggHBwgKEQsKCQkKFQ8QDBEYFRoZGBUYFxseJyEbHSUdFxgiLiIlKCkrLCsaIC8zLyoyJyorKv/bAEMBBwgICgkKFAsLFCocGBwqKioqKioqKioqKioqKioqKioqKioqKioqKioqKioqKioqKioqKioqKioqKioqKioqKv/AABEIAWABSgMBIgACEQEDEQH/xAAfAAABBQEBAQEBAQAAAAAAAAAAAQIDBAUGBwgJCgv/xAC1EAACAQMDAgQDBQUEBAAAAX0BAgMABBEFEiExQQYTUWEHInEUMoGRoQgjQrHBFVLR8CQzYnKCCQoWFxgZGiUmJygpKjQ1Njc4OTpDREVGR0hJSlNUVVZXWFlaY2RlZmdoaWpzdHV2d3h5eoOEhYaHiImKkpOUlZaXmJmaoqOkpaanqKmqsrO0tba3uLm6wsPExcbHyMnK0tPU1dbX2Nna4eLj5OXm5+jp6vHy8/T19vf4+fr/xAAfAQADAQEBAQEBAQEBAAAAAAAAAQIDBAUGBwgJCgv/xAC1EQACAQIEBAMEBwUEBAABAncAAQIDEQQFITEGEkFRB2FxEyIygQgUQpGhscEJIzNS8BVictEKFiQ04SXxFxgZGiYnKCkqNTY3ODk6Q0RFRkdISUpTVFVWV1hZWmNkZWZnaGlqc3R1dnd4eXqCg4SFhoeIiYqSk5SVlpeYmZqio6Slpqeoqaqys7S1tre4ubrCw8TFxsfIycrS09TV1tfY2dri4+Tl5ufo6ery8/T19vf4+fr/2gAMAwEAAhEDEQA/APpCiiikMKKKKACiiigAooooAKKKKACiiigAooooAKKKKACikLBVJYgAdSa5PW/Htjp7tBZD7VMOCQflH41z18TSw8earKx0UMNVxEuWlG51tQzXdvbjM0yJ9WAryPUPGms35K/aDAh/hi4/WqFhJLc3u+eV5CBnLMTXz2J4ipwT9lG/qe7Dh+qo81WSXpqeqXGt2O8lrlPoDmqzeINOX/lvn6Ka4mivkJ5pVnJyaWpvHK6SW7O0/wCEi0/P+tP/AHzUqa3p79LhR9RXDFgv3iBnpk0VmsxqrdIbyyl3Z6FFe20vMVwh+jVqwSeZGDnNeUAlTkEiifWdR06NJLS7kQhumcg17GW557GracdH2OeplDnpCWvmeuUV53pHxJkUiPV4Aw/56R9R+Fd1Yaja6nbCeymWVD6Hp9a+4w2OoYpfu5a9up4+KwNfCu1WOnfoWqKKK7DiCiiigAooooAKKKKACiiigAooooAKKKKACiiigAooooAKKKKACiiigAooooAKKKKACiiigAooooA8/wDiD4gmhlXSrVym5d0rDqQe1efDiu5+IujTLerqkalonUK+B90j1rhq/O83dV4uXtPl6H6Jk8aSwkfZ/P1CustLG1h8GWl6IwLma6MRfuRgnH6VyeOK6S7vIofh/pSCVPOGo7vL3DcRtbtWWCpQqxqRl/KPM3NRhyPqao8P3e/YTGGIyoLct9KhRJI9Ju8QxZRgGkc8r9KuPJFJ42jlWVHCIi7g2Qvynj2qGSaP+ytYIkU7pzt+YfN83auFYenGdo9NPwPDderKPveT/EyL/QWlitNQuYVnSBy6Wzy7PM4xn3x1qJ5LnTLSGG4Ec1s7hjcDkxE9Fz3X0NaguYfEDRyq0dtLZxmOWGdgCn+0PY1Uu2TT/D0VxaoLlJXKNATkqp6sF7jvj8Rivbw0KKg8DiY2T1UvU5a06rkq8Hd32NBNFuHCrviErruWIv8AMR9KwdYykPluMMGwR6YrX0WwFnqcd1/aMNxaxRq8s7SDEHHEYb+Ljn26Vzuraguo6lPPFnymkYpkYyM8GvHxOBjh6ll0f3nsZbXnXqK+1r+nkUq09A1u40TUo5oXPlkgSJnhhWZVzSdMn1fUorS2Qks3zHHCjuTV4Z1FWj7Le57uJVN0ZKr8Nj3KCVZ7eOVDlXUMPxp9RW0ItrWKBeRGgUfgMVLX6gr21Pyx2voFFFFMQUUUUAFFFFABRRRQAUUUUAFFFFABRRRQAUUUUAFFFFABRRRQAUUUUAFFFFABRRRQAUUUUAMlijmiaOZA6MMFWGQa4bXPh0krtPo0oiJ5MMn3fwPau8orlxODo4mNqqudWGxdbCy5qUrHh99oOqacxF1ZyKB/Eo3L+YribnTPE73rzQ6paKAx8vNuNyrnpnFfUjIGGGAI9DVC60DS7wf6RYwuT32c1wYXAVMBKUsM4u/8yuexPOI4hJYiL0/ldj500qLxRYTMs2pWkkEhy6CAKc+vArpIotSmRdl/bkDoPKHH6V6lN4B0OXJWB48/3HIrH1rwb4d0TTJb+/vpLSGNT+8kkwoPYZrlxeHzCtPn5Kd/JWKWJy9reaOBudG1O4mSc3kHnR/dbyxyPfipmttVTDSahbggY3GMf4UnwkvdO8d2V4mpakE1CK5dIreB8Foh0bH9a9NX4e6PnMpnlP8AtSGsPqmaTSjNQsttCPb4CLupSPKxNMkbxStDJz8rpGFx69qfbWdzdvttYJJmPZFJr2G28I6HasGTT4iR3cbv51qxWsEC7YIkjA7KMVKyGpVm51pJX7HTHPKNCHJQg/meYaT8PdSvGV79ltIu4zlz+HavQtH0Gx0S28qyiAJ+9IeWb6mtIDFFe5hMuw+E1gte7PFxeY4jF6VHp2QUUUV6B54UUUUAFFFFABRRRQAUUUUAFFFFABRRRQAUUUUAFFFFABRRRQAUUUUAFFFFABRRRQAUUUUAFFFFABRRRQAUUUUAFZfiXQrXxN4bvtHv0DQ3cRQ5HQ9j+BrTZgqksQAOpNcH4o8aFi9jpD8fdecfyH+NKUuVamNWtGlG7OZ+AnwyfwXbanqOqIpv5p2gjbrtiU9fx617HXkWheJLvRLrcGMsDH95Gx6+4969R0zVLXVrNbizkDKeo7qfQ1MZqRnQxMay7MuUUUVdzqCiiigAooooAKKKKACiiigAooooAKKKKACiiigAooooAKKKKACiiigAooooAKKKKACiiigAooooAKKKKACiiigAooooAKjnnitoGmnkWONBlmY4AFQ6hqNtplo1xeSBEX8z7CvL/EPia51yYpzFaqcrFnr7n1qJTUTmr4iNFeZe8TeMJdUZrXT2aK0BwW6NJ/gK5akorllJt6ng1KkqkryF71d0rV7vR7sT2b4/vIfuuPQ1RopJ2JjJxd0ewaF4gtNctt0DbJlH7yEnlf8AEe9a1eIWl3PYXSXNpIY5UPDCvTfDfiuDWoxDcbYbwDlOz+4/wrphPm0Z7eHxaqLlludFRRRWp3BRRRQAUUUUAFFFFABRRRQAUUUUAFFFFABRRRQAUUUUAFFFFABRRRQAUUUUAFFGR60jMFUsxAA5JJ4FAC0UgIYZU5B6Ed6WgAooooAKKKKACs3WdbtdFtTLcMC5+5GOrVT8ReJ7fRISikS3TD5Ywenua8wvr+51K6a4u5C7se/QewrOdTl2ODEYtU/djuWdY1q61u6M10+EB+SMdFFZtLSVytt6s8WUpSd2FFFFIkKKWkoGFPjkeKRZImKOpyGB5FMooEnZ3PRfC/jJbwLZ6owSfosh4D/X3rsQcjivCgSDkHBHeu18LeMmhKWWrPmPokx6r9a6IVOjPWw2Mv7kz0CikR1kQOjBlIyCOhpa3PVCiiigAooooAKKKKACiiigAooooAKKKKACiiigAooooAKKhuLu2tFDXdxFArHAMrhQfzqv/belf9BOz/8AAhP8aAL1FUf7b0n/AKCdl/4EJ/jR/belf9BSy/8AAhP8aAPHvAkstx4y1vUNQt9bmNpqVxs1B7wiyhVRwrpu7fSm6n8R9T1vQvE2kXUlpcQTeG7u9t7yziliAKrtwpcDePm+8vpXp1ha+E9MtL61s7ixWDUJXmuY2ugwkZxhurd/SsS08EfD2yjnSF4GWezksWEmps+Ld/vRrlztX0AxigDH0vxvq2l6n4Z0i9WCy0m40yz8m8uYpG+2SNENyLIPlVxgYDdaZpvxP1+4fRdYurOwGiazqL2MMCM32iLBIVmPQ9OR2rpn8OeCpdQsbuS5hdrAReRC2pMYVMa7UYx79pYDuRmorPwl4BsNeXV7U2aXKSNLGhvy0UTt951jLbVJ9QKAO4oqj/belf8AQUsv/AhP8aBrWlE4Gp2ZJ6AXCf40AXq5PxP4xi00NZ6eyyXXRm6iP/69UPFHjTO+x0d/aScfyX/GuFJJOSck9TWNSpbRHl4nF/Zpj5ppLiZpZ3Z5GOWZjkmmUUVz3PJuFb2sJ/Z2i2kltbaYkcliZJJ7qXEm/OMqu4E461g1dv8AU4byKASaLBPNbW3kRTyXjLjqQdoQ9z61UbdTooSir8xPcaKLSSfzrkCC3sheNPt4ZSOAPcnimxaXDPp1xcw3Tn7PD5r7rd1THoHIwT9Kiv8AV7i98PQaSIY1AKrNc7zuaNWLBNuOmcd6n1HX5Lq3njgssNPafZmZ7x/LUDGCseNo6c1S5DdRwzJ9QsVub4CNlhit9KW5YKv3j3/GqH2GJbWwuJrjZHeI78RlioXHYck89BU1vrTJqRmuLNJbf7Ctm0XmEGQAcnOOP1qS38QPDeafIumQww2MciJHHOzEhsAfMV4Ix1/Sn7rB+wlq2SDw+JLrTIorhguolwhlhaNlK9cqeR1FY9wbVbt4bK6F2kYw0yIQhbJBAJ64x1FaMGuyxXmmSLZYj01pmQS3rzSSl9uNzsvXg5P6VkQoyQqrgbsc7eRmpko20Mqyope5uPooorM5DpvDXi2bSGW3vC0tmTj1MfuPb2r0u2uoLy3Se2kWSNxlWU8GvDq2dA8RXOh3GY8yWzH95CTx9R6GtoVLaM9DDYtw92ex67RWFdeM9AsNAOs6jqUFpZLwzzNghv7uOpPsK4DSv2jfBup+JJ7KSZrDToY8rf3YKiZs9FQAkD3P5V0ntJpq6PXKK4X/AIXX8Of+hrs/++X/APiaP+F1/Dn/AKGuz/75f/4mgZ3VFcL/AMLr+HP/AENdn/3y/wD8TR/wuv4c/wDQ12f/AHy//wATQB3VFcL/AMLr+HP/AENdn/3y/wD8TR/wuv4c/wDQ12f/AHy//wATQB3VFcjpHxU8Ea9qsGmaR4itbq8uG2xQoGy5xnuPQV11ABRRRQAUUUUAFFFFAHh/xu0e18RfFL4f6JqRkNleyzJMsblSR8ncVr/8M3eAP+eF/wD+Bj/41W+KP/JdPhn/ANfE3/stexUAeTf8M2+Af+eF/wD+Bj/40f8ADNvgH/nhf/8AgY/+Nes0UAeTf8M2+Af+eF//AOBj/wCNH/DNvgH/AJ4X/wD4GP8A416zRQB5N/wzb4B/54X/AP4GP/jR/wAM2+Af+eF//wCBj/416zRQB5N/wzb4B/54X/8A4GP/AI1JB+zr4FtriOeCPUEkjYMrC8fgivVaKAPMPEfhCbR83FlvntAOSeWT6+o965mvdGVXUqwBB4IPeuC8T+DDEXvdIQlerwDt7iuedPqjyMTg+X34HD0UpBDEEYI6g0nesDyzTi0O5e2jmlmtrfzs+Sk8oRpPoKzVBdS0Y3qP4l5H510WtaSdWns9TtJIHiWzSEl5QvlFevXpVzTWaKbR7iyubePQUtM3QLKFZsncWzz0xitfZo7/AKvGTsv+HOSCO33VY59BRGjSOFUEknHA6Vt6Vq8y6V4eNtKkAub2VpQFGXi3DaDnoCDmrcT3L2l22hzwROmrSC4cso/cgnABPaj2d+olhVfcw72yTT3vEnuog1oVVhg5ct0AFQwwPNNGmQgkYKHYfKPxrY1mWAyeJ5DJGd1xbgMpBzyM4q1qiXia3CTdxJpBntxbxBlwRkcY65Jzmm6aKlho30MCKCKa6mjF1GIIC/mXGDtAXOSO56cetV4X8+JZI0fa3IDLg/iK6dheTRu2gTwqw1if7WdygtGCdg5/hz1+lV9Q1pIbTxBcaNPEgOowwwTKAf4fnK5/2gRmj2YSwsbbmAwIYgggjsaStTxLMsviB9rIf3ETMVx94qCay6yas7HFOHJJxCrumaVd6vdi3s4yxP3mPRR6mrWheHrrXLkLECkKn55SOB9PevUtL0q10izW3tEAH8THqx9TWkKd9WdWGwrqvmlsZll4N0mHRZNOv7SK+jnH78ToGDn6GuV0r4EeCtI8S3GpwadHPbzx7fsNyglijOfvLu5FelUV1Wse5GKirI5f/hWvgr/oVdJ/8BE/wo/4Vp4K/wChV0j/AMBE/wAK6iigo5f/AIVp4K/6FXSP/ARP8KP+FaeCv+hV0j/wET/CuoooA5f/AIVp4K/6FXSP/ARP8KP+FaeCv+hV0j/wET/CuoooA8H8S+H9I8P/ALSXgSHRNMtbCOSKVnS3iCBiA3JxXvFeM+Pf+Tl/AH/XCb+TV7NQAUUUUAFFFFABRRRQB478Uf8Akunwz/6+Jv8A2WvYq8d+KP8AyXT4Z/8AXxN/7LXsVABRRRQAUUUUAFFFFABRRRQAUUUUAch4o8HJfBrzTVCXHVoxwH/+vXnckTwytHKhR1OCpHIr3Oue8R+FbfWojLFiK7UcOBw3saxnTvqjzcTg+b3obnlEkUcq7ZUDD0NI8EUiBHRWUdFI4/KrV5Z3Gn3T213GY5UPIPf3FQVz6o8h8y0YbV3hsDcBgH0FMMMZi8vYNhOSvY0+ii7FdjfKjxjYME5xjv60jRo0okZQXX7rHqPpT6KLsLvuMMSGLyyo2f3RwKTyowioI1CocquOB+FSUh60XYXYKqhmYAbm6nua6Tw14Un1lxPcBorRTy2OX9hV7wt4Ne7KXuqoUh6pCeC/ufQV6HHGkUaxxqFVRgADAFbQp31Z6WGwjk+epsRWlpBY2ywWsaxxoMAAVPRRXQeukkrIKKKKBhRRRQAUUUUAFFFFAHjPj3/k5fwB/wBcJv5NXs1eM+Pf+Tl/AH/XCb+TV7NQAUUUUAFFFFABRRRQB478Uf8Akunwz/6+Jv8A2WvYq8d+KP8AyXT4Z/8AXxN/7LXsVABRRRQAUUUUAFFFFABRRRQAUUUUAFFFFAGXregWmuWvl3C7ZFH7uUdVNeWavo91ot4YLtOD9yQfdce1ez1U1LTLXVbNre8jDoeh7qfUGs5wUjjxGFjVV1ozxSitnX/Dl1odx8wMlux+SUD9D71jVytNbnhTg4O0twooqa2tZ7y4SC2jaSRzgKBSJSbdkRojSOEjUszHAAGSTXf+F/Ba2+y91ZQ03VIT0T3Pqa0PDfhKDSEW4ugst4R17J7D/GulHSumnTtqz2cNg1H3p7iDgYFLRRXQekFFFFSwCiiigAooooAKKKKACiiigDxnx7/ycv4A/wCuE38mr2avGfHv/Jy/gD/rhN/Jq9moAKKKKACiiigAooooA8d+KP8AyXT4Z/8AXxN/7LXsVeO/FH/kunwz/wCvib/2WvYqACiiigAooooAKKKKACiiigAooooAKKKKACiiigCK5tobuBobiNZI2GCpFeaeJvCUuku1zZhpbQn6lPrXqFQXoBsLgEA/um/kamUFJHPXoQrLXc8d0zS7rVrtbe0jLE9W7KPU16hoPh210O3AQCSdh88pHJ+ntXAfALUrvVPCurT30plkTUpIlYgAhR0FerAg9COOtTGmomdDCxpavVju1FICCuQQR6ilrQ7AoqNriFJ0geVFlcEqhYbmA64FSUAFFRieE3BgEqGYLuMe4bgPXHpUlABRRRQAUUUUAFFFFABRRRQB4z49/wCTl/AH/XCb+TV7NXjPj3/k5fwB/wBcJv5NXs1ABRRRQAUUUUAFFFFAHjvxR/5Lp8M/+vib/wBlr2KvHfij/wAl0+Gf/XxN/wCy17FQAUUUUAFFFFABRRRQAUUUUAFFFFABRRRQAUUUUAFQ3n/Hhcf9cm/kamrE8YeILbwx4UvdVvobiW3hjPmC3TcwB4zjI4oA84/Zx/5E3V/+wtL/ADpPGGvzfDzxx4gmDyGHX9KMtkhYkfa4/l2rnoSGH5Vifs1eLLC5tdT0GGG5a6e6kvN/l/u1jJ4yc9favatY8OaNr01nLrOnw3j2MomtzKufLf1FAHkUniLxZ4VktvBfhqC4nudG0WK7lP2T7S13O5JZXJddiZyNwycn2rdn8a+LJPFmqxxfZLSx0fSYdSubOWEvK7PEWMQYHj5h15rt9d8G+HvE11Fca3pcF3PEpRJGBDbTyVJHUex4q3b6BpdrfXF5b2MKXFzCkEzheXjQYVT7AHFAHi1l4h1i48Z+F9e8Sazpcgl0i5vIzDAV+yqQDhwGJYD14Jq2Pi14h06DWXmddSji0sX1nNNp5tOSwUHbvYsnOcnBr0iw+G/hDS7l7iw8P2UMrh1Zlj6q/wB4fQ+lSaf8PvCumLOtlolrGtxCYJRtzvjPVTnt7UAeS3HivXfC3iXXtf1O7sNY1K38MwyxtbRGNBvlGA67j0Jz1GR6Vr3nj7x1pHg7Xr68tSWtUs5LC+vLEQCRpJVSRDGrtkDPDA9DXoemfD3wno8M8WnaDZwx3EJgmUR5EkZOSrZ6iktfh54Vs9MudPt9GgW1uzGZojkh9jbkHJ6A8gUAcXfeJvGseuyeHV1nTLa80/SDqVzevZEpcEk4RUL/ACqAME5JrvPBeuzeJvBmmaxdQrDNdwB3Rc7Qe+Pal13wZ4d8TSQSa9pNveyQDbG8i8qv93I7e1bFvbw2ttHb20SRQxKFREGAoHQAUASUUUUAFFFFABRRRQB4z49/5OX8Af8AXCb+TV7NXjPj3/k5fwB/1wm/k1ezUAFFFFABRRRQAUUUUAeO/FH/AJLp8M/+vib/ANlr2KvHfij/AMl0+Gf/AF8Tf+y17FQAUUUUAFFFFABRRRQAU2R1jjZ2ztUEnFOqG8/48p/+ubfypxV3YUnZNnH/APC1/DWfv3P/AH6/+vSf8LY8Nf37n/v1/wDXrw4/eNJX0Sy2h5nz39pVvI9y/wCFseGv79z/AN+v/r0v/C2PDX9+5/79V4ZRR/ZtDzD+0a/ke5/8LY8Nf37n/v1R/wALY8Nf37n/AL9V4ZRR/ZtDzD+0a/ke5/8AC2PDX9+5/wC/VV7/AOJfhPUtOnsrsXEkFxG0cimHqCMGvFKKP7NoeYf2jX8jtPhXeeEvhzpt/Gss8txd3DOZBD0jB+Ra77/hbHhr+9c/9+q8Nop/2bQ8w/tKv5HuX/C2PDX965/780f8LY8Nf37r/vz/APXrw2ij+zaHmH9o1/I9y/4Wx4a/v3X/AH5/+vR/wtjw1/fuv+/P/wBevDaKP7NoeYf2jX8j3L/hbHhr+/df9+f/AK9H/C2PDX9+5/79f/Xrw2ij+zaHmH9o1/I+k/D/AIksPE1nJc6YZDHFJ5bb12nOAf61rV538G/+Ravf+vs/+grXoleDiIKnVcY7I9vDzdSkpPdhRRRWJuFFFFABRRRQB4z49/5OX8Af9cJv5NXs1eM+Pf8Ak5fwB/1wm/k1ezUAFFFFABRRRQAUUUUAeO/FH/kunwz/AOvib/2WvYq8d+KP/JdPhn/18Tf+y17FQAUUUUAFFFFABRRRQAVDef8AHlN/1zb+VTVDef8AHlN/1zb+VVHdEy+Fny633jW34V0e21m7vo7wyBbexluF8tsEsoGO3SsRvvGug8HalZaVc6pNqNylvHJps0SM56swGB9a+sxDkqLcdz5XDqMqqUtiPT/Bms6ja21xHFDFFdrmB5Z1XzD6DJ6+1MtPCOq3bXWUht0tZPKlkuJljRX/ALuSetaP9tWD3ngmEXkZ/s+Mvcr2hJbqfTitiw8SWLX2vSQ6xprW09+0iW+o25eCVePmDDkH8K4Hiq6V7HcsNQvuZWkeAry6vNTtr8rDLZW5lVBKuJGI+XnP3T69KztP8GazqVg17bxQm2QyBpzOuzKHDc59QfrXRRar4WbxBrkemTW1lbXmlNAbgqywvM3XbkZ2/hXNa1qFk3gTQdCtLuKcw3k8k0MQO0qFYI2MdCScZ9qccRXctOtugSw9FR9L9SIeG9TOq2enLApur2FZ4EEi/MjAkHOcDoak07wpqepxyyQLDHFFL5JlnmVFZ/7oJPJ+ldjHqvh5vFmga/Prlvbx21hHbvbFG8xWUN6DAHzdfasVbrRtf8J21lPq9vp7WeoSXG+ZWxIjHhlIB5FP61V2t+DF9Vpb3/Eybfwnq1xqF1ZmBYXtObh5nCJGPUseKsw+Frq01G6tdSspZ3js3uIxbzIAwAyH3E4K/TmrWn3GhXGg6/oMWpmGC5lSSG9vkYCbaec8E4PbNGl32gaLqup+Rq5uYTpUkTXUgIR5WXASPPJFE8RUaf8AkyY4ekmv8zM0jwlq+saXDewRwolwMQiWZUM7YyQgP3qbZeFtWv0uXitlRLSTy7hppFQRH/ayeK2rW40XUtM8I391rkWmyaLAsU1vMjFuCrbo8A8nbiqms+JrTU/DHiQiUwvqmqxyW9tIPneIeo/AHFL61Wva34eZX1aj3KU/hLV4NZi0s26vczJ5kexwVZP727pj3ou/CerWl3aweSk5u22wPbyCRHPcbhxxXXQ+KdGj8UaerXsTR/2L9kll2llhkJPDCshdYFlfaPZR+KLAwW1w0v8AxLNM2x2/bJYnnPcAUli6/NblB4Wja/MZGq+FdS0iyN3cfZ5IUk8qRoJ1k8t/7rYPBrFrufFmraDeaBcJOdJvNXM6/ZZNNhdGIz8zyZGAcZ7muGrtwtWdSF57nJiacac7Reh7L8G/+Ravf+vs/wDoK16JXgPhXSPiLqGnyyeBfEVjpVksm2WK5gVy0mB8wJU8Yx+Vbn/CMfHP/oedI/8AANP/AI3XzuL/AI8j6DCfwInsVFeO/wDCMfHP/oedI/8AANf/AI3R/wAIx8c/+h50j/wDX/43XKdR7FRXjv8AwjHxz/6HnSP/AADX/wCN0f8ACMfHP/oedI/8A1/+N0AexUV47/wjHxz/AOh50j/wDX/43R/wjHxz/wCh50j/AMA1/wDjdAEfj3/k5fwB/wBcJv5NXs1eMaR8MviDc/EzQ/FHjTxFp2pLpW4BYYtjbSCMABQOp717PQAUUUUAFFR7qN1AElFR7qN1AHkPxR/5Lp8M/wDr4m/9lr2GvHPief8Ai+Xw0/6+Jv8A2WvYN1AElFR7qN1AElFR7qN1AElFR7qN1AElQ3n/AB5Tf9c2/lTt1MmXzYXjzjcpGfrTi7MUldNHy833jSdq9UPwbjJ/5Czf9+6P+FNR/wDQWb/v3X031+hbc+b+o176I8r75o7Yr1T/AIU1H/0Fm/790f8ACmo/+gs3/fuj6/h+4fUcR2PK+1Feqf8ACmo/+gs3/fuj/hTUf/QWb/v3R9fw/cPqOI7HldHbFeqf8Kaj/wCgs3/fuj/hTUf/AEFm/wC/dH1/D9w+o1+x5XnijjGMcV6p/wAKaj/6Czf9+6P+FNR/9BZv+/dH1/D9w+o1+x5X+FGa9U/4U1H/ANBZv+/dH/Cmo/8AoLN/37o+v4fuH1Gv2PK/wozXqn/Cmo/+gs3/AH7o/wCFNR/9BZv+/dH1/D9w+o1+x5X+FFeqf8Kaj/6Czf8Afuj/AIU1H/0Fm/790fX6HcPqNfsaHwa/5Fq9/wCvs/8AoK16LXNeD/C6+E9NmtFuTcCWXzNxXGOAP6V0O6vn8RNTqylHZnvYeDhSjGW5JRUe6jdWBuSUVHuo3UASUVHuo3UASUVHuo3UASUVHuo3UARbqN1RbqN1AEu6jdUW6jdQB5N8Tj/xfD4a/wDXxN/7LXr26vHfiaf+L3fDb/r4m/8AZa9d3UAS7qN1RbqN1AEu6jdUW6jdQBLuo3VFuo3UAS7qN1RbqR5NkbOf4QTQ9FdgTZo3Vxn/AAniZP8Aob8f7Ypf+E8T/nzf/vsV5P8AbOB/nO/+z8V/Idluo3Vxv/CeJ/z5v/30KP8AhPE/583/AO+hR/bWB/nD+zsV/Idlupd1cZ/wnif8+b/99Cj/AITxP+fN/wDvoUv7ZwP84f2div5Ds91G6uM/4TxP+fN/++xR/wAJ5H/z5v8A99ij+2cD/OL+zsV/Idluo3Vxn/CeJ/z5v/30KP8AhPE/58n/AO+hT/tnA/zj/s7FfyHZ7qN1cZ/wnif8+b/99Cj/AITxP+fJ/wDvoUf2zgf5w/s7FfyHZ7qN1cZ/wnif8+T/APfQo/4TxP8Anyf/AL6FH9s4H+cP7OxX8h2e6jdXGf8ACeJ/z5P/AN9Cj/hPE/58n/76FH9s4H+cP7OxX8h2e6jdWRomtDWbV5liMWx9uCc54rS3V6VKrCrBTg7pnHOEqcnGS1RLuo3VFuo3VoQS7qN1RbqN1AEu6jdUW6jdQBLuo3VFuo3UAS7qN1RbqN1AEe6jdUW6jdQBLuo3VFuo3UAeUfEw/wDF7fhv/wBfE3/stet7q8h+JR/4vX8Of+vib/2WvWt1AEu6jdUW6jdQBLuo3VFuo3UAS7qN1RbqN1AEu6o7hv8ARpf9w/ypC2BkngVDLKktnI8bq6lDhlOQaip8D9Co7o8rzyaXNR55rTZLSxtrVrmBriS5XzD8+0Iucfia/KqWHlWcmnZLds+6nWVNLS7ZQzSZqzPFE0F5NYjdFDtw0mcgE44A60+4037NE5luYRKihmhz8wB6Vo8BWUeZK6IWKp3s3ZlTNGavz6cG1KSKJligito5pJHPC5Bz/Kq15ZtZmIl1kjlTfG69GFKtga1FNyWi6jp4mnUaSerIM0Zq8NKYWcdxLPHH5iF0Ug8ge9LBo008EbeaivKpeOM5ywHehYDEO1o9L/IHi6K3l5FDNGauaTbRXOprDcAlAGyAcdBUiJaXmm3UscP2ea3XzMByysufenSwVSrDmi1106uwp4qMJcrXz9ShmkzWhLos0UcpMsfmQoHlj5ygPen3Olrb6gLaGSKcm383BYjGACScfXitI5ZiXvGxLxtFbO5mZozV+LR5pIEbzEWWSMyJEc5K+tFvpEk6wEzRxm4z5aseWI7Vn9QxN7cjK+t0bX5ihmlzV230mSeNWaaOPzJDFGDk72HWqMitFK8cgwyMVI9xWNTDVaUVKcbJmkK9Oo2ou9jufBDf8Suf/rr/AEFdNurlfBLf8Syf/rr/AEFdLur9Iyv/AHKn6Hx2O/3mfqS7qN1RbqN1ekcZLuo3VFuo3UAS7qN1RbqN1AEu6jdUW6jdQBLuo3VFuo3UAR7qN1RbqN1AEu6jdUW6jdQB518TvBPiPxL4i0DWPC13bW1zpPmMrT9mbbjj8DWV/Yfxp/6GLTP++P8A61etbqN1AHkv9h/Gn/oYtM/74/8ArUf2H8af+hi0z/vj/wCtXrW6jdQB5L/Yfxp/6GLTP++P/rUf2H8af+hi0z/vj/61etbqN1AHkn9h/Gn/AKGPTP8Avj/61H9h/Gn/AKGPTP8Avj/61et7qN1AHkU2h/GfyJN/iLTSu05ATqMfSuV+F2g/FC2upplums9KLsZVvsssnJzsXr+NfQ+6o7hv9Gk/3TUz+Bjj8SPLAeOetaa6hZz2kEWoQSM9uNqNGfvL6GsrPJpM1+V0q8qMny6p9GfczpxqJX6GhNqQktr5EgEZudgjReiBTnmpb+/srkPMlq32qVQGZj8qkdxWVRXQ8wrOPI7W9DL6rTT5le/qax1WCW9uftEDNbT28cLAH5srnkVVv7xbuWFYY2jgtozHGGOScnJJ/IVTzRmlVx9arFxlbUdPC06bTXQ3bXXIbSxVBFM7hCpjLAox9eelR/2yj6fAkjXSTwR7F8iQKre5rGozWsM0xEEkraabEPA0ZO7L2k3aWF4k0qs6gEEA881JLe2sNnNb6fFJm4AWR5SOFzkgY9azc0uaxpY2rTjaNurv113NJ4enOV2bGqatHfwysr3aTToFdBIBGOx46njtSHVbdb37UkUm97bynGRjIUKMVj5ozW0s0xMnd2MlgaKVkbMuspLZRqxukmji8sLDIFVvc1HBqkcT6aSjH7Hncc/ezWVmjNKWZ4iVrtaDWCorY17fV4xpy28/2mIxzSSIbdwCwZicHP1rMLs7M7klmYsSzZPJ7nvUeaM1jicbWxMVGp0NKOGp0W3Dqd14KP8AxK5/+uv9BXS7q5bwW3/Esn/66/0FdJur9Ayz/cqfofKY7/eZ+pLuo3VFuo3V6Jxku6jdUW6jdQBLuo3VFuo3UAS7qN1RbqN1AEu6jdUW6jdQBFuo3VFuo3UAS7qN1RbqN1AEu6jdUW6jdQBLuo3VFuo3UAS7qN1RbqN1AEu6jdUW6jdQBLupr4dCp6EYNM3UbqN1YDG/4RLTfSX/AL7o/wCES030l/77rZ3Ubq4P7Own/PtHT9br/wA7Mb/hEdN/6a/990f8IjpvpL/33Wzuo3Uf2dhP+faD63X/AJ2Y3/CI6b/01/77o/4RHTfSX/vutndRuo/s7Cf8+0H1uv8Azsxv+ER03/pr/wB90yfwppsdtI6+blUJHz+grc3Vh+MrjV7fwjfz+HhE19FEXRJV3BgByMeuKf8AZ2E/59oPrdf+dnFfCz/irtBvrvV+ZYLx4U8r5RtHSu4/4RLTfSX/AL7ryP8AZ5v9cuRqcLpEmlJK0khMfzNM3YH0Fe6huKP7Own/AD7QfW6/87Mf/hEtN9Jf++6P+ES030l/77rY3UbqP7Nwn/PtB9bxH87Mf/hEtN9Jf++6P+ES030l/wC+62N1G6j+zcJ/z7QfW8R/OzH/AOES030l/wC+6T/hEtN9Jf8AvutndRuo/s3Cf8+0H1vEfzsg03TYNLhaK23bWbcdxzzVzdUW6jdXXCEacVGKskc8pOT5pO7Jd1G6ot1G6rES7qN1RbqN1AEu6jdUW6jdQBLuo3VFuo3UAS7qN1RbqN1AEe6jdUW6jdQBLuo3VFuo3UAS7qN1RbqN1AEu6jdUW6jdQBLuo3VFuo3UAS7qN1RbqN1AEu6jdUW6jdQBLuo3VFuo3UAS7qN1Z+o6nb6ZaNPdPtUdB3J9BXAat4xvr9ilsxt4ewX7x/GuHFY6lhtJavsd2FwNbFP3NF3PQrvWbCxB+03UaEds81iXPj3TYiRCkkxHoMCvOXkaRtzsWJ6knNN4rwaudVpP3EkfQUskox/iNs7eX4huc+TZAem5qrP8QL9gQLaEA9jzXLW9vNdS+XbRtK+M7VGTU8mlX8TRrLayoZG2puXGT6Vz/XsdNXTdvJHT9QwEHZpX82XtD8QHw9aS22mWUEMUsrTMAOrMcmtmP4hXQP720jI9jXI3MEtpcvBcJskQ4ZT2qPNZPMMZF2cncv8As7BzV1BHoEHxBtW4uLWRPdTmtez8V6TeEKlyqMf4X4ryjNJmumnnOJj8Vmc1TJcNL4bo9uSVZFDIwYHuDTt1ePafrd/psga2uG2j+BjkGu80DxXBq2IJgIrnH3c8N9K9zCZnSxD5Xozw8XldbDrmWsTpd1G6ot1G6vUPKJd1G6ot1G6gCXdRuqLdRuoAl3Ubqi3UbqAJd1G6ot1G6gCXdRuqLdRuoAl3Ubqi3UbqAIt1G6ot1G6gCXdRuqLdRuoAl3Ubqi3UbqAJd1G6ot1G6gCXdRuqLdRuoAl3Ubqi3UbqAJd1G6ot1G6gCXdRuqLdRuoA4Hxxdyya0IGJEcaAqPc965rNegeKtAbVYhc2uPtEYxj++PSvP5Y5IJTHMjI69VYYIr4zM6FSFeUpbPZn2uV16c8PGEd1ugzRmmZozXl2PUudJ4JJ/t5sHnyGx+lVZLST+07Bb3XUv3M+FWG6LlD3OO1VtE1ZdHvZLl4nmzEyBEIBJP1qjpkwsrm3nkT/AFbBmVev0r2aWIpww0IN63PHq4epPEzmlpbsdFFpdg2uayl2ZvJtQZC+8s59Tz1qteQabP4YTVdPgnt8TLGyTMCTngHj6iqz6+Dcaxci0kzfoUjj3jK57k1AdSC+GF0oQsztOkhk3DaoXB+vauipLDNSWmvNr18jCnDFKUXrpy6eXUrZozTM0Zr56x9BcfmnwzPBOksTFXRgQRUOa6Dw74cm1G4S4uUMdspzzwX+ldGHo1KtRKmtTmxNanSpuVR6Ho1pM01nDI4wzoGI9yKl3VCuFUKOABgCl3V98k0rM/P27sl3Ubqi3UbqYiXdRuqLdRuoAl3Ubqi3UbqAJd1G6ot1G6gCXdRuqLdRuoAl3Ubqi3UbqAI91G6ot1G6gCXdRuqLdRuoAl3Ubqi3UbqAJd1G6ot1G6gCXdRuqLdRuoAl3Ubqi3UbqAJd1G6ot1G6gCXdRuqLdRuoAl3VR1DSLLU0xdQqzdnHBH41Z3UbqmcIzXLJXRUZyg+aLszjr3wM4YtYXII7LIP61jXHhrVbYndbFwO6HNelbqN1eXUynDzd1oepTzbEw0ep5PJZXcR/eW0q/VDURSQdUYf8BNeuEK33gD9aYYYT1iQ/8Brklki6TOxZ5LrD8TyXa/8Acb8qcsEznCQyN9ENer/Z4B0hT/vmnhI1+6ij6Cksk7z/AAG88fSH4nmEOi6lOQI7OTnuRitW08F382DcOkK/XJrvN1G6uqnk9CLvJtnLUzivLSKSMbTvCenWLB5FNxIO8nQfhW6MKoCgADoBUe6jdXp06VOkrQVjy6lWpVfNN3Jd1G6ot1G6tTIl3Ubqi3UbqAJd1G6ot1G6gCXdRuqLdRuoAl3Ubqi3UbqAJd1G6ot1G6gCXdRuqLdRuoA//9k=)"
      ],
      "metadata": {
        "id": "8TNUKq6N4A3T"
      }
    },
    {
      "cell_type": "code",
      "source": [
        "# Ciclo For\n",
        "for i in range(9) :\n",
        "    print(i)"
      ],
      "metadata": {
        "colab": {
          "base_uri": "https://localhost:8080/"
        },
        "id": "PxP3sCyP71Gp",
        "outputId": "123a2438-f0ed-4142-b453-a1f58e0cf313"
      },
      "execution_count": 12,
      "outputs": [
        {
          "output_type": "stream",
          "name": "stdout",
          "text": [
            "0\n",
            "1\n",
            "2\n",
            "3\n",
            "4\n",
            "5\n",
            "6\n",
            "7\n",
            "8\n"
          ]
        }
      ]
    },
    {
      "cell_type": "code",
      "source": [
        "# Ciclo For range tiene tres parámetros: start, stop y step.\n",
        "for i in range(3, 9) :\n",
        "    print(i)"
      ],
      "metadata": {
        "colab": {
          "base_uri": "https://localhost:8080/"
        },
        "id": "S3uXRRee9BC7",
        "outputId": "4b91a637-657a-4c8a-b5ea-4ad6c3951a6b"
      },
      "execution_count": 13,
      "outputs": [
        {
          "output_type": "stream",
          "name": "stdout",
          "text": [
            "3\n",
            "4\n",
            "5\n",
            "6\n",
            "7\n",
            "8\n"
          ]
        }
      ]
    }
  ]
}