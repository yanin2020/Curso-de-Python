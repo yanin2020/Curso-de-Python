{
  "nbformat": 4,
  "nbformat_minor": 0,
  "metadata": {
    "colab": {
      "name": "Copia de Phyton_curso.ipynb",
      "provenance": [],
      "collapsed_sections": [],
      "authorship_tag": "ABX9TyNKrw1Phvw1DEJyddeNfgs5",
      "include_colab_link": true
    },
    "kernelspec": {
      "name": "python3",
      "display_name": "Python 3"
    },
    "language_info": {
      "name": "python"
    }
  },
  "cells": [
    {
      "cell_type": "markdown",
      "metadata": {
        "id": "view-in-github",
        "colab_type": "text"
      },
      "source": [
        "<a href=\"https://colab.research.google.com/github/yanin2020/Curso-de-Python/blob/master/Copia_de_Phyton_curso.ipynb\" target=\"_parent\"><img src=\"https://colab.research.google.com/assets/colab-badge.svg\" alt=\"Open In Colab\"/></a>"
      ]
    },
    {
      "cell_type": "markdown",
      "source": [
        "[CURSO FRECODECAMP](https://www.youtube.com/watch?v=DLikpfc64cA&ab_channel=freeCodeCampEspa%C3%B1ol)\n",
        "# ASIGNACIONES EN **PYTHON**"
      ],
      "metadata": {
        "id": "TJKsEFO0Sd_K"
      }
    },
    {
      "cell_type": "code",
      "source": [
        "edad *= 3\n",
        "edad"
      ],
      "metadata": {
        "colab": {
          "base_uri": "https://localhost:8080/"
        },
        "id": "iZnc7HdGVoEH",
        "outputId": "0b3197bb-501a-4057-9053-b99386c9f5df"
      },
      "execution_count": null,
      "outputs": [
        {
          "output_type": "execute_result",
          "data": {
            "text/plain": [
              "147"
            ]
          },
          "metadata": {},
          "execution_count": 15
        }
      ]
    },
    {
      "cell_type": "code",
      "source": [
        "edad /= 2\n",
        "edad"
      ],
      "metadata": {
        "colab": {
          "base_uri": "https://localhost:8080/"
        },
        "id": "r33clOh-V69d",
        "outputId": "b9711e17-fbbb-472a-c0e1-5b593ece6333"
      },
      "execution_count": null,
      "outputs": [
        {
          "output_type": "execute_result",
          "data": {
            "text/plain": [
              "73.5"
            ]
          },
          "metadata": {},
          "execution_count": 16
        }
      ]
    },
    {
      "cell_type": "code",
      "source": [
        "edad -= 2\n",
        "edad"
      ],
      "metadata": {
        "colab": {
          "base_uri": "https://localhost:8080/"
        },
        "id": "T4ma9jPbWHoG",
        "outputId": "e4bb0fc5-d331-499a-c8f3-bcd2c16f4556"
      },
      "execution_count": null,
      "outputs": [
        {
          "output_type": "execute_result",
          "data": {
            "text/plain": [
              "71.5"
            ]
          },
          "metadata": {},
          "execution_count": 17
        }
      ]
    },
    {
      "cell_type": "code",
      "source": [
        "edad = 56\n",
        "edad += 3\n",
        "edad"
      ],
      "metadata": {
        "colab": {
          "base_uri": "https://localhost:8080/"
        },
        "id": "C2EqaXDlWNqN",
        "outputId": "a15ef285-0000-48b9-e010-0d7073cc9ab5"
      },
      "execution_count": null,
      "outputs": [
        {
          "output_type": "execute_result",
          "data": {
            "text/plain": [
              "59"
            ]
          },
          "metadata": {},
          "execution_count": 18
        }
      ]
    },
    {
      "cell_type": "code",
      "source": [
        "num = 6\n",
        "num %= 2\n",
        "print (num)"
      ],
      "metadata": {
        "colab": {
          "base_uri": "https://localhost:8080/"
        },
        "id": "ZHekUpg3YABN",
        "outputId": "71b9fa9a-b6f1-46d8-f145-2d7893d19d21"
      },
      "execution_count": null,
      "outputs": [
        {
          "output_type": "stream",
          "name": "stdout",
          "text": [
            "0\n"
          ]
        }
      ]
    },
    {
      "cell_type": "markdown",
      "source": [
        "Sentencia **Condicional**\n",
        "Instrucción o un grupo de instrucciones cuya ejecución depende del valor de una condición booleana."
      ],
      "metadata": {
        "id": "Wz0RGZ8EY7q4"
      }
    },
    {
      "cell_type": "code",
      "source": [
        "temp = 15\n",
        "if temp < 25:\n",
        "    print(\"Frío\")"
      ],
      "metadata": {
        "colab": {
          "base_uri": "https://localhost:8080/"
        },
        "id": "FKD-I_01cFbZ",
        "outputId": "19223258-e0ce-465a-dd8b-c72b7f05635e"
      },
      "execution_count": null,
      "outputs": [
        {
          "output_type": "stream",
          "name": "stdout",
          "text": [
            "Frío\n"
          ]
        }
      ]
    },
    {
      "cell_type": "markdown",
      "source": [
        "**Condicional**"
      ],
      "metadata": {
        "id": "FA93NOjvd_2w"
      }
    },
    {
      "cell_type": "code",
      "source": [
        "temp = 15\n",
        "if temp < 25:\n",
        "        print (\"Frío\")\n",
        "else:\n",
        "        print (\"Calor\")"
      ],
      "metadata": {
        "colab": {
          "base_uri": "https://localhost:8080/"
        },
        "id": "f-LxxY1KdDVk",
        "outputId": "3b80446e-48f0-4d9c-c93a-995cff660617"
      },
      "execution_count": null,
      "outputs": [
        {
          "output_type": "stream",
          "name": "stdout",
          "text": [
            "Frío\n"
          ]
        }
      ]
    },
    {
      "cell_type": "code",
      "source": [
        "temp = 30\n",
        "if temp < 25:\n",
        "        print (\"Frío\")\n",
        "else:\n",
        "        print (\"Calor\")"
      ],
      "metadata": {
        "colab": {
          "base_uri": "https://localhost:8080/"
        },
        "id": "FoPQMpi_eILc",
        "outputId": "4f9f20cc-f210-4b0f-f619-3701207583d8"
      },
      "execution_count": null,
      "outputs": [
        {
          "output_type": "stream",
          "name": "stdout",
          "text": [
            "Calor\n"
          ]
        }
      ]
    },
    {
      "cell_type": "markdown",
      "source": [
        "Cláusula \"elif\""
      ],
      "metadata": {
        "id": "UqV4iNTvesOK"
      }
    },
    {
      "cell_type": "code",
      "source": [
        "temp = 0\n",
        "if temp <=0:\n",
        "        print(\"Muy Frío\")\n",
        "elif temp < 25:\n",
        "        print(\"Frío\")\n",
        "else:\n",
        "        print(\"Calor\")                    "
      ],
      "metadata": {
        "colab": {
          "base_uri": "https://localhost:8080/"
        },
        "id": "31VKI5MIfOgN",
        "outputId": "90314c62-535e-4676-ffd3-c4a3481f133a"
      },
      "execution_count": null,
      "outputs": [
        {
          "output_type": "stream",
          "name": "stdout",
          "text": [
            "Muy Frío\n"
          ]
        }
      ]
    },
    {
      "cell_type": "code",
      "source": [
        "temp = 18\n",
        "if temp <=0:\n",
        "        print(\"Muy Frío\")\n",
        "elif temp < 25:\n",
        "        print(\"Frío\")\n",
        "else:\n",
        "        print(\"Calor\")                    "
      ],
      "metadata": {
        "colab": {
          "base_uri": "https://localhost:8080/"
        },
        "id": "sz_FKoW6gk2p",
        "outputId": "a9963de6-d72f-46a5-d6c2-c05336a58875"
      },
      "execution_count": null,
      "outputs": [
        {
          "output_type": "stream",
          "name": "stdout",
          "text": [
            "Frío\n"
          ]
        }
      ]
    },
    {
      "cell_type": "markdown",
      "source": [
        "**Puede haber más de una cláusula \"elif\",pero solo una cláusula \"else\"**"
      ],
      "metadata": {
        "id": "693YzOUuhgF9"
      }
    },
    {
      "cell_type": "markdown",
      "source": [
        "**COMENTARIOS**"
      ],
      "metadata": {
        "id": "r2OCi6OeiIaG"
      }
    },
    {
      "cell_type": "code",
      "source": [
        "# Número de estudiantes\n",
        "# registrados en el salón 56\n",
        "num_estudiantes = 33\n",
        "print(num_estudiantes)"
      ],
      "metadata": {
        "colab": {
          "base_uri": "https://localhost:8080/"
        },
        "id": "42DBsFhuiOTn",
        "outputId": "da819f49-5913-476c-ab89-740c5f8aa9ee"
      },
      "execution_count": null,
      "outputs": [
        {
          "output_type": "stream",
          "name": "stdout",
          "text": [
            "33\n"
          ]
        }
      ]
    },
    {
      "cell_type": "markdown",
      "source": [
        "\n",
        "LISTA: Estructura de datos utilizada para almacenar múltiples valores en secuencia."
      ],
      "metadata": {
        "id": "yzepKB7hkoa5"
      }
    },
    {
      "cell_type": "code",
      "source": [
        "letras = [\"a\", \"b\", \"c\", \"d\"]\n",
        "letras[0]"
      ],
      "metadata": {
        "colab": {
          "base_uri": "https://localhost:8080/",
          "height": 35
        },
        "id": "XU8-HD-XlP6n",
        "outputId": "ca066129-5465-40f6-a979-cc0ef2f1df39"
      },
      "execution_count": null,
      "outputs": [
        {
          "output_type": "execute_result",
          "data": {
            "application/vnd.google.colaboratory.intrinsic+json": {
              "type": "string"
            },
            "text/plain": [
              "'a'"
            ]
          },
          "metadata": {},
          "execution_count": 54
        }
      ]
    },
    {
      "cell_type": "markdown",
      "source": [
        "Como principal diferencia entre las listas y las tuplas en Python es que las listas son mutables y llevan corchetes,pero las tuplas son inmutables y llevan parentesís."
      ],
      "metadata": {
        "id": "VqRpQDgEuE74"
      }
    },
    {
      "cell_type": "markdown",
      "source": [
        "**Diccionarios:** Colección de pares clave-valor. \n",
        "**Caraterísticas**:\n",
        "1. Las claves deben ser únicas e inmutables.\n",
        "2. Los valores asociados pueden ser de cualquier tipo.\n",
        "3. La clave se usa para acceder a su valor asociado.\n",
        "4. Los pares clave-valor pueden ser modificados, añadidos, y eliminados.\n"
      ],
      "metadata": {
        "id": "li8CmPzuut0J"
      }
    },
    {
      "cell_type": "code",
      "source": [
        "# Acceder a un diccionario.\n",
        "edades = {\"Gino\": 15, \"Nora\": 45}\n",
        "edades[\"Gino\"] "
      ],
      "metadata": {
        "colab": {
          "base_uri": "https://localhost:8080/"
        },
        "id": "FEglNxzyxZyE",
        "outputId": "e1b0e027-fbc2-413b-c132-283426b15db7"
      },
      "execution_count": null,
      "outputs": [
        {
          "output_type": "execute_result",
          "data": {
            "text/plain": [
              "15"
            ]
          },
          "metadata": {},
          "execution_count": 2
        }
      ]
    },
    {
      "cell_type": "code",
      "source": [
        "edades = {\"Gino\": 15, \"Nora\": 45}\n",
        "edades[\"Nora\"]"
      ],
      "metadata": {
        "colab": {
          "base_uri": "https://localhost:8080/"
        },
        "id": "2Y0LFAp-yRVC",
        "outputId": "6276183e-810d-4d17-acd6-659c301ee02c"
      },
      "execution_count": null,
      "outputs": [
        {
          "output_type": "execute_result",
          "data": {
            "text/plain": [
              "45"
            ]
          },
          "metadata": {},
          "execution_count": 3
        }
      ]
    },
    {
      "cell_type": "code",
      "source": [
        "# El método get cumple la misma función\n",
        "edades = {\"Gino\": 15, \"Nora\": 45}\n",
        "edades.get(\"Gino\")"
      ],
      "metadata": {
        "colab": {
          "base_uri": "https://localhost:8080/"
        },
        "id": "TY7L9WHvynMw",
        "outputId": "cc47580a-7610-46d2-fc35-ff63272cddcf"
      },
      "execution_count": null,
      "outputs": [
        {
          "output_type": "execute_result",
          "data": {
            "text/plain": [
              "15"
            ]
          },
          "metadata": {},
          "execution_count": 4
        }
      ]
    },
    {
      "cell_type": "code",
      "source": [
        "# Cómo agregar valores nuevos al diccionario.\n",
        "edades = {\"Gino\": 15, \"Nora\": 45}\n",
        "edades[\"Rita\"] = 67\n",
        "edades"
      ],
      "metadata": {
        "colab": {
          "base_uri": "https://localhost:8080/"
        },
        "id": "G0z1GzV9zK2x",
        "outputId": "240444fa-9c1d-4ad1-9a47-f5d5ff342c3c"
      },
      "execution_count": null,
      "outputs": [
        {
          "output_type": "execute_result",
          "data": {
            "text/plain": [
              "{'Gino': 15, 'Nora': 45, 'Rita': 67}"
            ]
          },
          "metadata": {},
          "execution_count": 5
        }
      ]
    },
    {
      "cell_type": "code",
      "source": [
        "# Cambiando valor de una llave.\n",
        "edades = {\"Gino\": 15, \"Nora\": 45}\n",
        "edades[\"Gino\"] = 17\n",
        "edades"
      ],
      "metadata": {
        "colab": {
          "base_uri": "https://localhost:8080/"
        },
        "id": "y-rSFawDzkz5",
        "outputId": "82ea77aa-55b5-4163-d49b-9a132b2bdba7"
      },
      "execution_count": null,
      "outputs": [
        {
          "output_type": "execute_result",
          "data": {
            "text/plain": [
              "{'Gino': 17, 'Nora': 45}"
            ]
          },
          "metadata": {},
          "execution_count": 6
        }
      ]
    },
    {
      "cell_type": "code",
      "source": [
        "# Borrar claves de un diccionario.\n",
        "edades = {\"Gino\": 15, \"Nora\": 45}\n",
        "del edades[\"Gino\"]\n",
        "edades"
      ],
      "metadata": {
        "colab": {
          "base_uri": "https://localhost:8080/"
        },
        "id": "Ju-SA2g50jTG",
        "outputId": "85cca0d0-fa53-432d-92b1-ecc1f28a8140"
      },
      "execution_count": null,
      "outputs": [
        {
          "output_type": "execute_result",
          "data": {
            "text/plain": [
              "{'Nora': 45}"
            ]
          },
          "metadata": {},
          "execution_count": 7
        }
      ]
    },
    {
      "cell_type": "code",
      "source": [
        "# Busca si existe una llave en el diccionario y retorna un valor booleano que es true o false.\n",
        "edades = {\"Gino\": 15, \"Nora\": 45} \n",
        "\"Gino\" in edades"
      ],
      "metadata": {
        "colab": {
          "base_uri": "https://localhost:8080/"
        },
        "id": "jiqzOER50_HH",
        "outputId": "c077a2af-3e35-4cc3-9645-9bb8d9fcf612"
      },
      "execution_count": null,
      "outputs": [
        {
          "output_type": "execute_result",
          "data": {
            "text/plain": [
              "True"
            ]
          },
          "metadata": {},
          "execution_count": 8
        }
      ]
    },
    {
      "cell_type": "code",
      "source": [
        "edades = {\"Gino\": 15, \"Nora\": 45} \n",
        "\"Emily\" in edades"
      ],
      "metadata": {
        "colab": {
          "base_uri": "https://localhost:8080/"
        },
        "id": "oUlOXGrQ1We_",
        "outputId": "ddff64c1-ee4f-43c0-fcf1-387dd5eb30f5"
      },
      "execution_count": null,
      "outputs": [
        {
          "output_type": "execute_result",
          "data": {
            "text/plain": [
              "False"
            ]
          },
          "metadata": {},
          "execution_count": 9
        }
      ]
    },
    {
      "cell_type": "code",
      "source": [
        "edades = {\"Gino\": 15, \"Nora\": 45} \n",
        "\"Nora\" in edades"
      ],
      "metadata": {
        "colab": {
          "base_uri": "https://localhost:8080/"
        },
        "id": "FPbs0-_d1aV2",
        "outputId": "525e22f5-58f3-41c5-f0e0-47f99a3c081b"
      },
      "execution_count": null,
      "outputs": [
        {
          "output_type": "execute_result",
          "data": {
            "text/plain": [
              "True"
            ]
          },
          "metadata": {},
          "execution_count": 10
        }
      ]
    },
    {
      "cell_type": "markdown",
      "source": [
        "**Ciclos For**: Es la estructura de control en programación que permite ejecutar una o varias líneas de código múltiples veces. Los usamos cuando sabemos con antelación cuántas veces debemos repetir ciertas.\n",
        "\n",
        "![ciclo for.JPG](data:image/jpeg;base64,/9j/4AAQSkZJRgABAQEAYABgAAD/4RDQRXhpZgAATU0AKgAAAAgABAE7AAIAAAADcGMAAIdpAAQAAAABAAAISpydAAEAAAAGAAAQwuocAAcAAAgMAAAAPgAAAAAc6gAAAAgAAAAAAAAAAAAAAAAAAAAAAAAAAAAAAAAAAAAAAAAAAAAAAAAAAAAAAAAAAAAAAAAAAAAAAAAAAAAAAAAAAAAAAAAAAAAAAAAAAAAAAAAAAAAAAAAAAAAAAAAAAAAAAAAAAAAAAAAAAAAAAAAAAAAAAAAAAAAAAAAAAAAAAAAAAAAAAAAAAAAAAAAAAAAAAAAAAAAAAAAAAAAAAAAAAAAAAAAAAAAAAAAAAAAAAAAAAAAAAAAAAAAAAAAAAAAAAAAAAAAAAAAAAAAAAAAAAAAAAAAAAAAAAAAAAAAAAAAAAAAAAAAAAAAAAAAAAAAAAAAAAAAAAAAAAAAAAAAAAAAAAAAAAAAAAAAAAAAAAAAAAAAAAAAAAAAAAAAAAAAAAAAAAAAAAAAAAAAAAAAAAAAAAAAAAAAAAAAAAAAAAAAAAAAAAAAAAAAAAAAAAAAAAAAAAAAAAAAAAAAAAAAAAAAAAAAAAAAAAAAAAAAAAAAAAAAAAAAAAAAAAAAAAAAAAAAAAAAAAAAAAAAAAAAAAAAAAAAAAAAAAAAAAAAAAAAAAAAAAAAAAAAAAAAAAAAAAAAAAAAAAAAAAAAAAAAAAAAAAAAAAAAAAAAAAAAAAAAAAAAAAAAAAAAAAAAAAAAAAAAAAAAAAAAAAAAAAAAAAAAAAAAAAAAAAAAAAAAAAAAAAAAAAAAAAAAAAAAAAAAAAAAAAAAAAAAAAAAAAAAAAAAAAAAAAAAAAAAAAAAAAAAAAAAAAAAAAAAAAAAAAAAAAAAAAAAAAAAAAAAAAAAAAAAAAAAAAAAAAAAAAAAAAAAAAAAAAAAAAAAAAAAAAAAAAAAAAAAAAAAAAAAAAAAAAAAAAAAAAAAAAAAAAAAAAAAAAAAAAAAAAAAAAAAAAAAAAAAAAAAAAAAAAAAAAAAAAAAAAAAAAAAAAAAAAAAAAAAAAAAAAAAAAAAAAAAAAAAAAAAAAAAAAAAAAAAAAAAAAAAAAAAAAAAAAAAAAAAAAAAAAAAAAAAAAAAAAAAAAAAAAAAAAAAAAAAAAAAAAAAAAAAAAAAAAAAAAAAAAAAAAAAAAAAAAAAAAAAAAAAAAAAAAAAAAAAAAAAAAAAAAAAAAAAAAAAAAAAAAAAAAAAAAAAAAAAAAAAAAAAAAAAAAAAAAAAAAAAAAAAAAAAAAAAAAAAAAAAAAAAAAAAAAAAAAAAAAAAAAAAAAAAAAAAAAAAAAAAAAAAAAAAAAAAAAAAAAAAAAAAAAAAAAAAAAAAAAAAAAAAAAAAAAAAAAAAAAAAAAAAAAAAAAAAAAAAAAAAAAAAAAAAAAAAAAAAAAAAAAAAAAAAAAAAAAAAAAAAAAAAAAAAAAAAAAAAAAAAAAAAAAAAAAAAAAAAAAAAAAAAAAAAAAAAAAAAAAAAAAAAAAAAAAAAAAAAAAAAAAAAAAAAAAAAAAAAAAAAAAAAAAAAAAAAAAAAAAAAAAAAAAAAAAAAAAAAAAAAAAAAAAAAAAAAAAAAAAAAAAAAAAAAAAAAAAAAAAAAAAAAAAAAAAAAAAAAAAAAAAAAAAAAAAAAAAAAAAAAAAAAAAAAAAAAAAAAAAAAAAAAAAAAAAAAAAAAAAAAAAAAAAAAAAAAAAAAAAAAAAAAAAAAAAAAAAAAAAAAAAAAAAAAAAAAAAAAAAAAAAAAAAAAAAAAAAAAAAAAAAAAAAAAAAAAAAAAAAAAAAAAAAAAAAAAAAAAAAAAAAAAAAAAAAAAAAAAAAAAAAAAAAAAAAAAAAAAAAAAAAAAAAAAAAAAAAAAAAAAAAAAAAAAAAAAAAAAAAAAAAAAAAAAAAAAAAAAAAAAAAAAAAAAAAAAAAAAAAAAAAAAAAAAAAAAAAAAAAAAAAAAAAAAAAAAAAAAAAAAAAAAAAAAAAAAAAAAAAAAAAAAAAAAAAAAAAAAAAAAAAAAAAAAAAAAAAAAAAAAAAAAAAAAAAAAAAAAAAAAAAAAAAAAAAAAAAAAAAAAAAAAAAAAAAAAAAAAAAAAAAAAAAAAAAAAAAAAAAAAAAAAAAAAAAAAAAAAAAAAAAAAAAAAAAAAAAAAAAAAAAAAAAAAAAAAAAAAAAAAAAAAAAAAAAAAAAAAAAAAAAAAAAAAAAAAAAAAAAAAAAAAAAAAAAAAAAAAAAAAAAAAAAAAAAAAAAAAAAAAAAAAAAAAAAAAAAAAAAAAAAAAAAAAAAAAAAAAAAAAAAAAAAAAAAAAAAAAAAAAAAAAAAAAAAAAAAAAAAAAAAAAAAAAAAAAAAAAAAAAAAAAAAAAAAAAAAAAAAAAAAAAAAAAAAAAAAAAAAAAAAAAAAAAAAAAAAAAAAAAAAAAAAAAAAAAAAAAAAAAAAAAAAAAAAAAAAAAAAAAAAAAAAAAAAAAAAAAAAAAAAAAAAAAAAAAAAAAAAAAAAAAAAAAAAAAAAAAAAAAAAAAAAAAAAAAAAAAAAAAAAAAAAAAAAAAAAAAAAAAAAAAAAAAAAAAAAAAAAAAAAAAAAAAAAAAAAAAAAAAAAAAAAAAAAAAAAAAAAAAAAAAAAAAAAAAAAAAAAAAAAAAAAAAAAAAAAAAAAAAAAAAAAAAAAAAAAAAAAAAAAAAAAAAAAAAAAAAAAAAAAAAAAAAAAAAAAAAAAAAAAAAAAAAAAAAAAAAAAAAAAAAAAAAAAAAAAAAAAAAAAAAAAAAAAAAAAAAAAAAAAAAAAAAAAAAAAAAAAAAAAAAAAAAAAAAAAAAAAAAAAAAAAAAAAAAAAAAAAAAAAAAFkAMAAgAAABQAABCYkAQAAgAAABQAABCskpEAAgAAAAMzMAAAkpIAAgAAAAMzMAAA6hwABwAACAwAAAiMAAAAABzqAAAACAAAAAAAAAAAAAAAAAAAAAAAAAAAAAAAAAAAAAAAAAAAAAAAAAAAAAAAAAAAAAAAAAAAAAAAAAAAAAAAAAAAAAAAAAAAAAAAAAAAAAAAAAAAAAAAAAAAAAAAAAAAAAAAAAAAAAAAAAAAAAAAAAAAAAAAAAAAAAAAAAAAAAAAAAAAAAAAAAAAAAAAAAAAAAAAAAAAAAAAAAAAAAAAAAAAAAAAAAAAAAAAAAAAAAAAAAAAAAAAAAAAAAAAAAAAAAAAAAAAAAAAAAAAAAAAAAAAAAAAAAAAAAAAAAAAAAAAAAAAAAAAAAAAAAAAAAAAAAAAAAAAAAAAAAAAAAAAAAAAAAAAAAAAAAAAAAAAAAAAAAAAAAAAAAAAAAAAAAAAAAAAAAAAAAAAAAAAAAAAAAAAAAAAAAAAAAAAAAAAAAAAAAAAAAAAAAAAAAAAAAAAAAAAAAAAAAAAAAAAAAAAAAAAAAAAAAAAAAAAAAAAAAAAAAAAAAAAAAAAAAAAAAAAAAAAAAAAAAAAAAAAAAAAAAAAAAAAAAAAAAAAAAAAAAAAAAAAAAAAAAAAAAAAAAAAAAAAAAAAAAAAAAAAAAAAAAAAAAAAAAAAAAAAAAAAAAAAAAAAAAAAAAAAAAAAAAAAAAAAAAAAAAAAAAAAAAAAAAAAAAAAAAAAAAAAAAAAAAAAAAAAAAAAAAAAAAAAAAAAAAAAAAAAAAAAAAAAAAAAAAAAAAAAAAAAAAAAAAAAAAAAAAAAAAAAAAAAAAAAAAAAAAAAAAAAAAAAAAAAAAAAAAAAAAAAAAAAAAAAAAAAAAAAAAAAAAAAAAAAAAAAAAAAAAAAAAAAAAAAAAAAAAAAAAAAAAAAAAAAAAAAAAAAAAAAAAAAAAAAAAAAAAAAAAAAAAAAAAAAAAAAAAAAAAAAAAAAAAAAAAAAAAAAAAAAAAAAAAAAAAAAAAAAAAAAAAAAAAAAAAAAAAAAAAAAAAAAAAAAAAAAAAAAAAAAAAAAAAAAAAAAAAAAAAAAAAAAAAAAAAAAAAAAAAAAAAAAAAAAAAAAAAAAAAAAAAAAAAAAAAAAAAAAAAAAAAAAAAAAAAAAAAAAAAAAAAAAAAAAAAAAAAAAAAAAAAAAAAAAAAAAAAAAAAAAAAAAAAAAAAAAAAAAAAAAAAAAAAAAAAAAAAAAAAAAAAAAAAAAAAAAAAAAAAAAAAAAAAAAAAAAAAAAAAAAAAAAAAAAAAAAAAAAAAAAAAAAAAAAAAAAAAAAAAAAAAAAAAAAAAAAAAAAAAAAAAAAAAAAAAAAAAAAAAAAAAAAAAAAAAAAAAAAAAAAAAAAAAAAAAAAAAAAAAAAAAAAAAAAAAAAAAAAAAAAAAAAAAAAAAAAAAAAAAAAAAAAAAAAAAAAAAAAAAAAAAAAAAAAAAAAAAAAAAAAAAAAAAAAAAAAAAAAAAAAAAAAAAAAAAAAAAAAAAAAAAAAAAAAAAAAAAAAAAAAAAAAAAAAAAAAAAAAAAAAAAAAAAAAAAAAAAAAAAAAAAAAAAAAAAAAAAAAAAAAAAAAAAAAAAAAAAAAAAAAAAAAAAAAAAAAAAAAAAAAAAAAAAAAAAAAAAAAAAAAAAAAAAAAAAAAAAAAAAAAAAAAAAAAAAAAAAAAAAAAAAAAAAAAAAAAAAAAAAAAAAAAAAAAAAAAAAAAAAAAAAAAAAAAAAAAAAAAAAAAAAAAAAAAAAAAAAAAAAAAAAAAAAAAAAAAAAAAAAAAAAAAAAAAAAAAAAAAAAAAAAAAAAAAAAAAAAAAAAAAAAAAAAAAAAAAAAAAAAAAAAAAAAAAAAAAAAAAAAAAAAAAAAAAAAAAAAAAAAAAAAAAAAAAAAAAAAAAAAAAAAAAAAAAAAAAAAAAAAAAAAAAAAAAAAAAAAAAAAAAAAAAAAAAAAAAAAAAAAAAAAAAAAAAAAAAAAAAAAAAAAAAAAAAAAAAAAAAAAAAAAAAAAAAAAAAAAAAAAAAAAAAAAAAAAAAAAAAAAAAAAAAAAAAAAAAAAAAAAAAAAAAAAAAAAAAAAAAAAAAAAAAAAAAAAAAAAAAAAAAAAAAAAAAAAAAAAAAAAAAAAAAAAAAAAAAAAAAAAAAAAAAAAAAAAAAAAAAAAAAAAAAAAAAAAAAAAAAAAAAAAAAAAAAAAAAAAAAAAAAAAAAAAAAAAAAAAAAAAAAAAAAAAAAAAAAAAAAAAAAAAAAAAAAAAAAAAAAAAAAAAAAAAAAAAAAAAAAAAAAAAAAAAAAAAAAAAAAAAAAAAAAAAAAAAAAAAAAAAAAAAAAAAAAAAAAAAAAAAAAAAAAAAAAAAAAAAAAAAAAAAAAAAAAAAAAAAAAAAAAAAAAAAAAAAAAAAAAAAAAAAAAAAAAAAAAAAAAAAAAAAAAAAAAAAAAAAAAAAAAAAAAAAAAAAAAAAAAAAAAAAAAAAAAAAAAAAAAAAAAAAAAAAAAAAAAAAAAAAAAAAAAAAAAAAAAAAAAAAAAAAAAAAAAAAAAAAAAAAAAAAAAAAAAAAAAAAAAAAAAAAAAAAAAAAAAAAAAAAAAAAAAAAAAAAAAAAAAAAAAAAAAAAAAAAAAAAAAAAAAAAAAAAAAAAAAAAAAAAAAAAAAAAAAAAAAAAAAAAAAAAAAAAAAAAAAAAAAAAAAAAAAAAAAAAAAAAAAAAAAAAAAAAAAAAAAAAAAAAAAAAAAAAAAAAAAAAAAAAAAAAAAAAAAAAAAAAAAAAAAAAAAAAAAAAAAAAAAAAAAAAAAAAAAMjAyMToxMjoxNSAxNjoyOTo0NgAyMDIxOjEyOjE1IDE2OjI5OjQ2AAAAcABjAAAA/+ELFWh0dHA6Ly9ucy5hZG9iZS5jb20veGFwLzEuMC8APD94cGFja2V0IGJlZ2luPSfvu78nIGlkPSdXNU0wTXBDZWhpSHpyZVN6TlRjemtjOWQnPz4NCjx4OnhtcG1ldGEgeG1sbnM6eD0iYWRvYmU6bnM6bWV0YS8iPjxyZGY6UkRGIHhtbG5zOnJkZj0iaHR0cDovL3d3dy53My5vcmcvMTk5OS8wMi8yMi1yZGYtc3ludGF4LW5zIyI+PHJkZjpEZXNjcmlwdGlvbiByZGY6YWJvdXQ9InV1aWQ6ZmFmNWJkZDUtYmEzZC0xMWRhLWFkMzEtZDMzZDc1MTgyZjFiIiB4bWxuczpkYz0iaHR0cDovL3B1cmwub3JnL2RjL2VsZW1lbnRzLzEuMS8iLz48cmRmOkRlc2NyaXB0aW9uIHJkZjphYm91dD0idXVpZDpmYWY1YmRkNS1iYTNkLTExZGEtYWQzMS1kMzNkNzUxODJmMWIiIHhtbG5zOnhtcD0iaHR0cDovL25zLmFkb2JlLmNvbS94YXAvMS4wLyI+PHhtcDpDcmVhdGVEYXRlPjIwMjEtMTItMTVUMTY6Mjk6NDYuMzAxPC94bXA6Q3JlYXRlRGF0ZT48L3JkZjpEZXNjcmlwdGlvbj48cmRmOkRlc2NyaXB0aW9uIHJkZjphYm91dD0idXVpZDpmYWY1YmRkNS1iYTNkLTExZGEtYWQzMS1kMzNkNzUxODJmMWIiIHhtbG5zOmRjPSJodHRwOi8vcHVybC5vcmcvZGMvZWxlbWVudHMvMS4xLyI+PGRjOmNyZWF0b3I+PHJkZjpTZXEgeG1sbnM6cmRmPSJodHRwOi8vd3d3LnczLm9yZy8xOTk5LzAyLzIyLXJkZi1zeW50YXgtbnMjIj48cmRmOmxpPnBjPC9yZGY6bGk+PC9yZGY6U2VxPg0KCQkJPC9kYzpjcmVhdG9yPjwvcmRmOkRlc2NyaXB0aW9uPjwvcmRmOlJERj48L3g6eG1wbWV0YT4NCiAgICAgICAgICAgICAgICAgICAgICAgICAgICAgICAgICAgICAgICAgICAgICAgICAgICAgICAgICAgICAgICAgICAgICAgICAgICAgICAgICAgICAgICAgICAgICAgICAgICAKICAgICAgICAgICAgICAgICAgICAgICAgICAgICAgICAgICAgICAgICAgICAgICAgICAgICAgICAgICAgICAgICAgICAgICAgICAgICAgICAgICAgICAgICAgICAgICAgICAgIAogICAgICAgICAgICAgICAgICAgICAgICAgICAgICAgICAgICAgICAgICAgICAgICAgICAgICAgICAgICAgICAgICAgICAgICAgICAgICAgICAgICAgICAgICAgICAgICAgICAgCiAgICAgICAgICAgICAgICAgICAgICAgICAgICAgICAgICAgICAgICAgICAgICAgICAgICAgICAgICAgICAgICAgICAgICAgICAgICAgICAgICAgICAgICAgICAgICAgICAgICAKICAgICAgICAgICAgICAgICAgICAgICAgICAgICAgICAgICAgICAgICAgICAgICAgICAgICAgICAgICAgICAgICAgICAgICAgICAgICAgICAgICAgICAgICAgICAgICAgICAgIAogICAgICAgICAgICAgICAgICAgICAgICAgICAgICAgICAgICAgICAgICAgICAgICAgICAgICAgICAgICAgICAgICAgICAgICAgICAgICAgICAgICAgICAgICAgICAgICAgICAgCiAgICAgICAgICAgICAgICAgICAgICAgICAgICAgICAgICAgICAgICAgICAgICAgICAgICAgICAgICAgICAgICAgICAgICAgICAgICAgICAgICAgICAgICAgICAgICAgICAgICAKICAgICAgICAgICAgICAgICAgICAgICAgICAgICAgICAgICAgICAgICAgICAgICAgICAgICAgICAgICAgICAgICAgICAgICAgICAgICAgICAgICAgICAgICAgICAgICAgICAgIAogICAgICAgICAgICAgICAgICAgICAgICAgICAgICAgICAgICAgICAgICAgICAgICAgICAgICAgICAgICAgICAgICAgICAgICAgICAgICAgICAgICAgICAgICAgICAgICAgICAgCiAgICAgICAgICAgICAgICAgICAgICAgICAgICAgICAgICAgICAgICAgICAgICAgICAgICAgICAgICAgICAgICAgICAgICAgICAgICAgICAgICAgICAgICAgICAgICAgICAgICAKICAgICAgICAgICAgICAgICAgICAgICAgICAgICAgICAgICAgICAgICAgICAgICAgICAgICAgICAgICAgICAgICAgICAgICAgICAgICAgICAgICAgICAgICAgICAgICAgICAgIAogICAgICAgICAgICAgICAgICAgICAgICAgICAgICAgICAgICAgICAgICAgICAgICAgICAgICAgICAgICAgICAgICAgICAgICAgICAgICAgICAgICAgICAgICAgICAgICAgICAgCiAgICAgICAgICAgICAgICAgICAgICAgICAgICAgICAgICAgICAgICAgICAgICAgICAgICAgICAgICAgICAgICAgICAgICAgICAgICAgICAgICAgICAgICAgICAgICAgICAgICAKICAgICAgICAgICAgICAgICAgICAgICAgICAgICAgICAgICAgICAgICAgICAgICAgICAgICAgICAgICAgICAgICAgICAgICAgICAgICAgICAgICAgICAgICAgICAgICAgICAgIAogICAgICAgICAgICAgICAgICAgICAgICAgICAgICAgICAgICAgICAgICAgICAgICAgICAgICAgICAgICAgICAgICAgICAgICAgICAgICAgICAgICAgICAgICAgICAgICAgICAgCiAgICAgICAgICAgICAgICAgICAgICAgICAgICAgICAgICAgICAgICAgICAgICAgICAgICAgICAgICAgICAgICAgICAgICAgICAgICAgICAgICAgICAgICAgICAgICAgICAgICAKICAgICAgICAgICAgICAgICAgICAgICAgICAgICAgICAgICAgICAgICAgICAgICAgICAgICAgICAgICAgICAgICAgICAgICAgICAgICAgICAgICAgICAgICAgICAgICAgICAgIAogICAgICAgICAgICAgICAgICAgICAgICAgICAgICAgICAgICAgICAgICAgICAgICAgICAgICAgICAgICAgICAgICAgICAgICAgICAgICAgICAgICAgICAgICAgICAgICAgICAgCiAgICAgICAgICAgICAgICAgICAgICAgICAgICAgICAgICAgICAgICAgICAgICAgICAgICAgICAgICAgICAgICAgICAgICAgICAgICAgICAgICAgICAgICAgICAgICAgICAgICAKICAgICAgICAgICAgICAgICAgICAgICAgICAgICAgICAgICAgICAgICAgICAgICAgICAgICAgICAgICAgICAgICAgICAgICAgICAgICAgICAgICAgICAgICAgICAgICAgICAgIAogICAgICAgICAgICAgICAgICAgICAgICAgICAgPD94cGFja2V0IGVuZD0ndyc/Pv/bAEMABwUFBgUEBwYFBggHBwgKEQsKCQkKFQ8QDBEYFRoZGBUYFxseJyEbHSUdFxgiLiIlKCkrLCsaIC8zLyoyJyorKv/bAEMBBwgICgkKFAsLFCocGBwqKioqKioqKioqKioqKioqKioqKioqKioqKioqKioqKioqKioqKioqKioqKioqKioqKv/AABEIAWABSgMBIgACEQEDEQH/xAAfAAABBQEBAQEBAQAAAAAAAAAAAQIDBAUGBwgJCgv/xAC1EAACAQMDAgQDBQUEBAAAAX0BAgMABBEFEiExQQYTUWEHInEUMoGRoQgjQrHBFVLR8CQzYnKCCQoWFxgZGiUmJygpKjQ1Njc4OTpDREVGR0hJSlNUVVZXWFlaY2RlZmdoaWpzdHV2d3h5eoOEhYaHiImKkpOUlZaXmJmaoqOkpaanqKmqsrO0tba3uLm6wsPExcbHyMnK0tPU1dbX2Nna4eLj5OXm5+jp6vHy8/T19vf4+fr/xAAfAQADAQEBAQEBAQEBAAAAAAAAAQIDBAUGBwgJCgv/xAC1EQACAQIEBAMEBwUEBAABAncAAQIDEQQFITEGEkFRB2FxEyIygQgUQpGhscEJIzNS8BVictEKFiQ04SXxFxgZGiYnKCkqNTY3ODk6Q0RFRkdISUpTVFVWV1hZWmNkZWZnaGlqc3R1dnd4eXqCg4SFhoeIiYqSk5SVlpeYmZqio6Slpqeoqaqys7S1tre4ubrCw8TFxsfIycrS09TV1tfY2dri4+Tl5ufo6ery8/T19vf4+fr/2gAMAwEAAhEDEQA/APpCiiikMKKKKACiiigAooooAKKKKACiiigAooooAKKKKACikLBVJYgAdSa5PW/Htjp7tBZD7VMOCQflH41z18TSw8earKx0UMNVxEuWlG51tQzXdvbjM0yJ9WAryPUPGms35K/aDAh/hi4/WqFhJLc3u+eV5CBnLMTXz2J4ipwT9lG/qe7Dh+qo81WSXpqeqXGt2O8lrlPoDmqzeINOX/lvn6Ka4mivkJ5pVnJyaWpvHK6SW7O0/wCEi0/P+tP/AHzUqa3p79LhR9RXDFgv3iBnpk0VmsxqrdIbyyl3Z6FFe20vMVwh+jVqwSeZGDnNeUAlTkEiifWdR06NJLS7kQhumcg17GW557GracdH2OeplDnpCWvmeuUV53pHxJkUiPV4Aw/56R9R+Fd1Yaja6nbCeymWVD6Hp9a+4w2OoYpfu5a9up4+KwNfCu1WOnfoWqKKK7DiCiiigAooooAKKKKACiiigAooooAKKKKACiiigAooooAKKKKACiiigAooooAKKKKACiiigAooooA8/wDiD4gmhlXSrVym5d0rDqQe1efDiu5+IujTLerqkalonUK+B90j1rhq/O83dV4uXtPl6H6Jk8aSwkfZ/P1CustLG1h8GWl6IwLma6MRfuRgnH6VyeOK6S7vIofh/pSCVPOGo7vL3DcRtbtWWCpQqxqRl/KPM3NRhyPqao8P3e/YTGGIyoLct9KhRJI9Ju8QxZRgGkc8r9KuPJFJ42jlWVHCIi7g2Qvynj2qGSaP+ytYIkU7pzt+YfN83auFYenGdo9NPwPDderKPveT/EyL/QWlitNQuYVnSBy6Wzy7PM4xn3x1qJ5LnTLSGG4Ec1s7hjcDkxE9Fz3X0NaguYfEDRyq0dtLZxmOWGdgCn+0PY1Uu2TT/D0VxaoLlJXKNATkqp6sF7jvj8Rivbw0KKg8DiY2T1UvU5a06rkq8Hd32NBNFuHCrviErruWIv8AMR9KwdYykPluMMGwR6YrX0WwFnqcd1/aMNxaxRq8s7SDEHHEYb+Ljn26Vzuraguo6lPPFnymkYpkYyM8GvHxOBjh6ll0f3nsZbXnXqK+1r+nkUq09A1u40TUo5oXPlkgSJnhhWZVzSdMn1fUorS2Qks3zHHCjuTV4Z1FWj7Le57uJVN0ZKr8Nj3KCVZ7eOVDlXUMPxp9RW0ItrWKBeRGgUfgMVLX6gr21Pyx2voFFFFMQUUUUAFFFFABRRRQAUUUUAFFFFABRRRQAUUUUAFFFFABRRRQAUUUUAFFFFABRRRQAUUUUAMlijmiaOZA6MMFWGQa4bXPh0krtPo0oiJ5MMn3fwPau8orlxODo4mNqqudWGxdbCy5qUrHh99oOqacxF1ZyKB/Eo3L+YribnTPE73rzQ6paKAx8vNuNyrnpnFfUjIGGGAI9DVC60DS7wf6RYwuT32c1wYXAVMBKUsM4u/8yuexPOI4hJYiL0/ldj500qLxRYTMs2pWkkEhy6CAKc+vArpIotSmRdl/bkDoPKHH6V6lN4B0OXJWB48/3HIrH1rwb4d0TTJb+/vpLSGNT+8kkwoPYZrlxeHzCtPn5Kd/JWKWJy9reaOBudG1O4mSc3kHnR/dbyxyPfipmttVTDSahbggY3GMf4UnwkvdO8d2V4mpakE1CK5dIreB8Foh0bH9a9NX4e6PnMpnlP8AtSGsPqmaTSjNQsttCPb4CLupSPKxNMkbxStDJz8rpGFx69qfbWdzdvttYJJmPZFJr2G28I6HasGTT4iR3cbv51qxWsEC7YIkjA7KMVKyGpVm51pJX7HTHPKNCHJQg/meYaT8PdSvGV79ltIu4zlz+HavQtH0Gx0S28qyiAJ+9IeWb6mtIDFFe5hMuw+E1gte7PFxeY4jF6VHp2QUUUV6B54UUUUAFFFFABRRRQAUUUUAFFFFABRRRQAUUUUAFFFFABRRRQAUUUUAFFFFABRRRQAUUUUAFFFFABRRRQAUUUUAFZfiXQrXxN4bvtHv0DQ3cRQ5HQ9j+BrTZgqksQAOpNcH4o8aFi9jpD8fdecfyH+NKUuVamNWtGlG7OZ+AnwyfwXbanqOqIpv5p2gjbrtiU9fx617HXkWheJLvRLrcGMsDH95Gx6+4969R0zVLXVrNbizkDKeo7qfQ1MZqRnQxMay7MuUUUVdzqCiiigAooooAKKKKACiiigAooooAKKKKACiiigAooooAKKKKACiiigAooooAKKKKACiiigAooooAKKKKACiiigAooooAKjnnitoGmnkWONBlmY4AFQ6hqNtplo1xeSBEX8z7CvL/EPia51yYpzFaqcrFnr7n1qJTUTmr4iNFeZe8TeMJdUZrXT2aK0BwW6NJ/gK5akorllJt6ng1KkqkryF71d0rV7vR7sT2b4/vIfuuPQ1RopJ2JjJxd0ewaF4gtNctt0DbJlH7yEnlf8AEe9a1eIWl3PYXSXNpIY5UPDCvTfDfiuDWoxDcbYbwDlOz+4/wrphPm0Z7eHxaqLlludFRRRWp3BRRRQAUUUUAFFFFABRRRQAUUUUAFFFFABRRRQAUUUUAFFFFABRRRQAUUUUAFFGR60jMFUsxAA5JJ4FAC0UgIYZU5B6Ed6WgAooooAKKKKACs3WdbtdFtTLcMC5+5GOrVT8ReJ7fRISikS3TD5Ywenua8wvr+51K6a4u5C7se/QewrOdTl2ODEYtU/djuWdY1q61u6M10+EB+SMdFFZtLSVytt6s8WUpSd2FFFFIkKKWkoGFPjkeKRZImKOpyGB5FMooEnZ3PRfC/jJbwLZ6owSfosh4D/X3rsQcjivCgSDkHBHeu18LeMmhKWWrPmPokx6r9a6IVOjPWw2Mv7kz0CikR1kQOjBlIyCOhpa3PVCiiigAooooAKKKKACiiigAooooAKKKKACiiigAooooAKKhuLu2tFDXdxFArHAMrhQfzqv/belf9BOz/8AAhP8aAL1FUf7b0n/AKCdl/4EJ/jR/belf9BSy/8AAhP8aAPHvAkstx4y1vUNQt9bmNpqVxs1B7wiyhVRwrpu7fSm6n8R9T1vQvE2kXUlpcQTeG7u9t7yziliAKrtwpcDePm+8vpXp1ha+E9MtL61s7ixWDUJXmuY2ugwkZxhurd/SsS08EfD2yjnSF4GWezksWEmps+Ld/vRrlztX0AxigDH0vxvq2l6n4Z0i9WCy0m40yz8m8uYpG+2SNENyLIPlVxgYDdaZpvxP1+4fRdYurOwGiazqL2MMCM32iLBIVmPQ9OR2rpn8OeCpdQsbuS5hdrAReRC2pMYVMa7UYx79pYDuRmorPwl4BsNeXV7U2aXKSNLGhvy0UTt951jLbVJ9QKAO4oqj/belf8AQUsv/AhP8aBrWlE4Gp2ZJ6AXCf40AXq5PxP4xi00NZ6eyyXXRm6iP/69UPFHjTO+x0d/aScfyX/GuFJJOSck9TWNSpbRHl4nF/Zpj5ppLiZpZ3Z5GOWZjkmmUUVz3PJuFb2sJ/Z2i2kltbaYkcliZJJ7qXEm/OMqu4E461g1dv8AU4byKASaLBPNbW3kRTyXjLjqQdoQ9z61UbdTooSir8xPcaKLSSfzrkCC3sheNPt4ZSOAPcnimxaXDPp1xcw3Tn7PD5r7rd1THoHIwT9Kiv8AV7i98PQaSIY1AKrNc7zuaNWLBNuOmcd6n1HX5Lq3njgssNPafZmZ7x/LUDGCseNo6c1S5DdRwzJ9QsVub4CNlhit9KW5YKv3j3/GqH2GJbWwuJrjZHeI78RlioXHYck89BU1vrTJqRmuLNJbf7Ctm0XmEGQAcnOOP1qS38QPDeafIumQww2MciJHHOzEhsAfMV4Ix1/Sn7rB+wlq2SDw+JLrTIorhguolwhlhaNlK9cqeR1FY9wbVbt4bK6F2kYw0yIQhbJBAJ64x1FaMGuyxXmmSLZYj01pmQS3rzSSl9uNzsvXg5P6VkQoyQqrgbsc7eRmpko20Mqyope5uPooorM5DpvDXi2bSGW3vC0tmTj1MfuPb2r0u2uoLy3Se2kWSNxlWU8GvDq2dA8RXOh3GY8yWzH95CTx9R6GtoVLaM9DDYtw92ex67RWFdeM9AsNAOs6jqUFpZLwzzNghv7uOpPsK4DSv2jfBup+JJ7KSZrDToY8rf3YKiZs9FQAkD3P5V0ntJpq6PXKK4X/AIXX8Of+hrs/++X/APiaP+F1/Dn/AKGuz/75f/4mgZ3VFcL/AMLr+HP/AENdn/3y/wD8TR/wuv4c/wDQ12f/AHy//wATQB3VFcL/AMLr+HP/AENdn/3y/wD8TR/wuv4c/wDQ12f/AHy//wATQB3VFcjpHxU8Ea9qsGmaR4itbq8uG2xQoGy5xnuPQV11ABRRRQAUUUUAFFFFAHh/xu0e18RfFL4f6JqRkNleyzJMsblSR8ncVr/8M3eAP+eF/wD+Bj/41W+KP/JdPhn/ANfE3/stexUAeTf8M2+Af+eF/wD+Bj/40f8ADNvgH/nhf/8AgY/+Nes0UAeTf8M2+Af+eF//AOBj/wCNH/DNvgH/AJ4X/wD4GP8A416zRQB5N/wzb4B/54X/AP4GP/jR/wAM2+Af+eF//wCBj/416zRQB5N/wzb4B/54X/8A4GP/AI1JB+zr4FtriOeCPUEkjYMrC8fgivVaKAPMPEfhCbR83FlvntAOSeWT6+o965mvdGVXUqwBB4IPeuC8T+DDEXvdIQlerwDt7iuedPqjyMTg+X34HD0UpBDEEYI6g0nesDyzTi0O5e2jmlmtrfzs+Sk8oRpPoKzVBdS0Y3qP4l5H510WtaSdWns9TtJIHiWzSEl5QvlFevXpVzTWaKbR7iyubePQUtM3QLKFZsncWzz0xitfZo7/AKvGTsv+HOSCO33VY59BRGjSOFUEknHA6Vt6Vq8y6V4eNtKkAub2VpQFGXi3DaDnoCDmrcT3L2l22hzwROmrSC4cso/cgnABPaj2d+olhVfcw72yTT3vEnuog1oVVhg5ct0AFQwwPNNGmQgkYKHYfKPxrY1mWAyeJ5DJGd1xbgMpBzyM4q1qiXia3CTdxJpBntxbxBlwRkcY65Jzmm6aKlho30MCKCKa6mjF1GIIC/mXGDtAXOSO56cetV4X8+JZI0fa3IDLg/iK6dheTRu2gTwqw1if7WdygtGCdg5/hz1+lV9Q1pIbTxBcaNPEgOowwwTKAf4fnK5/2gRmj2YSwsbbmAwIYgggjsaStTxLMsviB9rIf3ETMVx94qCay6yas7HFOHJJxCrumaVd6vdi3s4yxP3mPRR6mrWheHrrXLkLECkKn55SOB9PevUtL0q10izW3tEAH8THqx9TWkKd9WdWGwrqvmlsZll4N0mHRZNOv7SK+jnH78ToGDn6GuV0r4EeCtI8S3GpwadHPbzx7fsNyglijOfvLu5FelUV1Wse5GKirI5f/hWvgr/oVdJ/8BE/wo/4Vp4K/wChV0j/AMBE/wAK6iigo5f/AIVp4K/6FXSP/ARP8KP+FaeCv+hV0j/wET/CuoooA5f/AIVp4K/6FXSP/ARP8KP+FaeCv+hV0j/wET/CuoooA8H8S+H9I8P/ALSXgSHRNMtbCOSKVnS3iCBiA3JxXvFeM+Pf+Tl/AH/XCb+TV7NQAUUUUAFFFFABRRRQB478Uf8Akunwz/6+Jv8A2WvYq8d+KP8AyXT4Z/8AXxN/7LXsVABRRRQAUUUUAFFFFABRRRQAUUUUAch4o8HJfBrzTVCXHVoxwH/+vXnckTwytHKhR1OCpHIr3Oue8R+FbfWojLFiK7UcOBw3saxnTvqjzcTg+b3obnlEkUcq7ZUDD0NI8EUiBHRWUdFI4/KrV5Z3Gn3T213GY5UPIPf3FQVz6o8h8y0YbV3hsDcBgH0FMMMZi8vYNhOSvY0+ii7FdjfKjxjYME5xjv60jRo0okZQXX7rHqPpT6KLsLvuMMSGLyyo2f3RwKTyowioI1CocquOB+FSUh60XYXYKqhmYAbm6nua6Tw14Un1lxPcBorRTy2OX9hV7wt4Ne7KXuqoUh6pCeC/ufQV6HHGkUaxxqFVRgADAFbQp31Z6WGwjk+epsRWlpBY2ywWsaxxoMAAVPRRXQeukkrIKKKKBhRRRQAUUUUAFFFFAHjPj3/k5fwB/wBcJv5NXs1eM+Pf+Tl/AH/XCb+TV7NQAUUUUAFFFFABRRRQB478Uf8Akunwz/6+Jv8A2WvYq8d+KP8AyXT4Z/8AXxN/7LXsVABRRRQAUUUUAFFFFABRRRQAUUUUAFFFFAGXregWmuWvl3C7ZFH7uUdVNeWavo91ot4YLtOD9yQfdce1ez1U1LTLXVbNre8jDoeh7qfUGs5wUjjxGFjVV1ozxSitnX/Dl1odx8wMlux+SUD9D71jVytNbnhTg4O0twooqa2tZ7y4SC2jaSRzgKBSJSbdkRojSOEjUszHAAGSTXf+F/Ba2+y91ZQ03VIT0T3Pqa0PDfhKDSEW4ugst4R17J7D/GulHSumnTtqz2cNg1H3p7iDgYFLRRXQekFFFFSwCiiigAooooAKKKKACiiigDxnx7/ycv4A/wCuE38mr2avGfHv/Jy/gD/rhN/Jq9moAKKKKACiiigAooooA8d+KP8AyXT4Z/8AXxN/7LXsVeO/FH/kunwz/wCvib/2WvYqACiiigAooooAKKKKACiiigAooooAKKKKACiiigCK5tobuBobiNZI2GCpFeaeJvCUuku1zZhpbQn6lPrXqFQXoBsLgEA/um/kamUFJHPXoQrLXc8d0zS7rVrtbe0jLE9W7KPU16hoPh210O3AQCSdh88pHJ+ntXAfALUrvVPCurT30plkTUpIlYgAhR0FerAg9COOtTGmomdDCxpavVju1FICCuQQR6ilrQ7AoqNriFJ0geVFlcEqhYbmA64FSUAFFRieE3BgEqGYLuMe4bgPXHpUlABRRRQAUUUUAFFFFABRRRQB4z49/wCTl/AH/XCb+TV7NXjPj3/k5fwB/wBcJv5NXs1ABRRRQAUUUUAFFFFAHjvxR/5Lp8M/+vib/wBlr2KvHfij/wAl0+Gf/XxN/wCy17FQAUUUUAFFFFABRRRQAUUUUAFFFFABRRRQAUUUUAFQ3n/Hhcf9cm/kamrE8YeILbwx4UvdVvobiW3hjPmC3TcwB4zjI4oA84/Zx/5E3V/+wtL/ADpPGGvzfDzxx4gmDyGHX9KMtkhYkfa4/l2rnoSGH5Vifs1eLLC5tdT0GGG5a6e6kvN/l/u1jJ4yc9favatY8OaNr01nLrOnw3j2MomtzKufLf1FAHkUniLxZ4VktvBfhqC4nudG0WK7lP2T7S13O5JZXJddiZyNwycn2rdn8a+LJPFmqxxfZLSx0fSYdSubOWEvK7PEWMQYHj5h15rt9d8G+HvE11Fca3pcF3PEpRJGBDbTyVJHUex4q3b6BpdrfXF5b2MKXFzCkEzheXjQYVT7AHFAHi1l4h1i48Z+F9e8Sazpcgl0i5vIzDAV+yqQDhwGJYD14Jq2Pi14h06DWXmddSji0sX1nNNp5tOSwUHbvYsnOcnBr0iw+G/hDS7l7iw8P2UMrh1Zlj6q/wB4fQ+lSaf8PvCumLOtlolrGtxCYJRtzvjPVTnt7UAeS3HivXfC3iXXtf1O7sNY1K38MwyxtbRGNBvlGA67j0Jz1GR6Vr3nj7x1pHg7Xr68tSWtUs5LC+vLEQCRpJVSRDGrtkDPDA9DXoemfD3wno8M8WnaDZwx3EJgmUR5EkZOSrZ6iktfh54Vs9MudPt9GgW1uzGZojkh9jbkHJ6A8gUAcXfeJvGseuyeHV1nTLa80/SDqVzevZEpcEk4RUL/ACqAME5JrvPBeuzeJvBmmaxdQrDNdwB3Rc7Qe+Pal13wZ4d8TSQSa9pNveyQDbG8i8qv93I7e1bFvbw2ttHb20SRQxKFREGAoHQAUASUUUUAFFFFABRRRQB4z49/5OX8Af8AXCb+TV7NXjPj3/k5fwB/1wm/k1ezUAFFFFABRRRQAUUUUAeO/FH/AJLp8M/+vib/ANlr2KvHfij/AMl0+Gf/AF8Tf+y17FQAUUUUAFFFFABRRRQAU2R1jjZ2ztUEnFOqG8/48p/+ubfypxV3YUnZNnH/APC1/DWfv3P/AH6/+vSf8LY8Nf37n/v1/wDXrw4/eNJX0Sy2h5nz39pVvI9y/wCFseGv79z/AN+v/r0v/C2PDX9+5/79V4ZRR/ZtDzD+0a/ke5/8LY8Nf37n/v1R/wALY8Nf37n/AL9V4ZRR/ZtDzD+0a/ke5/8AC2PDX9+5/wC/VV7/AOJfhPUtOnsrsXEkFxG0cimHqCMGvFKKP7NoeYf2jX8jtPhXeeEvhzpt/Gss8txd3DOZBD0jB+Ra77/hbHhr+9c/9+q8Nop/2bQ8w/tKv5HuX/C2PDX965/780f8LY8Nf37r/vz/APXrw2ij+zaHmH9o1/I9y/4Wx4a/v3X/AH5/+vR/wtjw1/fuv+/P/wBevDaKP7NoeYf2jX8j3L/hbHhr+/df9+f/AK9H/C2PDX9+5/79f/Xrw2ij+zaHmH9o1/I+k/D/AIksPE1nJc6YZDHFJ5bb12nOAf61rV538G/+Ravf+vs/+grXoleDiIKnVcY7I9vDzdSkpPdhRRRWJuFFFFABRRRQB4z49/5OX8Af9cJv5NXs1eM+Pf8Ak5fwB/1wm/k1ezUAFFFFABRRRQAUUUUAeO/FH/kunwz/AOvib/2WvYq8d+KP/JdPhn/18Tf+y17FQAUUUUAFFFFABRRRQAVDef8AHlN/1zb+VTVDef8AHlN/1zb+VVHdEy+Fny633jW34V0e21m7vo7wyBbexluF8tsEsoGO3SsRvvGug8HalZaVc6pNqNylvHJps0SM56swGB9a+sxDkqLcdz5XDqMqqUtiPT/Bms6ja21xHFDFFdrmB5Z1XzD6DJ6+1MtPCOq3bXWUht0tZPKlkuJljRX/ALuSetaP9tWD3ngmEXkZ/s+Mvcr2hJbqfTitiw8SWLX2vSQ6xprW09+0iW+o25eCVePmDDkH8K4Hiq6V7HcsNQvuZWkeAry6vNTtr8rDLZW5lVBKuJGI+XnP3T69KztP8GazqVg17bxQm2QyBpzOuzKHDc59QfrXRRar4WbxBrkemTW1lbXmlNAbgqywvM3XbkZ2/hXNa1qFk3gTQdCtLuKcw3k8k0MQO0qFYI2MdCScZ9qccRXctOtugSw9FR9L9SIeG9TOq2enLApur2FZ4EEi/MjAkHOcDoak07wpqepxyyQLDHFFL5JlnmVFZ/7oJPJ+ldjHqvh5vFmga/Prlvbx21hHbvbFG8xWUN6DAHzdfasVbrRtf8J21lPq9vp7WeoSXG+ZWxIjHhlIB5FP61V2t+DF9Vpb3/Eybfwnq1xqF1ZmBYXtObh5nCJGPUseKsw+Frq01G6tdSspZ3js3uIxbzIAwAyH3E4K/TmrWn3GhXGg6/oMWpmGC5lSSG9vkYCbaec8E4PbNGl32gaLqup+Rq5uYTpUkTXUgIR5WXASPPJFE8RUaf8AkyY4ekmv8zM0jwlq+saXDewRwolwMQiWZUM7YyQgP3qbZeFtWv0uXitlRLSTy7hppFQRH/ayeK2rW40XUtM8I391rkWmyaLAsU1vMjFuCrbo8A8nbiqms+JrTU/DHiQiUwvqmqxyW9tIPneIeo/AHFL61Wva34eZX1aj3KU/hLV4NZi0s26vczJ5kexwVZP727pj3ou/CerWl3aweSk5u22wPbyCRHPcbhxxXXQ+KdGj8UaerXsTR/2L9kll2llhkJPDCshdYFlfaPZR+KLAwW1w0v8AxLNM2x2/bJYnnPcAUli6/NblB4Wja/MZGq+FdS0iyN3cfZ5IUk8qRoJ1k8t/7rYPBrFrufFmraDeaBcJOdJvNXM6/ZZNNhdGIz8zyZGAcZ7muGrtwtWdSF57nJiacac7Reh7L8G/+Ravf+vs/wDoK16JXgPhXSPiLqGnyyeBfEVjpVksm2WK5gVy0mB8wJU8Yx+Vbn/CMfHP/oedI/8AANP/AI3XzuL/AI8j6DCfwInsVFeO/wDCMfHP/oedI/8AANf/AI3R/wAIx8c/+h50j/wDX/43XKdR7FRXjv8AwjHxz/6HnSP/AADX/wCN0f8ACMfHP/oedI/8A1/+N0AexUV47/wjHxz/AOh50j/wDX/43R/wjHxz/wCh50j/AMA1/wDjdAEfj3/k5fwB/wBcJv5NXs1eMaR8MviDc/EzQ/FHjTxFp2pLpW4BYYtjbSCMABQOp717PQAUUUUAFFR7qN1AElFR7qN1AHkPxR/5Lp8M/wDr4m/9lr2GvHPief8Ai+Xw0/6+Jv8A2WvYN1AElFR7qN1AElFR7qN1AElFR7qN1AElQ3n/AB5Tf9c2/lTt1MmXzYXjzjcpGfrTi7MUldNHy833jSdq9UPwbjJ/5Czf9+6P+FNR/wDQWb/v3X031+hbc+b+o176I8r75o7Yr1T/AIU1H/0Fm/790f8ACmo/+gs3/fuj6/h+4fUcR2PK+1Feqf8ACmo/+gs3/fuj/hTUf/QWb/v3R9fw/cPqOI7HldHbFeqf8Kaj/wCgs3/fuj/hTUf/AEFm/wC/dH1/D9w+o1+x5XnijjGMcV6p/wAKaj/6Czf9+6P+FNR/9BZv+/dH1/D9w+o1+x5X+FGa9U/4U1H/ANBZv+/dH/Cmo/8AoLN/37o+v4fuH1Gv2PK/wozXqn/Cmo/+gs3/AH7o/wCFNR/9BZv+/dH1/D9w+o1+x5X+FFeqf8Kaj/6Czf8Afuj/AIU1H/0Fm/790fX6HcPqNfsaHwa/5Fq9/wCvs/8AoK16LXNeD/C6+E9NmtFuTcCWXzNxXGOAP6V0O6vn8RNTqylHZnvYeDhSjGW5JRUe6jdWBuSUVHuo3UASUVHuo3UASUVHuo3UASUVHuo3UARbqN1RbqN1AEu6jdUW6jdQB5N8Tj/xfD4a/wDXxN/7LXr26vHfiaf+L3fDb/r4m/8AZa9d3UAS7qN1RbqN1AEu6jdUW6jdQBLuo3VFuo3UAS7qN1RbqR5NkbOf4QTQ9FdgTZo3Vxn/AAniZP8Aob8f7Ypf+E8T/nzf/vsV5P8AbOB/nO/+z8V/Idluo3Vxv/CeJ/z5v/30KP8AhPE/583/AO+hR/bWB/nD+zsV/Idlupd1cZ/wnif8+b/99Cj/AITxP+fN/wDvoUv7ZwP84f2div5Ds91G6uM/4TxP+fN/++xR/wAJ5H/z5v8A99ij+2cD/OL+zsV/Idluo3Vxn/CeJ/z5v/30KP8AhPE/58n/AO+hT/tnA/zj/s7FfyHZ7qN1cZ/wnif8+b/99Cj/AITxP+fJ/wDvoUf2zgf5w/s7FfyHZ7qN1cZ/wnif8+T/APfQo/4TxP8Anyf/AL6FH9s4H+cP7OxX8h2e6jdXGf8ACeJ/z5P/AN9Cj/hPE/58n/76FH9s4H+cP7OxX8h2e6jdWRomtDWbV5liMWx9uCc54rS3V6VKrCrBTg7pnHOEqcnGS1RLuo3VFuo3VoQS7qN1RbqN1AEu6jdUW6jdQBLuo3VFuo3UAS7qN1RbqN1AEe6jdUW6jdQBLuo3VFuo3UAeUfEw/wDF7fhv/wBfE3/stet7q8h+JR/4vX8Of+vib/2WvWt1AEu6jdUW6jdQBLuo3VFuo3UAS7qN1RbqN1AEu6o7hv8ARpf9w/ypC2BkngVDLKktnI8bq6lDhlOQaip8D9Co7o8rzyaXNR55rTZLSxtrVrmBriS5XzD8+0Iucfia/KqWHlWcmnZLds+6nWVNLS7ZQzSZqzPFE0F5NYjdFDtw0mcgE44A60+4037NE5luYRKihmhz8wB6Vo8BWUeZK6IWKp3s3ZlTNGavz6cG1KSKJligito5pJHPC5Bz/Kq15ZtZmIl1kjlTfG69GFKtga1FNyWi6jp4mnUaSerIM0Zq8NKYWcdxLPHH5iF0Ug8ge9LBo008EbeaivKpeOM5ywHehYDEO1o9L/IHi6K3l5FDNGauaTbRXOprDcAlAGyAcdBUiJaXmm3UscP2ea3XzMByysufenSwVSrDmi1106uwp4qMJcrXz9ShmkzWhLos0UcpMsfmQoHlj5ygPen3Olrb6gLaGSKcm383BYjGACScfXitI5ZiXvGxLxtFbO5mZozV+LR5pIEbzEWWSMyJEc5K+tFvpEk6wEzRxm4z5aseWI7Vn9QxN7cjK+t0bX5ihmlzV230mSeNWaaOPzJDFGDk72HWqMitFK8cgwyMVI9xWNTDVaUVKcbJmkK9Oo2ou9jufBDf8Suf/rr/AEFdNurlfBLf8Syf/rr/AEFdLur9Iyv/AHKn6Hx2O/3mfqS7qN1RbqN1ekcZLuo3VFuo3UAS7qN1RbqN1AEu6jdUW6jdQBLuo3VFuo3UAR7qN1RbqN1AEu6jdUW6jdQB518TvBPiPxL4i0DWPC13bW1zpPmMrT9mbbjj8DWV/Yfxp/6GLTP++P8A61etbqN1AHkv9h/Gn/oYtM/74/8ArUf2H8af+hi0z/vj/wCtXrW6jdQB5L/Yfxp/6GLTP++P/rUf2H8af+hi0z/vj/61etbqN1AHkn9h/Gn/AKGPTP8Avj/61H9h/Gn/AKGPTP8Avj/61et7qN1AHkU2h/GfyJN/iLTSu05ATqMfSuV+F2g/FC2upplums9KLsZVvsssnJzsXr+NfQ+6o7hv9Gk/3TUz+Bjj8SPLAeOetaa6hZz2kEWoQSM9uNqNGfvL6GsrPJpM1+V0q8qMny6p9GfczpxqJX6GhNqQktr5EgEZudgjReiBTnmpb+/srkPMlq32qVQGZj8qkdxWVRXQ8wrOPI7W9DL6rTT5le/qax1WCW9uftEDNbT28cLAH5srnkVVv7xbuWFYY2jgtozHGGOScnJJ/IVTzRmlVx9arFxlbUdPC06bTXQ3bXXIbSxVBFM7hCpjLAox9eelR/2yj6fAkjXSTwR7F8iQKre5rGozWsM0xEEkraabEPA0ZO7L2k3aWF4k0qs6gEEA881JLe2sNnNb6fFJm4AWR5SOFzkgY9azc0uaxpY2rTjaNurv113NJ4enOV2bGqatHfwysr3aTToFdBIBGOx46njtSHVbdb37UkUm97bynGRjIUKMVj5ozW0s0xMnd2MlgaKVkbMuspLZRqxukmji8sLDIFVvc1HBqkcT6aSjH7Hncc/ezWVmjNKWZ4iVrtaDWCorY17fV4xpy28/2mIxzSSIbdwCwZicHP1rMLs7M7klmYsSzZPJ7nvUeaM1jicbWxMVGp0NKOGp0W3Dqd14KP8AxK5/+uv9BXS7q5bwW3/Esn/66/0FdJur9Ayz/cqfofKY7/eZ+pLuo3VFuo3V6Jxku6jdUW6jdQBLuo3VFuo3UAS7qN1RbqN1AEu6jdUW6jdQBFuo3VFuo3UAS7qN1RbqN1AEu6jdUW6jdQBLuo3VFuo3UAS7qN1RbqN1AEu6jdUW6jdQBLupr4dCp6EYNM3UbqN1YDG/4RLTfSX/AL7o/wCES030l/77rZ3Ubq4P7Own/PtHT9br/wA7Mb/hEdN/6a/990f8IjpvpL/33Wzuo3Uf2dhP+faD63X/AJ2Y3/CI6b/01/77o/4RHTfSX/vutndRuo/s7Cf8+0H1uv8Azsxv+ER03/pr/wB90yfwppsdtI6+blUJHz+grc3Vh+MrjV7fwjfz+HhE19FEXRJV3BgByMeuKf8AZ2E/59oPrdf+dnFfCz/irtBvrvV+ZYLx4U8r5RtHSu4/4RLTfSX/AL7ryP8AZ5v9cuRqcLpEmlJK0khMfzNM3YH0Fe6huKP7Own/AD7QfW6/87Mf/hEtN9Jf++6P+ES030l/77rY3UbqP7Nwn/PtB9bxH87Mf/hEtN9Jf++6P+ES030l/wC+62N1G6j+zcJ/z7QfW8R/OzH/AOES030l/wC+6T/hEtN9Jf8AvutndRuo/s3Cf8+0H1vEfzsg03TYNLhaK23bWbcdxzzVzdUW6jdXXCEacVGKskc8pOT5pO7Jd1G6ot1G6rES7qN1RbqN1AEu6jdUW6jdQBLuo3VFuo3UAS7qN1RbqN1AEe6jdUW6jdQBLuo3VFuo3UAS7qN1RbqN1AEu6jdUW6jdQBLuo3VFuo3UAS7qN1RbqN1AEu6jdUW6jdQBLuo3VFuo3UAS7qN1Z+o6nb6ZaNPdPtUdB3J9BXAat4xvr9ilsxt4ewX7x/GuHFY6lhtJavsd2FwNbFP3NF3PQrvWbCxB+03UaEds81iXPj3TYiRCkkxHoMCvOXkaRtzsWJ6knNN4rwaudVpP3EkfQUskox/iNs7eX4huc+TZAem5qrP8QL9gQLaEA9jzXLW9vNdS+XbRtK+M7VGTU8mlX8TRrLayoZG2puXGT6Vz/XsdNXTdvJHT9QwEHZpX82XtD8QHw9aS22mWUEMUsrTMAOrMcmtmP4hXQP720jI9jXI3MEtpcvBcJskQ4ZT2qPNZPMMZF2cncv8As7BzV1BHoEHxBtW4uLWRPdTmtez8V6TeEKlyqMf4X4ryjNJmumnnOJj8Vmc1TJcNL4bo9uSVZFDIwYHuDTt1ePafrd/psga2uG2j+BjkGu80DxXBq2IJgIrnH3c8N9K9zCZnSxD5Xozw8XldbDrmWsTpd1G6ot1G6vUPKJd1G6ot1G6gCXdRuqLdRuoAl3Ubqi3UbqAJd1G6ot1G6gCXdRuqLdRuoAl3Ubqi3UbqAIt1G6ot1G6gCXdRuqLdRuoAl3Ubqi3UbqAJd1G6ot1G6gCXdRuqLdRuoAl3Ubqi3UbqAJd1G6ot1G6gCXdRuqLdRuoA4Hxxdyya0IGJEcaAqPc965rNegeKtAbVYhc2uPtEYxj++PSvP5Y5IJTHMjI69VYYIr4zM6FSFeUpbPZn2uV16c8PGEd1ugzRmmZozXl2PUudJ4JJ/t5sHnyGx+lVZLST+07Bb3XUv3M+FWG6LlD3OO1VtE1ZdHvZLl4nmzEyBEIBJP1qjpkwsrm3nkT/AFbBmVev0r2aWIpww0IN63PHq4epPEzmlpbsdFFpdg2uayl2ZvJtQZC+8s59Tz1qteQabP4YTVdPgnt8TLGyTMCTngHj6iqz6+Dcaxci0kzfoUjj3jK57k1AdSC+GF0oQsztOkhk3DaoXB+vauipLDNSWmvNr18jCnDFKUXrpy6eXUrZozTM0Zr56x9BcfmnwzPBOksTFXRgQRUOa6Dw74cm1G4S4uUMdspzzwX+ldGHo1KtRKmtTmxNanSpuVR6Ho1pM01nDI4wzoGI9yKl3VCuFUKOABgCl3V98k0rM/P27sl3Ubqi3UbqYiXdRuqLdRuoAl3Ubqi3UbqAJd1G6ot1G6gCXdRuqLdRuoAl3Ubqi3UbqAI91G6ot1G6gCXdRuqLdRuoAl3Ubqi3UbqAJd1G6ot1G6gCXdRuqLdRuoAl3Ubqi3UbqAJd1G6ot1G6gCXdRuqLdRuoAl3VR1DSLLU0xdQqzdnHBH41Z3UbqmcIzXLJXRUZyg+aLszjr3wM4YtYXII7LIP61jXHhrVbYndbFwO6HNelbqN1eXUynDzd1oepTzbEw0ep5PJZXcR/eW0q/VDURSQdUYf8BNeuEK33gD9aYYYT1iQ/8Brklki6TOxZ5LrD8TyXa/8Acb8qcsEznCQyN9ENer/Z4B0hT/vmnhI1+6ij6Cksk7z/AAG88fSH4nmEOi6lOQI7OTnuRitW08F382DcOkK/XJrvN1G6uqnk9CLvJtnLUzivLSKSMbTvCenWLB5FNxIO8nQfhW6MKoCgADoBUe6jdXp06VOkrQVjy6lWpVfNN3Jd1G6ot1G6tTIl3Ubqi3UbqAJd1G6ot1G6gCXdRuqLdRuoAl3Ubqi3UbqAJd1G6ot1G6gCXdRuqLdRuoA//9k=)"
      ],
      "metadata": {
        "id": "8TNUKq6N4A3T"
      }
    },
    {
      "cell_type": "code",
      "source": [
        "# Ciclo For\n",
        "for i in range(9) :\n",
        "    print(i)"
      ],
      "metadata": {
        "colab": {
          "base_uri": "https://localhost:8080/"
        },
        "id": "PxP3sCyP71Gp",
        "outputId": "123a2438-f0ed-4142-b453-a1f58e0cf313"
      },
      "execution_count": null,
      "outputs": [
        {
          "output_type": "stream",
          "name": "stdout",
          "text": [
            "0\n",
            "1\n",
            "2\n",
            "3\n",
            "4\n",
            "5\n",
            "6\n",
            "7\n",
            "8\n"
          ]
        }
      ]
    },
    {
      "cell_type": "code",
      "source": [
        "# Ciclo For range tiene tres parámetros: start, stop y step.\n",
        "for i in range(3, 9) :\n",
        "    print(i)"
      ],
      "metadata": {
        "colab": {
          "base_uri": "https://localhost:8080/"
        },
        "id": "S3uXRRee9BC7",
        "outputId": "4b91a637-657a-4c8a-b5ea-4ad6c3951a6b"
      },
      "execution_count": null,
      "outputs": [
        {
          "output_type": "stream",
          "name": "stdout",
          "text": [
            "3\n",
            "4\n",
            "5\n",
            "6\n",
            "7\n",
            "8\n"
          ]
        }
      ]
    },
    {
      "cell_type": "markdown",
      "source": [
        "**Iteración de caracteres con For**"
      ],
      "metadata": {
        "id": "IqCfzY84AcYh"
      }
    },
    {
      "cell_type": "code",
      "source": [
        "for char in \"Horse\" :\n",
        "     print(char)"
      ],
      "metadata": {
        "id": "3h3jiAmaAlyk",
        "colab": {
          "base_uri": "https://localhost:8080/"
        },
        "outputId": "f458abc6-e728-481b-8647-07c877568679"
      },
      "execution_count": null,
      "outputs": [
        {
          "output_type": "stream",
          "name": "stdout",
          "text": [
            "H\n",
            "o\n",
            "r\n",
            "s\n",
            "e\n"
          ]
        }
      ]
    },
    {
      "cell_type": "code",
      "source": [
        "# Literación de listas: Se pueden literar tuplas,diccionarios,listas,entre otros.\n",
        "for num in [1, 2, 3]:\n",
        "    print(num)"
      ],
      "metadata": {
        "colab": {
          "base_uri": "https://localhost:8080/"
        },
        "id": "TMkjhov5BUTk",
        "outputId": "b9e316c7-267c-4bd3-f68d-3730ee26a060"
      },
      "execution_count": null,
      "outputs": [
        {
          "output_type": "stream",
          "name": "stdout",
          "text": [
            "1\n",
            "2\n",
            "3\n"
          ]
        }
      ]
    },
    {
      "cell_type": "code",
      "source": [
        "# Literación de diccionarios.\n",
        "letras = {\"a\": 1, \"b\": 2}\n",
        "for clave in letras:\n",
        "    print(clave)"
      ],
      "metadata": {
        "colab": {
          "base_uri": "https://localhost:8080/"
        },
        "id": "DT0k5hcGCHZq",
        "outputId": "1a9e74be-f7ad-4d51-e94a-e93113ee4d32"
      },
      "execution_count": null,
      "outputs": [
        {
          "output_type": "stream",
          "name": "stdout",
          "text": [
            "a\n",
            "b\n"
          ]
        }
      ]
    },
    {
      "cell_type": "code",
      "source": [
        "letras = {\"a\": 1, \"b\": 2}\n",
        "for valor in letras.values():\n",
        "    print(valor)"
      ],
      "metadata": {
        "colab": {
          "base_uri": "https://localhost:8080/"
        },
        "id": "kri28VDpC1y3",
        "outputId": "d2e2f507-3250-4448-e1c0-18c14a1f940a"
      },
      "execution_count": null,
      "outputs": [
        {
          "output_type": "stream",
          "name": "stdout",
          "text": [
            "1\n",
            "2\n"
          ]
        }
      ]
    },
    {
      "cell_type": "code",
      "source": [
        "# Literación de claves y valores.\n",
        "letras = {\"a\": 1, \"b\": 2}\n",
        "for clave, valor in letras.items():\n",
        "    print(clave, valor)"
      ],
      "metadata": {
        "colab": {
          "base_uri": "https://localhost:8080/"
        },
        "id": "IVwSA96UDMAx",
        "outputId": "ef640e5b-538b-42a4-b72d-10c4502eef7c"
      },
      "execution_count": null,
      "outputs": [
        {
          "output_type": "stream",
          "name": "stdout",
          "text": [
            "a 1\n",
            "b 2\n"
          ]
        }
      ]
    },
    {
      "cell_type": "markdown",
      "source": [
        "**Ciclos While**: Ciclo que continúa mientras una condición es verdadera y se detiene cuando es falsa.\n",
        "\n",
        "**Iteraciones**: Un ciclo while **no tiene** un número fijo o predeterminado de iteraciones.\n",
        " ![while.JPG](data:image/jpeg;base64,/9j/4AAQSkZJRgABAQEAYABgAAD/4RDQRXhpZgAATU0AKgAAAAgABAE7AAIAAAADcGMAAIdpAAQAAAABAAAISpydAAEAAAAGAAAQwuocAAcAAAgMAAAAPgAAAAAc6gAAAAgAAAAAAAAAAAAAAAAAAAAAAAAAAAAAAAAAAAAAAAAAAAAAAAAAAAAAAAAAAAAAAAAAAAAAAAAAAAAAAAAAAAAAAAAAAAAAAAAAAAAAAAAAAAAAAAAAAAAAAAAAAAAAAAAAAAAAAAAAAAAAAAAAAAAAAAAAAAAAAAAAAAAAAAAAAAAAAAAAAAAAAAAAAAAAAAAAAAAAAAAAAAAAAAAAAAAAAAAAAAAAAAAAAAAAAAAAAAAAAAAAAAAAAAAAAAAAAAAAAAAAAAAAAAAAAAAAAAAAAAAAAAAAAAAAAAAAAAAAAAAAAAAAAAAAAAAAAAAAAAAAAAAAAAAAAAAAAAAAAAAAAAAAAAAAAAAAAAAAAAAAAAAAAAAAAAAAAAAAAAAAAAAAAAAAAAAAAAAAAAAAAAAAAAAAAAAAAAAAAAAAAAAAAAAAAAAAAAAAAAAAAAAAAAAAAAAAAAAAAAAAAAAAAAAAAAAAAAAAAAAAAAAAAAAAAAAAAAAAAAAAAAAAAAAAAAAAAAAAAAAAAAAAAAAAAAAAAAAAAAAAAAAAAAAAAAAAAAAAAAAAAAAAAAAAAAAAAAAAAAAAAAAAAAAAAAAAAAAAAAAAAAAAAAAAAAAAAAAAAAAAAAAAAAAAAAAAAAAAAAAAAAAAAAAAAAAAAAAAAAAAAAAAAAAAAAAAAAAAAAAAAAAAAAAAAAAAAAAAAAAAAAAAAAAAAAAAAAAAAAAAAAAAAAAAAAAAAAAAAAAAAAAAAAAAAAAAAAAAAAAAAAAAAAAAAAAAAAAAAAAAAAAAAAAAAAAAAAAAAAAAAAAAAAAAAAAAAAAAAAAAAAAAAAAAAAAAAAAAAAAAAAAAAAAAAAAAAAAAAAAAAAAAAAAAAAAAAAAAAAAAAAAAAAAAAAAAAAAAAAAAAAAAAAAAAAAAAAAAAAAAAAAAAAAAAAAAAAAAAAAAAAAAAAAAAAAAAAAAAAAAAAAAAAAAAAAAAAAAAAAAAAAAAAAAAAAAAAAAAAAAAAAAAAAAAAAAAAAAAAAAAAAAAAAAAAAAAAAAAAAAAAAAAAAAAAAAAAAAAAAAAAAAAAAAAAAAAAAAAAAAAAAAAAAAAAAAAAAAAAAAAAAAAAAAAAAAAAAAAAAAAAAAAAAAAAAAAAAAAAAAAAAAAAAAAAAAAAAAAAAAAAAAAAAAAAAAAAAAAAAAAAAAAAAAAAAAAAAAAAAAAAAAAAAAAAAAAAAAAAAAAAAAAAAAAAAAAAAAAAAAAAAAAAAAAAAAAAAAAAAAAAAAAAAAAAAAAAAAAAAAAAAAAAAAAAAAAAAAAAAAAAAAAAAAAAAAAAAAAAAAAAAAAAAAAAAAAAAAAAAAAAAAAAAAAAAAAAAAAAAAAAAAAAAAAAAAAAAAAAAAAAAAAAAAAAAAAAAAAAAAAAAAAAAAAAAAAAAAAAAAAAAAAAAAAAAAAAAAAAAAAAAAAAAAAAAAAAAAAAAAAAAAAAAAAAAAAAAAAAAAAAAAAAAAAAAAAAAAAAAAAAAAAAAAAAAAAAAAAAAAAAAAAAAAAAAAAAAAAAAAAAAAAAAAAAAAAAAAAAAAAAAAAAAAAAAAAAAAAAAAAAAAAAAAAAAAAAAAAAAAAAAAAAAAAAAAAAAAAAAAAAAAAAAAAAAAAAAAAAAAAAAAAAAAAAAAAAAAAAAAAAAAAAAAAAAAAAAAAAAAAAAAAAAAAAAAAAAAAAAAAAAAAAAAAAAAAAAAAAAAAAAAAAAAAAAAAAAAAAAAAAAAAAAAAAAAAAAAAAAAAAAAAAAAAAAAAAAAAAAAAAAAAAAAAAAAAAAAAAAAAAAAAAAAAAAAAAAAAAAAAAAAAAAAAAAAAAAAAAAAAAAAAAAAAAAAAAAAAAAAAAAAAAAAAAAAAAAAAAAAAAAAAAAAAAAAAAAAAAAAAAAAAAAAAAAAAAAAAAAAAAAAAAAAAAAAAAAAAAAAAAAAAAAAAAAAAAAAAAAAAAAAAAAAAAAAAAAAAAAAAAAAAAAAAAAAAAAAAAAAAAAAAAAAAAAAAAAAAAAAAAAAAAAAAAAAAAAAAAAAAAAAAAAAAAAAAAAAAAAAAAAAAAAAAAAAAAAAAAAAAAAAAAAAAAAAAAAAAAAAAAAAAAAAAAAAAAAAAAAAAAAAAAAAAAAAAAAAAAAAAAAAAAAAAAAAAAAAAAAAAAAAAAAAAAAAAAAAAAAAAAAAAAAAAAAAAAAAAAAAAAAAAAAAAAAAAAAAAAAAAAAAAAAAAAAAAAAAAAAAAAAAAAAAAAAAAAAAAAAAAAAAAAAAAAAAAAAAAAAAAAAAAAAAAAAAAAAAAAAAAAAAAAAAAAAAAAAAAAAAAAAAAAAAAAAAAAAAAAAAAAAAAAAAAAAAAAAAAAAAAAAAAAAAAAAAAAAAAAAAAAAAAAAAAAAAAAAAAAAAAAAAAAAAAAAAAAAAAAAAAAAAAAAAAAAAAAAAAAAAAAAAAAAAAAAAAAAAAAAAAAAAAAAAAAAAAAAAAAAAAAAAAAAAAAAAAAAAAAAAAAAAAAAAAAAAAAAAAAAAAAAAAAAAAAAAAAAAAAAAAAAAAAAAAAAAAAAAAAAAAAAAAAAAAAAAAAAAAAAAAAAAAAAAAAAAAAAAAAAAAAAAAAAAAAAAAAAAAAAAAAAAAAAAAAAAAAAAAAAAAAAAAAAAAAAAAAAAAAAAAAAAAAAAAAAAAAAAAAAAAAAAAAAAAAAAAAAAAAAAAAAAAAAAAAAAAAAAAAAAAAAAAAAAAAAAAAAAAAAFkAMAAgAAABQAABCYkAQAAgAAABQAABCskpEAAgAAAAM1MAAAkpIAAgAAAAM1MAAA6hwABwAACAwAAAiMAAAAABzqAAAACAAAAAAAAAAAAAAAAAAAAAAAAAAAAAAAAAAAAAAAAAAAAAAAAAAAAAAAAAAAAAAAAAAAAAAAAAAAAAAAAAAAAAAAAAAAAAAAAAAAAAAAAAAAAAAAAAAAAAAAAAAAAAAAAAAAAAAAAAAAAAAAAAAAAAAAAAAAAAAAAAAAAAAAAAAAAAAAAAAAAAAAAAAAAAAAAAAAAAAAAAAAAAAAAAAAAAAAAAAAAAAAAAAAAAAAAAAAAAAAAAAAAAAAAAAAAAAAAAAAAAAAAAAAAAAAAAAAAAAAAAAAAAAAAAAAAAAAAAAAAAAAAAAAAAAAAAAAAAAAAAAAAAAAAAAAAAAAAAAAAAAAAAAAAAAAAAAAAAAAAAAAAAAAAAAAAAAAAAAAAAAAAAAAAAAAAAAAAAAAAAAAAAAAAAAAAAAAAAAAAAAAAAAAAAAAAAAAAAAAAAAAAAAAAAAAAAAAAAAAAAAAAAAAAAAAAAAAAAAAAAAAAAAAAAAAAAAAAAAAAAAAAAAAAAAAAAAAAAAAAAAAAAAAAAAAAAAAAAAAAAAAAAAAAAAAAAAAAAAAAAAAAAAAAAAAAAAAAAAAAAAAAAAAAAAAAAAAAAAAAAAAAAAAAAAAAAAAAAAAAAAAAAAAAAAAAAAAAAAAAAAAAAAAAAAAAAAAAAAAAAAAAAAAAAAAAAAAAAAAAAAAAAAAAAAAAAAAAAAAAAAAAAAAAAAAAAAAAAAAAAAAAAAAAAAAAAAAAAAAAAAAAAAAAAAAAAAAAAAAAAAAAAAAAAAAAAAAAAAAAAAAAAAAAAAAAAAAAAAAAAAAAAAAAAAAAAAAAAAAAAAAAAAAAAAAAAAAAAAAAAAAAAAAAAAAAAAAAAAAAAAAAAAAAAAAAAAAAAAAAAAAAAAAAAAAAAAAAAAAAAAAAAAAAAAAAAAAAAAAAAAAAAAAAAAAAAAAAAAAAAAAAAAAAAAAAAAAAAAAAAAAAAAAAAAAAAAAAAAAAAAAAAAAAAAAAAAAAAAAAAAAAAAAAAAAAAAAAAAAAAAAAAAAAAAAAAAAAAAAAAAAAAAAAAAAAAAAAAAAAAAAAAAAAAAAAAAAAAAAAAAAAAAAAAAAAAAAAAAAAAAAAAAAAAAAAAAAAAAAAAAAAAAAAAAAAAAAAAAAAAAAAAAAAAAAAAAAAAAAAAAAAAAAAAAAAAAAAAAAAAAAAAAAAAAAAAAAAAAAAAAAAAAAAAAAAAAAAAAAAAAAAAAAAAAAAAAAAAAAAAAAAAAAAAAAAAAAAAAAAAAAAAAAAAAAAAAAAAAAAAAAAAAAAAAAAAAAAAAAAAAAAAAAAAAAAAAAAAAAAAAAAAAAAAAAAAAAAAAAAAAAAAAAAAAAAAAAAAAAAAAAAAAAAAAAAAAAAAAAAAAAAAAAAAAAAAAAAAAAAAAAAAAAAAAAAAAAAAAAAAAAAAAAAAAAAAAAAAAAAAAAAAAAAAAAAAAAAAAAAAAAAAAAAAAAAAAAAAAAAAAAAAAAAAAAAAAAAAAAAAAAAAAAAAAAAAAAAAAAAAAAAAAAAAAAAAAAAAAAAAAAAAAAAAAAAAAAAAAAAAAAAAAAAAAAAAAAAAAAAAAAAAAAAAAAAAAAAAAAAAAAAAAAAAAAAAAAAAAAAAAAAAAAAAAAAAAAAAAAAAAAAAAAAAAAAAAAAAAAAAAAAAAAAAAAAAAAAAAAAAAAAAAAAAAAAAAAAAAAAAAAAAAAAAAAAAAAAAAAAAAAAAAAAAAAAAAAAAAAAAAAAAAAAAAAAAAAAAAAAAAAAAAAAAAAAAAAAAAAAAAAAAAAAAAAAAAAAAAAAAAAAAAAAAAAAAAAAAAAAAAAAAAAAAAAAAAAAAAAAAAAAAAAAAAAAAAAAAAAAAAAAAAAAAAAAAAAAAAAAAAAAAAAAAAAAAAAAAAAAAAAAAAAAAAAAAAAAAAAAAAAAAAAAAAAAAAAAAAAAAAAAAAAAAAAAAAAAAAAAAAAAAAAAAAAAAAAAAAAAAAAAAAAAAAAAAAAAAAAAAAAAAAAAAAAAAAAAAAAAAAAAAAAAAAAAAAAAAAAAAAAAAAAAAAAAAAAAAAAAAAAAAAAAAAAAAAAAAAAAAAAAAAAAAAAAAAAAAAAAAAAAAAAAAAAAAAAAAAAAAAAAAAAAAAAAAAAAAAAAAAAAAAAAAAAAAAAAAAAAAAAAAAAAAAAAAAAAAAAAAAAAAAAAAAAAAAAAAAAAAAAAAAAAAAAAAAAAAAAAAAAAAAAAAAAAAAAAAAAAAAAAAAAAAAAAAAAAAAAAAAAAAAAAAAAAAAAAAAAAAAAAAAAAAAAAAAAAAAAAAAAAAAAAAAAAAAAAAAAAAAAAAAAAAAAAAAAAAAAAAAAAAAAAAAAAAAAAAAAAAAAAAAAAAAAAAAAAAAAAAAAAAAAAAAAAAAAAAAAAAAAAAAAAAAAAAAAAAAAAAAAAAAAAAAAAAAAAAAAAAAAAAAAAAAAAAAAAAAAAAAAAAAAAAAAAAAAAAAAAAAAAAAAAAAAAAAAAAAAAAAAAAAAAAAAAAAAAAAAAAAAAAAAAAAAAAAAAAAAAAAAAAAAAAAAAAAAAAAAAAAAAAAAAAAAAAAAAAAAAAAAAAAAAAAAAAAAAAAAAAAAAAAAAAAAAAAAAAAAAAAAAAAAAAAAAAAAAAAAAAAAAAAAAAAAAAAAAAAAAAAAAAAAAAAAAAAAAAAAAAAAAAAAAAAAAAAAAAAAAAAAAAAAAAAAAAAAAAAAAAAAAAAAAAAAAAAAAAAAMjAyMToxMjoxNiAxNjo0MzozOQAyMDIxOjEyOjE2IDE2OjQzOjM5AAAAcABjAAAA/+ELFWh0dHA6Ly9ucy5hZG9iZS5jb20veGFwLzEuMC8APD94cGFja2V0IGJlZ2luPSfvu78nIGlkPSdXNU0wTXBDZWhpSHpyZVN6TlRjemtjOWQnPz4NCjx4OnhtcG1ldGEgeG1sbnM6eD0iYWRvYmU6bnM6bWV0YS8iPjxyZGY6UkRGIHhtbG5zOnJkZj0iaHR0cDovL3d3dy53My5vcmcvMTk5OS8wMi8yMi1yZGYtc3ludGF4LW5zIyI+PHJkZjpEZXNjcmlwdGlvbiByZGY6YWJvdXQ9InV1aWQ6ZmFmNWJkZDUtYmEzZC0xMWRhLWFkMzEtZDMzZDc1MTgyZjFiIiB4bWxuczpkYz0iaHR0cDovL3B1cmwub3JnL2RjL2VsZW1lbnRzLzEuMS8iLz48cmRmOkRlc2NyaXB0aW9uIHJkZjphYm91dD0idXVpZDpmYWY1YmRkNS1iYTNkLTExZGEtYWQzMS1kMzNkNzUxODJmMWIiIHhtbG5zOnhtcD0iaHR0cDovL25zLmFkb2JlLmNvbS94YXAvMS4wLyI+PHhtcDpDcmVhdGVEYXRlPjIwMjEtMTItMTZUMTY6NDM6MzkuNDk4PC94bXA6Q3JlYXRlRGF0ZT48L3JkZjpEZXNjcmlwdGlvbj48cmRmOkRlc2NyaXB0aW9uIHJkZjphYm91dD0idXVpZDpmYWY1YmRkNS1iYTNkLTExZGEtYWQzMS1kMzNkNzUxODJmMWIiIHhtbG5zOmRjPSJodHRwOi8vcHVybC5vcmcvZGMvZWxlbWVudHMvMS4xLyI+PGRjOmNyZWF0b3I+PHJkZjpTZXEgeG1sbnM6cmRmPSJodHRwOi8vd3d3LnczLm9yZy8xOTk5LzAyLzIyLXJkZi1zeW50YXgtbnMjIj48cmRmOmxpPnBjPC9yZGY6bGk+PC9yZGY6U2VxPg0KCQkJPC9kYzpjcmVhdG9yPjwvcmRmOkRlc2NyaXB0aW9uPjwvcmRmOlJERj48L3g6eG1wbWV0YT4NCiAgICAgICAgICAgICAgICAgICAgICAgICAgICAgICAgICAgICAgICAgICAgICAgICAgICAgICAgICAgICAgICAgICAgICAgICAgICAgICAgICAgICAgICAgICAgICAgICAgICAKICAgICAgICAgICAgICAgICAgICAgICAgICAgICAgICAgICAgICAgICAgICAgICAgICAgICAgICAgICAgICAgICAgICAgICAgICAgICAgICAgICAgICAgICAgICAgICAgICAgIAogICAgICAgICAgICAgICAgICAgICAgICAgICAgICAgICAgICAgICAgICAgICAgICAgICAgICAgICAgICAgICAgICAgICAgICAgICAgICAgICAgICAgICAgICAgICAgICAgICAgCiAgICAgICAgICAgICAgICAgICAgICAgICAgICAgICAgICAgICAgICAgICAgICAgICAgICAgICAgICAgICAgICAgICAgICAgICAgICAgICAgICAgICAgICAgICAgICAgICAgICAKICAgICAgICAgICAgICAgICAgICAgICAgICAgICAgICAgICAgICAgICAgICAgICAgICAgICAgICAgICAgICAgICAgICAgICAgICAgICAgICAgICAgICAgICAgICAgICAgICAgIAogICAgICAgICAgICAgICAgICAgICAgICAgICAgICAgICAgICAgICAgICAgICAgICAgICAgICAgICAgICAgICAgICAgICAgICAgICAgICAgICAgICAgICAgICAgICAgICAgICAgCiAgICAgICAgICAgICAgICAgICAgICAgICAgICAgICAgICAgICAgICAgICAgICAgICAgICAgICAgICAgICAgICAgICAgICAgICAgICAgICAgICAgICAgICAgICAgICAgICAgICAKICAgICAgICAgICAgICAgICAgICAgICAgICAgICAgICAgICAgICAgICAgICAgICAgICAgICAgICAgICAgICAgICAgICAgICAgICAgICAgICAgICAgICAgICAgICAgICAgICAgIAogICAgICAgICAgICAgICAgICAgICAgICAgICAgICAgICAgICAgICAgICAgICAgICAgICAgICAgICAgICAgICAgICAgICAgICAgICAgICAgICAgICAgICAgICAgICAgICAgICAgCiAgICAgICAgICAgICAgICAgICAgICAgICAgICAgICAgICAgICAgICAgICAgICAgICAgICAgICAgICAgICAgICAgICAgICAgICAgICAgICAgICAgICAgICAgICAgICAgICAgICAKICAgICAgICAgICAgICAgICAgICAgICAgICAgICAgICAgICAgICAgICAgICAgICAgICAgICAgICAgICAgICAgICAgICAgICAgICAgICAgICAgICAgICAgICAgICAgICAgICAgIAogICAgICAgICAgICAgICAgICAgICAgICAgICAgICAgICAgICAgICAgICAgICAgICAgICAgICAgICAgICAgICAgICAgICAgICAgICAgICAgICAgICAgICAgICAgICAgICAgICAgCiAgICAgICAgICAgICAgICAgICAgICAgICAgICAgICAgICAgICAgICAgICAgICAgICAgICAgICAgICAgICAgICAgICAgICAgICAgICAgICAgICAgICAgICAgICAgICAgICAgICAKICAgICAgICAgICAgICAgICAgICAgICAgICAgICAgICAgICAgICAgICAgICAgICAgICAgICAgICAgICAgICAgICAgICAgICAgICAgICAgICAgICAgICAgICAgICAgICAgICAgIAogICAgICAgICAgICAgICAgICAgICAgICAgICAgICAgICAgICAgICAgICAgICAgICAgICAgICAgICAgICAgICAgICAgICAgICAgICAgICAgICAgICAgICAgICAgICAgICAgICAgCiAgICAgICAgICAgICAgICAgICAgICAgICAgICAgICAgICAgICAgICAgICAgICAgICAgICAgICAgICAgICAgICAgICAgICAgICAgICAgICAgICAgICAgICAgICAgICAgICAgICAKICAgICAgICAgICAgICAgICAgICAgICAgICAgICAgICAgICAgICAgICAgICAgICAgICAgICAgICAgICAgICAgICAgICAgICAgICAgICAgICAgICAgICAgICAgICAgICAgICAgIAogICAgICAgICAgICAgICAgICAgICAgICAgICAgICAgICAgICAgICAgICAgICAgICAgICAgICAgICAgICAgICAgICAgICAgICAgICAgICAgICAgICAgICAgICAgICAgICAgICAgCiAgICAgICAgICAgICAgICAgICAgICAgICAgICAgICAgICAgICAgICAgICAgICAgICAgICAgICAgICAgICAgICAgICAgICAgICAgICAgICAgICAgICAgICAgICAgICAgICAgICAKICAgICAgICAgICAgICAgICAgICAgICAgICAgICAgICAgICAgICAgICAgICAgICAgICAgICAgICAgICAgICAgICAgICAgICAgICAgICAgICAgICAgICAgICAgICAgICAgICAgIAogICAgICAgICAgICAgICAgICAgICAgICAgICAgPD94cGFja2V0IGVuZD0ndyc/Pv/bAEMABwUFBgUEBwYFBggHBwgKEQsKCQkKFQ8QDBEYFRoZGBUYFxseJyEbHSUdFxgiLiIlKCkrLCsaIC8zLyoyJyorKv/bAEMBBwgICgkKFAsLFCocGBwqKioqKioqKioqKioqKioqKioqKioqKioqKioqKioqKioqKioqKioqKioqKioqKioqKv/AABEIAUEBIgMBIgACEQEDEQH/xAAfAAABBQEBAQEBAQAAAAAAAAAAAQIDBAUGBwgJCgv/xAC1EAACAQMDAgQDBQUEBAAAAX0BAgMABBEFEiExQQYTUWEHInEUMoGRoQgjQrHBFVLR8CQzYnKCCQoWFxgZGiUmJygpKjQ1Njc4OTpDREVGR0hJSlNUVVZXWFlaY2RlZmdoaWpzdHV2d3h5eoOEhYaHiImKkpOUlZaXmJmaoqOkpaanqKmqsrO0tba3uLm6wsPExcbHyMnK0tPU1dbX2Nna4eLj5OXm5+jp6vHy8/T19vf4+fr/xAAfAQADAQEBAQEBAQEBAAAAAAAAAQIDBAUGBwgJCgv/xAC1EQACAQIEBAMEBwUEBAABAncAAQIDEQQFITEGEkFRB2FxEyIygQgUQpGhscEJIzNS8BVictEKFiQ04SXxFxgZGiYnKCkqNTY3ODk6Q0RFRkdISUpTVFVWV1hZWmNkZWZnaGlqc3R1dnd4eXqCg4SFhoeIiYqSk5SVlpeYmZqio6Slpqeoqaqys7S1tre4ubrCw8TFxsfIycrS09TV1tfY2dri4+Tl5ufo6ery8/T19vf4+fr/2gAMAwEAAhEDEQA/APpGiiigAooooAKKKKACiiigAooooAKKKKACiisTxTrw0HS/NQBp5DtiU+vr+FZVq0KNN1JvRGtKlOtNU4LVl7UdXsdKi8y+uEjHYE8n6CuQ1H4kRqSum2pb0eQ/0rhL29uL+5ae7laWRjkljUBr4nFZ/iKjtR91fifZ4XIaFNJ1vef4HQ3XjbW7knFyIlPaNQKzJdZ1OY5lvZ2z/tkVZl0mOPwta6krO0090YNnYcH/AAqM+HdXEckhsJgsfLHb0rzqv12VnNt3V+rPQpfUo35VFWduiKRu7ljkzyn6uaBd3KnKzyg+zmrU0EMehW80dpcmaSYo85KiIAAnA5yT+HrSvomoQWq3dxZypbnBLkY4NYSo11a13pfS/XubqtRd72WttbdOwyLWtShP7u9nH/AzWna+N9ctiM3IlA7SKDVLUrD/AImy2mn2F1FuRSqzYLSE9SACeKivdG1HTYw99aSQoTgMRx+dbc2Mw7fLJ6dVexjbB14rmive2Ttc7LTviQhwupWhX1eM/wBK7DTtXsdUh8yyuEkHcA8j6ivEKmtLy4sLlZ7SVopFPDKa9LC5/XptKt7y/E87FZFQqJuj7r/A92orD8K68Ne0vzXAWeI7JVHTPqPrW5X21KrCtTVSD0Z8XVpSozdOas0FFFFamYUUUUAFFFFABRRRQAUUUUAFFFFABRRRQAUUUUAFFFFABRRRQAUUUUAFFFFABXH/ABD0ya80yG5t1LfZmJdR6HvXYUjKHUqwBB4IPeubF4eOJoypS6nRhcRLDVo1Y9DwOivStd8AQXkjXGluLeVjkxn7p/wrhNZ0LVdEtpprjT55ViUt+5Xfu+mK/P62U4ulUUOW99mtj7/D5pha8eZSs+z3NaZ1HgLSl3Lu/tPOM89GrVt72ST4nXqyXbtAkHlqhl/dqNgPTp1ryM+KpDIrHQdSLJnbmM8fpTR4okAcDw/qQDnLfuzz+lfWU8tzWmor2O1vtR6fM8SbwdRyftN+bo+tj0WGWEeFNCadlKDVyzjP8O181J4t0u8XV9R1W4uN2nzNGEbz/lKAKAgXP97Jx715t/wlD/J/xT+o/IML+7PH04pW8UyO6s+gakxXkZQnH6USyzMpQ5HRstNpR6fPYcZ4aFTnVRPfeL6/qexebG3jO7RJkSd9MVIX3D5XKnHPY1iXEMvh/wAA3ljqcmLm7uYhawvJvdm3As3UnGATn2rzgeKpFdnGgaluY5Y+Wcn9Kmstea81KKJtGv4WkO3zpU4UfU9qVbBZjCnOpOjok/tRtqraq+oqcMM5RjGr26O+jvo+hu96PatTT/Dmq6kw+zWcm0/xuNq/ma7XQvh/BaSLPqjieQHIjH3R/jXyOFyzE4lrljZd2e5isyw2GT5pXfZbj/h5pc1npc11OpX7Sw2Kf7ozz+tdjSKoQBVAAHAApa/Q8LQWHoxpLofn+KryxFaVWXUKKKK6TnCiiigAooooAKKKKACiiigAooooAKKKKACiiigAooooAKKKKACiiigAooooAKKKKACkIBGCM0tFAFG50XTbwH7TZQSE9ygz+dZc3gbQpTkWrRn/AGJGH9a6KiueeFoVPign8jeGJrU/gm18zyf4mWXh7wN4LvdS+1NBfNE4sUmYssswGQvT+tN+GNn4f8deC7PUTdvPfrEov0hYqsUp5K9P0zXV/E/wxZ+Lvh5qWl3rpExjMlvM/SOVeUP58fQmm/CzwtaeD/h1pumWjxyyGPzbmZDkSTNyx/DoPYCsP7Own/PtG/8AaWK29o/vL8HgXQoTk2zyf9dJWNadromm2ePs1jBGR0IQZ/Or9FbwwtCn8EEvkYzxNep8c2/mIAAMAClooroOcKKKKACiiigAooooAKKKKACiiigAooooAKKKKACiiigAooooAKKKKACiiigAooooAKKKKACiiigAooooAKp6nqlrpNm1zeyhEHQd2PoKq674htNCtDLcNukP3IgeWNeTazrV3rd6bi7fgfcjB4Qe1RKVjkxGJVJWW5b8ReJrrXrggkx2qn5Igf1PqaPD3ia70G4+QmW2Y/PET+o9DWJRWPM73PH9rPm576nuel6pa6vZLc2cgdD1HdT6EVcrxHRtau9EvRPaPwfvxk/K49DXrGheIbTXbQSW7bZVH7yInlT/AIVtGSZ7GHxCqqz3NaiiirOsKKKKACiiigAooooAKKKKACiiigAooooAKKKKACiiigAooooAKKKKACiiigAooooAKKKKACiikzQAtc54m8W2+hxGGErNeMPlTPC+5rP8V+Nk08PZaWwkuiMNIORH/wDXrzWWWSeZpZnZ3c5ZmOSazlO2x52Jxah7sNya+vrjUbt7m8laSRz1Pb2FV6KMVg3c8htt3YUUUUguFWLK+uNOu0ubSQxyoeCO/sar0UXBSad0eueGfF1vrcQhnKw3gHKZ4f3H+FdHXgcUskMqyROUdTkMDgg16T4U8bJf7bHVWWO56JIeBJ9feuiM77nsYfFqfuz3OzopM0xpkQcsKc5xgrydj0Um9iSiq/2yP1NSpKj/AHTWcMRSm7RkmNxa3Q+iiityQooooAKKKKACiiigAooooAKKKKACiiigAqpq2oR6To15qMyM8dpC8zKvUhQSQPyq3Wb4jsJtV8Manp9sVE11ayQx7jgbmUgZ/OgDE0Dx5HqmhDWdX02bQ9PkjSSGe8lQiUMMjG0mpZ/HNgNe0CysWiu7XWVuGF3HINsYhUMc/n+GK5dPh1qWifDzT9N8NiKPUV8g36vOSJdowwRmB2HPQgVQ0D4Z65p7aIb5LSVLOXU3niM5YMtwuEXOOfQmgD0VfGXh19Oe/XWLU2iOI2l3/LuPQe9adne22oWcd1YzpcQSjKSRtlWH1rxYfCvxSdOtFRo4rXS79ZrLTPtpLLF5ZRl87b2JyuQcCvT/AARoR8O+FoLB7f7Mwd5Gi88zbSxyfmIGfyoA6Giiorm6hs7d57mRY40GWZjwKBN21Y93WNC7sFUDJJPSvPPFfjhpi9jo77U+7JOOp9l/xrP8U+MJtXka2siYrMce8n19q5WsZT6I8nE4u/uwA5JyTknvTkUvIqL1YgCm1LbEC6iLHADqSfTmst2eetXqWtT0ttKlMNzc27XAcIYI33OCRkcD2qkI2PRSecdK6LWNVhh8XNfwXWkvALxCot3VppfkUHdjnrn8hS3Umn/29Z6XY6lEkCvLdzTxOPlLfcQt0B6/StOVHdLDQbdnYx9P0yfUNRjs1/dPIGILgjoCf6VSizNDHLGrFZVDJx1BrrrbVrJNY0QzX1uDBDdC5Y3Ql2YA27n49TVXRZbIaZ4Yu57+0gjtrN4pY5ZArGQ4K4Xvx3o5EDwiWl9TnhFIVLBGIHUgcCk8t9u7Y231xxXR6LeWlnpFrcXGpRlJbeYMkl0FCNhtoEeMsT1zWVqGqyTaTo2nwXKiP7F5txHHjLP5ny7u/bpScEluZywyjG7Zn0c54oqa1i825VT06msKk1Tg5voc0IuUkkdz4a8UXKWaWmqSbh0SU9QPeuoDbl3A7gehFecYwMDtWxpOuSWREU5Lw/qtfJVcVOvO82fU4eahFRZ19KrFTlTio4Zo7iFZYWDI3QikkuIYpI45ZUR5ThFZgCx9h3qE2ndHdozStrkudrnmrVZKkqwYdq04m3RhvUV9TluKlWg4T3RyVYWd0Pooor1jEKKKKACiiigAooooAKKKKAPMfiz4w8VaFr/hbQ/BZsUvNcmmjL3iFlBQJgew+Y9vSsz7P8fP+f3wx/3wf8Kl+Kf/ACWT4X/9ftz/ACjr1ygDx77P8ff+f3wx/wB8H/Cj7P8AH3/n98Mf98H/AAr2GigDx77P8fP+f3wx/wB8H/Cj7P8AHz/n98Mf98H/AAr2GigDx77P8ff+f3wx/wB8H/Cj7P8AH3/n98Mf98H/AAr2GigDx77P8fP+f3wx/wB8H/CnalaePX0OOTxo1rK8bHcbA/u8diRgGvX6a6JIhSRQysMEEcGk1dGVWn7SDjc8CorufFfghoC97o8eYurwjqvuK4bkHBGDXNKLR4FWlKlK0gpyxu4JVGYDrgZxTa6S+l1DT9O0YaO8kMEkBkmMSA+bJu6McHgDt70JXCnBTvd7HNjrnFGMV01lo9otzpun3VrNO97ameS8348tiWwAMY4xzTNKtNLuU0iGS1kkfUVlzL5mAm0kA471XKzb6tPuc8kbSuI40LM3AVRkmhonRAzoQuSASOMjqK6rw7b2tvqOgMLOWaW9Z5TOGwsIVsAY7+9Z2maZHqFrocc8szJLPeFk38YU54HqelHIyvqsrXb1MZI3cMUQsFGSQM4FHlv5Rl2HywwUtjjPYZrYto1vrDUWjtJtNj8hf3YmPzHzAOeOlT31hZeTq9rJbTxroULTwzNIdsr7RuO3pznANHIxLDSa3Oeq5pmPtBz/AHa2b2y0uOXU7OK0kWSyskuPPMn3mKg42+mDWBZy+XcI3Y8GuTGQboSiuwoQdKpHmNuj6UvXGOc1v6PoJkKz3i4TqqHqfrXxaTPejByehQ0W4vY76aAs9vaGEE3AwdjNkKcEYHTr0rFufAHiP/hKoLwa3JMjMf8ATgf3kXB/hz/Liu2ubx9M1S6ZdPe5hktUU4HyBQW3Z/PpUvh5p5NISSdlw7EogyfLXptyeuCDg+mK9OpRhCjGcXq90dtNOKsYH/CG6/j/AJHW+/79f/ZVSn+F3jO7naa3+Kmr2sbnIiSDIX/x+vQVXLgDvWrGu1APavRyiL55T6EV3okeTf8ACpfHH/RXdZ/8B/8A7ZR/wqXxz/0V3Wf/AAH/APtlet0V9Gcp5J/wqXxx/wBFd1n/AMB//tlJ/wAKl8cZ/wCSu6z/AOA//wBsr1yigDyT4H6lrlze+K9O8Qa5daw2mX4t4prk84A5IHbPpXrdeQfBP/ka/iB/2GD/ACNev0AFFFFABRRRQB5J8U/+Sx/C/wD6/rj+UdetjpXknxT/AOSx/C//AK/rj+UdetjpQAUUUUAFFFFABRRRQAUUUUABGRXF+K/BKXwa90pQlwOXiHAk+noa7Sik0mjOpTjUjaR4FJG8UjRyoUdThlYYINWotU1KC1NvaX1xBH6RPjFeneJ/CNvrcRngCxXijh+z+xrxbxH4Umn1EJe3d5ZSRDaY4nwp96KFKnKpy1Z8q72ueLUozoS0ZrreahHpi6fDe3UdsqlNiyEZU9RnrTYZrm3e3aGWWP7KhSAKeIwfSuT/AOELj/6DOo/9/KP+ELj/AOgxqP8A38r0PquA/wCgn/yVmPPPqzsbXUdSsrWG3tL25hihbcqo+MnOeaggkurb7J5M0y/ZCxh+Y/KW+8fqa5b/AIQuP/oM6j/38o/4QuP/AKDGo/8Afyj6tgP+gn/yVj9rPudbPd39y8z3F3cyNMoRyXPKg52/TNF9eX+pQC3vbq4ltwVJhLna23pkd8e9cl/whcf/AEGNR/7+Uf8ACFx/9BjUf+/lH1bAf9BP/krF7Wfc6qW4uZJLp5LiYvdqEmbdyygABfpgUyKN5ZViiUs7HCqoySaq+HPD00DfYbOa5vZJXyPNbJH+Ar2Lwx4Rt9EjWecLLeEcvjhPYf415tSnHnag7x77G1KlUrPV6FHQPCs1naR3GpAPP1EfXZ9fetvGDg1r45pjwI55UV42JypTfNSdj6OlNU48pl4BGD3oVOAqDAHQAVofY481IkKIeFFcsMpqt++7I1dZdCG2t9vzN1q0KKK+goUYUIKEDnlJyd2FFFFbEhRRRQB5B8Ev+Rq8f/8AYYP8jXr9eQfBL/kafH//AGGD/I16/QAUUUUAFFFFAHknxT/5LH8L/wDr+uP5R162OleSfFP/AJLH8L/+v64/lHXrY6UAFFFFABRRRQAUUUUAFFFFABRRRQAVka94dtNdtSkyhJlHySgcr/8AWrXooauTKKkrM8Q1jRrvRb1re7Qj+44+649RWfXueqaVa6vZNbXkYdT0PdT6g15N4h8M3eg3J3gy2zH93MB+h9DWEoW1PGxGGdN3jsYtFFFZnCFX9I0e71q9FvZxkn+Jz91B6k1b8PeGrrXrnEYMduh/eTEcD2Hqa9X0vSrTSLNbayiCKOrd2PqTVxhc7sNhXU96WxU0Dw5aaDa7IV3zMPnlI5P+ArZpKWui1j2YxUVZBRRRQUFFFFABRRRQAUUUUAFFFFAHkHwS/wCRp8f/APYYP8jXr9eQfBL/AJGnx/8A9hg/yNev0AFFFFABRRRQB5J8U/8Aksfwv/6/rj+UdetjpXknxT/5LH8L/wDr+uP5R162OlABRRRQAUUUUAFFFFABRRRQAUUUUAFFFFABUN1aw3lu0FzGskbjBVhU1FAmk9GeUeKfCE2is11a5ksic57x/X296PC3hCbWmW6usx2YPXvJ7D/Guo+LDtH8JPEzxsVddPkKsDgggVF8KrgL8HPDtxcSHA09Hkdjk9ySaz5Fe5xrBU+fm6djrrW0hsrZILWJY4kGAqipsVzelfELwrreprp2la1Bc3bZxCitnjnuK6StDtSsFFFFABRRRQAUUUUAFFFFABRRRQAUUUUAeQfBL/kafH//AGGD/I16/XkHwS/5Gnx//wBhg/yNev0AFFFFABRRRQB5J8U/+Sx/C/8A6/rj+UdetjpXknxT/wCSx/C//r+uP5R162OlABRRRQAUUUUAFFFFABRRRQAUUUUAFFFFABRRRQBx3xb/AOSQeJ/+wdL/ACpnwiGfg94Y/wCwelY/x9m1u3+E+oyaGsTwshjv0dNzeQ3BZT2IOPwzVH4I/wDCS6n8FoEvLiKx3RGDSpEi+ZI1yBI2euTnHsKaSbswGXdhqNufijNZ2txFNMim0eNCGc+V1Qjrz6VTEd94M1Dw1dOmu3lpd6Lcx3GDLcu17IEZQw52kkEDoB7Vuf8ACE/EcY2/EDP1tl/wo/4Q/wCJq/d8dwH/AHrUf4V6KwVJ/wDMRH/yb/IydSX8rPP3g8Vy6d4ej1W6vbKH+xUFvPLHdOYrrzDuJERyXxt+/kYr6F08SjTbYXMnmzCJd8m3bubAycds+lcHpvhv4k2+p28l/wCL7O4tUkBmj+zYLr3A4r0SuWvRjSaUZqXpf9Ui4yclqrBRRRXOUFFFFABRRRQAUUUUAFFFFAHkHwS/5Gnx/wD9hg/yNev15B8Ev+Rp8f8A/YYP8jXr9ABRRRQAUUUUAeSfFP8A5LH8L/8Ar+uP5R162OleSfFP/ksfwv8A+v64/lHXrY6UAFFFFABRRRQAUUUUABry74h+Ntb8P+Jls9MuEjhNushDRq3JJ7n6V6jXh3xe/wCR1T/r0T/0Jq9DLqcale0ldWPPzCcoUbxdncqf8LT8U/8AP7H/AN+F/wAKP+Fp+Kf+f2P/AL8L/hXIxRSTzpFCheR2Cqo6knoKW4t5rS5kt7mNopYm2ujDBU+hr6L6th725UeD9Yr2vzM63/hafin/AJ/Y/wDvwv8AhR/wtPxT/wA/sf8A34X/AArjalht5rmQpbxtIwBYhRkgDqaPq2HX2F9wfWK/87Ot/wCFp+Kf+f2P/vwv+FH/AAtPxT/z+x/9+F/wrjaKPqtD+RfcL6zW/nf3nV3nxI8R6hYz2d5cwy29xG0csbQLhlYYI6ehpLH4i+IdN0+3sbK4hitraNYoo1gXCqowB09K5Win9VofyL7h/Wa387+87L/hafin/n9j/wC/C/4Uf8LT8U/8/sf/AH4X/CuUNncLZLeGJhbs/liTHBb0+tQUlhsO9oobxNdfaZ2X/C0/FP8Az+x/9+F/wo/4Wn4q/wCf2L/vwv8AhXHUlP6rQ/kX3C+s1/53952P/C0/FX/P7F/34X/Cl/4Wn4q/5/ov+/C/4VxuaWl9VofyL7g+s1/5n95658O/G2t+IfEz2eqXCSQi3aTCxqvII7j616jXh3wf/wCR0l/69H/9CWvca+dzCEYV7RVlY9/ATlOjeTuwooorzzvCiiigAooooA8g+CX/ACNPj/8A7DB/ka9fryD4Jf8AI1eP/wDsMH+Rr1+gAooooAKKKKAPJPin/wAlj+F//X9cfyjr1sdK8k+Kf/JY/hf/ANf1x/KOvWx0oAKKKKACiiigAooooADXh3xe/wCR1T/r0T/0Jq9xNeHfF7/kdU/69E/9CavUyv8A3j5HmZn/AAPmcp4f/wCRm03/AK+ov/QxXX60bKwh8T6tNp8F3eR66sEJmBKruPOR34zXnE2pz6ZcwzWttPLIpDq8Q+4QeKiuPFGqXcEkN1BqUsc1z9qmDY/eyDozcdq+hrZbicRKNSntbvbqeZhqkIU2pL+rHrL6bodt4tvzLYpDGdPhnjZoWkhgd85LAduKs2NouleJr6VbLT2gudFlniNvu2yBRzwegPcV5PF461+DUJL2JdTFxJGsRf0Rei4xjApE8ca8mptqO3VGvDH5XnscsE/ugYwB7YrB5Njnu1t3OpV6S1S6+R2SXGn6X4C06/fR7S41HU7q4iDOGCRKMngf7PAFao8N2Q8czWv2BTZx6MJ8bTt8zyyd3515bc+JdSvI4Y7u11GaOF5JUR+gdzlm6dTmr7fEDxI0Cwh9WWNIzGqqcALjGOnPHrV/2RjVG8Xr/iJ9rSb95aeiO4S3i0vT9Bt7Tw/Fq7anaPNOWBLu3OFUj7uOtMtbeLSfDWiTwaJBqdxqdxMtwrgsVCHAjUjofeuFtvHGvWWnCxsxqtvbgEbImx1684yPwo0/xtrmk2P2PS49TtIM52RHGOMcZHFP+ycbbo/+3tyfa0r7fgtDuLbRbW90zSYry3Nq8+uNBIm8ny12529cZ7ZqXUILO80PxM0+ix6d/Y0ii1eNSrMN+zaxP3iev415wfEuo/ZobcWuoiGGYzrHnjzD/GTjJNWdS8aa3q8KQ6nHqlzCjB1ic/LuHQkY5I96X9kY290194/bUrWaPUZLPSD4l1PQo9Itkhg0pbjzQDv8wpuyDngVBbWWhabpeiw31ms8Wo2ZmnkS3eWYsem0rwMV5l/wmGsC+ub3ytT+1XMYhkl4zsAxtHHAxxUsHjjXrXTVsLQarBahSvlxtjg9RnGR+FS8nx1tH+JSr0esT0zw1p+j3WgadDHaW63lyZAy6hbuPtJz8uxx93Fee3tvJaajc20yqskMrIyocgEHoDVey8c6/ZWsNjYHU7S2Q4VUPCZ+o4/CheM5JJJJJY5JJ5JJ9auGDxGHqP2r0fnc5cRUpyglFWZ0Hg7xfpngjWn1TWVuGt2iMIFvEZG3EgjgduDXcf8ADRPgr/nnq/8A4AtWF8I445fGcgkRXAtHOGGR95a9t+x2v/PtD/37FfP5n/vHyPWy7+B8zzD/AIaJ8Ff88tX/APAFv8aP+GifBX/PLV//AABb/GvT/sdr/wA+0X/fAo+x2v8Az7Rf98CvNPRPMP8AhonwV/zy1f8A8AW/xo/4aJ8Ff88tX/8AAFv8a9P+x23/AD7Rf98Cj7Hbf8+0X/fAoA8w/wCGifBX/PLV/wDwBb/Gj/honwV/zy1f/wAAW/xr0/7Hbf8APtF/3wKPsdt/z7Rf98CgDx34AXqanqfjTUreOVLe71PzYvNQqSpHHBr2imRwxRAiKNEB67VAzT6ACiiigBM0ZqPdRuoA8o+KZ/4vH8L/APr+uP5R162DxXkPxSP/ABeL4Yf9ftx/KOvWg3FAEmaM1Huo3UASZozUe6jdQBJmjNR7qN1AEma8q+JHhDWtc8ULd6ZZmaEW6oWDAcgnj9a9R3Ubq3oV5UJ88dzCvQjXhySPAP8AhXHij/oGt/32KP8AhXHij/oGt/32K9+zS7q7v7VrdkcX9mUe7PAP+Fb+KP8AoGt/32KP+Fb+KP8AoHN/32K9/wB1G6j+1a/ZB/ZlHuzwD/hW/ij/AKBzf99ij/hW/ij/AKBzf99ivf8AdRmn/atfsg/syj3Z4B/wrfxR/wBA1v8AvsUf8K38Uf8AQNb/AL7Fe/5ozR/atfsg/syj3Z4B/wAK38Uf9A1v++xR/wAK38Uf9A1v++xXv+aM0f2rX7IP7Mo92eAf8K38Uf8AQNb/AL7FH/CuPFH/AEDW/wC+xXv+aTNH9q1+yD+zKPdngP8AwrfxR/0DW/77FH/Ct/FH/QNP/fYr37NGaP7VrdkH9mUe7PL/AIbeEda0LxPJd6nZmGE2zIG3A8kr/ga9VzUW6l3VwV60q8+eW53UaMaMOSOxJmjNR7qN1YGxJmjNR7qN1AEmaM1Huo3UASZozUe6jdQBJmio91FAEW6jdUW6jdQB5Z8UT/xeD4Y/9ftx/KOvWA3FeR/E8/8AF3vhn/1+3H8o69XDcUAS7qN1RbqN1AEu6jdUW6jdQBLuo3VFuo3UAS7qydS8S2WlXf2e5EhcqG+VcjFaJauA8Zn/AInw/wCuS/zNeRm+Lq4PDe0pb3SO/AYeGIrck9rHRf8ACb6Z6Tf98Uf8JvpnpN/3xXnmaM18j/rFjfL7j3v7Iw3n956H/wAJvpnpN/3xR/wm+mek3/fFeeZozT/1ixvl9wf2RhvP7z0P/hN9M9Jv++KP+E30z0m/74rzzNGaX+sWN8vuD+yMN5/eeh/8JvpnpN/3xR/wm+mek3/fFeeZozR/rFjfL7g/sjDef3nof/Cb6Z6Tf98Uf8JvpnpN/wB8V55mjPvR/rFjfL7h/wBkYbz+89D/AOE30z0m/wC+KP8AhN9M9Jv++K88z70Z96P9Ysb5fcH9kYbz+89D/wCE30z0m/74o/4TfTPSb/vivPM+9GaP9Ysb5fcH9kYbz+89P0zxJZ6rdG3thIHClvmXAxWturzzwUf+J43/AFxb+Yrvt1fX5Ti6mLwyq1d7s+fx9CGHrckNrEu6jdUW6jdXrHCS7qN1RbqN1AEu6jdUW6jdQBLuo3VFuo3UAS7qKi3UUAR7qN1RbqN1AHl3xOP/ABd34af9flx/KOvVQ3FeefEjwBqnjLU9D1DRNbXSLrSGleOUxbzl9vI57bf1rD/4V78T/wDop0n/AICigD2DdRurx/8A4V78T/8Aop0n/gKKP+Fe/E//AKKdJ/4CigD2DdRurx//AIV78T/+inSf+Aoo/wCFe/E//op0n/gKKAPYN1G6vH/+Fe/E/wD6Kc//AICij/hXvxP/AOinSf8AgKKAPWzcwi4EBlQTMu4R7huI9cdcVwvjNv8AifD/AK5L/M15d4p+FXxMv/FOkuviWTVJoUZl1EkwC05HGRySevHpXbXen6rpaW9pr+rnV72OFQ90YhHu68YHX6nk189xEv8AY/mj1sp/3n5MvSR2dg0EVxbtO0iCSR9+3aD2A7moZLZZIXls03QmcRIzn5zkcDA4px1S3mjgN5ZtPLCAoKy7QwHTPBqNtWkaMr5CKWuRcfJwqYGAoHf618u3hZLVpRtpZa7dT2/36eid+uuhO2liGZFe5gkKyiOVEf5lJ7e/4U1tPD3V4xljt7aC4MQeQnGc8D3NNudTt5bnzYLIRu0old2fcfUheOM0ianFJFdJe2m9Jrg3CKkmCjH3x6e1WoYCzi31038+oubFaO35eRFdWktndtby43DGCDkEHoRVm70p7OLMlxF5ny/uudxz0xxz+FUru8a8vnuXRU3YAQHO1VAAGfoK0Zdf/wBEaCCGT5gB++m3qmD1AIz+tc1Klg3Kopy06Gs54lRg4rXqRzaTLDBK4mikeEAyxqfmTPrUVksAtb24nh83yIS6oWIBOR6VNqWtfb4pF2XCmQLuBuD5Yx1wo+nrVO2u0hguYpYWlS4j8tgsmwgZHOcH0rXlwdPFQdN3j1vsQpYiVCXOve8jQSyh1GxWWyi8qcSiNkDEqc9xmki0cNcW+bmKSCWYRNIhPyt6dPyqKDWRamEWdt5KJJ5jh5N5c9AM4GBzTpda33cEiLcbIpxKRLcFwcdAB0H61uo5e0pVH7yte23yMm8WnaC089yL7GWa8S2MUwgm8suC3GWIAHqegPvmn3GlSQQSSCeKUxMFlVCcoT60xNVEBuPs1uVE0wkG+TJX5tx7c8mn6jrH21HRVuF8xgzBrglBjnAX6+tTOnl8oyd7PpYpSxaklbQdNo8sMdwXnhMlsm+SINyF9aR9IlSJz50RljQO8IJ3KDVafU5JpdUmEAVr6Mxqu/7g2quScf7Oce9W7/XPtsLJsnVnQK2LgiP/AL5H+NJ0ctcW1LXWwKpjLrQveC2/4nbf9cW/mK77dXn3gw41tv8Arif5iu83V9Pw/wD7kvVni5t/vPyRLuo3VFuo3V755RLuo3VFuo3UAS7qN1RbqN1AEu6jdUW6jdQBLuoqLdRQBHuo3VFuo3UAS7qN1RbqN1AEu6jdUW6jdQBLuo3VFuo3UAS7qN1RbqN1AEm6uC8Yn/ieD/rkv8zXcbqgms7a4ffPBG7dMsua8zM8HLG0PZRdtbnZg8QsNV52rnmG6jdXpn9m2P8Az6Q/98Cj+zbH/n0h/wC+BXzn+rVX/n4vuPY/tmH8j+88zzRur0z+zbH/AJ9If++BR/Ztj/z6Q/8AfAo/1aq/8/F9wf2zD+R/eeZ5ozXpn9m2P/PpD/3wKP7Nsf8An0h/74FH+rVX/n4vuD+2YfyP7zzPdRurpviPbQWfw01+4tIUhmjspGSRFwynHUGmfDW3hvPhnoFxdxJNNJZozyOMsx9SaP8AVqr/AM/F9wf2zD+RnOZFG6vTP7Osf+fSH/vgUf2fY/8APpD/AN8Cj/Vqr/z8X3B/bMP5H955nuo3V6Z/Z9j/AM+kP/fAo/s+x/59If8AvgUf6tVf+fi+4P7Zh/I/vPM91G6vTP7Psf8An0h/74FH9nWP/PrF/wB8Cj/Vqr/z8X3B/bMP5H95yfg1v+J23/XI/wAxXebqpQ2ttA++GBEbGMquKsbq+ly3BvB0PZSd9TxsZiFiKvOlYl3Ubqi3Ubq9E5CXdRuqLdRuoAl3Ubqi3UbqAJd1G6ot1G6gCXdRUW6igCLdRuqLdRuoAl3Ubqi3UbqAJd1G6ot1G6gCXdRuqLdRuoAl3Ubqi3UbqAJd1G6ot1G6gCXdRmot1G6gCXNGaoX2qWmnRb7udYx2GeT9BXL33j9FYrYW2/8A2pDj9K46+NoYf+JLU66GDr4j+HHQ7fdSbx615bc+MdXnPE4iHogxWdLrGoTEmS9mOf8AbNeXPPaKfuxbPUhkdZr3pJHS/GLw5N4m+H12thPIt5ZgzxpHIR5qgfMhAPOR29QKZ8GvDsvhv4fWv2+Z2u70Cd0kkJ8lSPkQA9MDnHqTXLG6uGHzTyH6saFup1+7NIMejGsf7fX/AD7/ABNv7Bl/z8/A9q3g9DRmvHI9X1CIgx3ky4/2zWhb+MNXgIzceaPRxmtYZ7RfxRaMZ5HWXwyTPVM0Zrh7H4gIzBdQtto/vxnP6V1FjqlpqMXmWk6yDuAeR9RXrUMbQxH8OWp5dfB18P8AxI6fgaGaM1Fuo3V1nIS5o3VFuo3UAS7qN1RbqN1AEu6jdUW6jdQBLuo3VFuo3UAS7qN1RbqN1AEu6iot1FAEe6jdUW6jdQBLuo3VFuo3UAS7qN1RbqN1AEu6jdUW6jdQBLuo3VFuo3UAS7qN1RbqN1AEu6sjxFrY0bTjKoDTSHbGD6+taW6uX8cWMt1p8U8KlvIYlgPQ9648bOpDDylT3OvBwhPERjU2ucTdXs97cNNcytI7dSTUGabmjNfn8m5O73PvopRVlsOzWtoWnWt+LuS9klSK3iMp8rGSB9ax810Hhi5FtBqcxCHZasQsnQ+xrrwNOFTERjNXX/AOXGznDDylB2f/AAStaLpV5q0UVnaalPbmJmYEIHLdgBn0qra6de3sQltrSRlLbcLztPpmtbw1qMl94mgmuEt4VWFgFhj2L06mqKXMkfgNEhneIyX4VvLfaWXGcZHOOK9L6tQrQ5tkr7Ltbuef9Yr0p8u7dt3fe/YpXNrPZzGK6iaJx/CwqKtjxRL5l3YnduY2aljnJznvWLmvJxVFUarhF3R6eGrOrSU3uOqa1vJ7KdZrWVo3U8FTVfNGawi3F3T1N5JSVmtD1Tw7rY1nTvMYBZoztkA6Z9RWvurkvA9lLa6fNcSgr9oI2g+gzz+tdRur9BwU6k8PGVTex8BjIQhiJRp7XJd1G6ot1G6us5SXdRuqLdRuoAl3Ubqi3UbqAJd1G6ot1G6gCXdRuqLdRuoAl3UVFuooAi3Ubqi3UbqAJd1G6ot1G6gCXdRuqLdRuoAl3Ubqi3UbqAJd1G6ot1G6gCXdRuqLdRuoAl3UjYYEMAQeoNR7qN1AHNav4NhuXabT3ELnkofun/CuTvNG1CwYi4tnCj+JRkfnXqO6gkEdM14+IyihWfNH3Wevh82r0Vyy95ef+Z4/mg/MpVuVPUeteqXGl2F1zcWkLk9ygz+dUJfCejyHP2dk/wB1yK8ueSVou8JJ/genDOqLXvxa/E86zwR2IwaQhcKMD5Pu+30rvz4L0s9DMP8AgdIPBel55ac/8DrJZPi1pdfea/2xhuz+44H+It/Eeppc16LF4S0ePrbs/wDvuTV+30uwtT/o9pChHcIM1rHJK0n78kvxMp51RXwRb/A86stF1C/I+z2z7T/GwwPzNdXpHg2G2dZtRcTOOQg+6P8AGumzjpRur1cPlNCi+aXvPzPLxGa16y5Y+6vL/MeuFAVQAB0Ap26ot1G6vXPJJd1G6ot1G6gCXdRuqLdRuoAl3Ubqi3UbqAJd1G6ot1G6gCXdRuqLdRuoAl3UVFuooAbRRRQAUUUUAFFFFABRRRQAUUUUAFFFFABRRRQAUUUUAFFFFABRRRQAUUUUAFFFFABRRRQAUUUUAFFFFABRRRQAUUUUAFFFFABRRRQB/9k=)"
      ],
      "metadata": {
        "id": "YMg1vv2HDsnk"
      }
    },
    {
      "cell_type": "markdown",
      "source": [
        "**Variable de Control**: Los ciclos while no actualizan la(s) variable(s) de control automáticamente.\n",
        "\n",
        "**Deben ser actualizadas en el cuerpo del ciclo**"
      ],
      "metadata": {
        "id": "vHt5miOYH7BU"
      }
    },
    {
      "cell_type": "code",
      "source": [
        "# Ejemplo de While, recuerda terminar el ciclo de lo contrario se convierte en un bucle infinito\n",
        "x = 20\n",
        "while x < 35:\n",
        "    print(x)\n",
        "    x += 3"
      ],
      "metadata": {
        "colab": {
          "base_uri": "https://localhost:8080/"
        },
        "id": "I7VOKichItgK",
        "outputId": "dd076493-245b-48ad-ea44-455bf891cf5c"
      },
      "execution_count": null,
      "outputs": [
        {
          "output_type": "stream",
          "name": "stdout",
          "text": [
            "20\n",
            "23\n",
            "26\n",
            "29\n",
            "32\n"
          ]
        }
      ]
    },
    {
      "cell_type": "markdown",
      "source": [
        "FUNCIONES: Código reutilizable o reciclable que realiza una sola tarea específica. La podemos usar las veces que queramos.\n",
        "Pueden ser Builtin, la que ya trae python o las podemos crear. Ventajas es que es mantenible, legible, reusable y comprobable además de conciso."
      ],
      "metadata": {
        "id": "EEm_lyRrM2Im"
      }
    },
    {
      "cell_type": "code",
      "source": [
        "def mensaje() :\n",
        "    print(\" Hola, Mundo!\") \n",
        " #llamo a la función por su nombre seguido de paréntesis \n",
        " #cuando llamas la función no la identes, escribela pegada al margen\n",
        "mensaje()   "
      ],
      "metadata": {
        "colab": {
          "base_uri": "https://localhost:8080/"
        },
        "id": "WYfNrlq6OLvo",
        "outputId": "3342616a-f037-46a8-bf0d-9550e5bc4520"
      },
      "execution_count": 31,
      "outputs": [
        {
          "output_type": "stream",
          "name": "stdout",
          "text": [
            " Hola, Mundo!\n"
          ]
        }
      ]
    },
    {
      "cell_type": "code",
      "source": [
        "mensaje()"
      ],
      "metadata": {
        "colab": {
          "base_uri": "https://localhost:8080/"
        },
        "id": "ad7Buy-sRffk",
        "outputId": "b53283d8-6a7c-43a7-e706-477f70d3604e"
      },
      "execution_count": 32,
      "outputs": [
        {
          "output_type": "stream",
          "name": "stdout",
          "text": [
            " Hola, Mundo!\n"
          ]
        }
      ]
    },
    {
      "cell_type": "markdown",
      "source": [
        "Pasarle valores a una función con parámetros y argumentos.\n",
        "**Parametros:** Son variables que son parte de la función y representan o guardan un valor que le pasamos a la función cuando la llamamos.\n",
        "\n",
        "**Argumentos:** Es el valor que asignamos a un parámetro cuando llamamos a una función. \n",
        " ![parametro.JPG](data:image/jpeg;base64,/9j/4AAQSkZJRgABAQEAYABgAAD/4RDQRXhpZgAATU0AKgAAAAgABAE7AAIAAAADcGMAAIdpAAQAAAABAAAISpydAAEAAAAGAAAQwuocAAcAAAgMAAAAPgAAAAAc6gAAAAgAAAAAAAAAAAAAAAAAAAAAAAAAAAAAAAAAAAAAAAAAAAAAAAAAAAAAAAAAAAAAAAAAAAAAAAAAAAAAAAAAAAAAAAAAAAAAAAAAAAAAAAAAAAAAAAAAAAAAAAAAAAAAAAAAAAAAAAAAAAAAAAAAAAAAAAAAAAAAAAAAAAAAAAAAAAAAAAAAAAAAAAAAAAAAAAAAAAAAAAAAAAAAAAAAAAAAAAAAAAAAAAAAAAAAAAAAAAAAAAAAAAAAAAAAAAAAAAAAAAAAAAAAAAAAAAAAAAAAAAAAAAAAAAAAAAAAAAAAAAAAAAAAAAAAAAAAAAAAAAAAAAAAAAAAAAAAAAAAAAAAAAAAAAAAAAAAAAAAAAAAAAAAAAAAAAAAAAAAAAAAAAAAAAAAAAAAAAAAAAAAAAAAAAAAAAAAAAAAAAAAAAAAAAAAAAAAAAAAAAAAAAAAAAAAAAAAAAAAAAAAAAAAAAAAAAAAAAAAAAAAAAAAAAAAAAAAAAAAAAAAAAAAAAAAAAAAAAAAAAAAAAAAAAAAAAAAAAAAAAAAAAAAAAAAAAAAAAAAAAAAAAAAAAAAAAAAAAAAAAAAAAAAAAAAAAAAAAAAAAAAAAAAAAAAAAAAAAAAAAAAAAAAAAAAAAAAAAAAAAAAAAAAAAAAAAAAAAAAAAAAAAAAAAAAAAAAAAAAAAAAAAAAAAAAAAAAAAAAAAAAAAAAAAAAAAAAAAAAAAAAAAAAAAAAAAAAAAAAAAAAAAAAAAAAAAAAAAAAAAAAAAAAAAAAAAAAAAAAAAAAAAAAAAAAAAAAAAAAAAAAAAAAAAAAAAAAAAAAAAAAAAAAAAAAAAAAAAAAAAAAAAAAAAAAAAAAAAAAAAAAAAAAAAAAAAAAAAAAAAAAAAAAAAAAAAAAAAAAAAAAAAAAAAAAAAAAAAAAAAAAAAAAAAAAAAAAAAAAAAAAAAAAAAAAAAAAAAAAAAAAAAAAAAAAAAAAAAAAAAAAAAAAAAAAAAAAAAAAAAAAAAAAAAAAAAAAAAAAAAAAAAAAAAAAAAAAAAAAAAAAAAAAAAAAAAAAAAAAAAAAAAAAAAAAAAAAAAAAAAAAAAAAAAAAAAAAAAAAAAAAAAAAAAAAAAAAAAAAAAAAAAAAAAAAAAAAAAAAAAAAAAAAAAAAAAAAAAAAAAAAAAAAAAAAAAAAAAAAAAAAAAAAAAAAAAAAAAAAAAAAAAAAAAAAAAAAAAAAAAAAAAAAAAAAAAAAAAAAAAAAAAAAAAAAAAAAAAAAAAAAAAAAAAAAAAAAAAAAAAAAAAAAAAAAAAAAAAAAAAAAAAAAAAAAAAAAAAAAAAAAAAAAAAAAAAAAAAAAAAAAAAAAAAAAAAAAAAAAAAAAAAAAAAAAAAAAAAAAAAAAAAAAAAAAAAAAAAAAAAAAAAAAAAAAAAAAAAAAAAAAAAAAAAAAAAAAAAAAAAAAAAAAAAAAAAAAAAAAAAAAAAAAAAAAAAAAAAAAAAAAAAAAAAAAAAAAAAAAAAAAAAAAAAAAAAAAAAAAAAAAAAAAAAAAAAAAAAAAAAAAAAAAAAAAAAAAAAAAAAAAAAAAAAAAAAAAAAAAAAAAAAAAAAAAAAAAAAAAAAAAAAAAAAAAAAAAAAAAAAAAAAAAAAAAAAAAAAAAAAAAAAAAAAAAAAAAAAAAAAAAAAAAAAAAAAAAAAAAAAAAAAAAAAAAAAAAAAAAAAAAAAAAAAAAAAAAAAAAAAAAAAAAAAAAAAAAAAAAAAAAAAAAAAAAAAAAAAAAAAAAAAAAAAAAAAAAAAAAAAAAAAAAAAAAAAAAAAAAAAAAAAAAAAAAAAAAAAAAAAAAAAAAAAAAAAAAAAAAAAAAAAAAAAAAAAAAAAAAAAAAAAAAAAAAAAAAAAAAAAAAAAAAAAAAAAAAAAAAAAAAAAAAAAAAAAAAAAAAAAAAAAAAAAAAAAAAAAAAAAAAAAAAAAAAAAAAAAAAAAAAAAAAAAAAAAAAAAAAAAAAAAAAAAAAAAAAAAAAAAAAAAAAAAAAAAAAAAAAAAAAAAAAAAAAAAAAAAAAAAAAAAAAAAAAAAAAAAAAAAAAAAAAAAAAAAAAAAAAAAAAAAAAAAAAAAAAAAAAAAAAAAAAAAAAAAAAAAAAAAAAAAAAAAAAAAAAAAAAAAAAAAAAAAAAAAAAAAAAAAAAAAAAAAAAAAAAAAAAAAAAAAAAAAAAAAAAAAAAAAAAAAAAAAAAAAAAAAAAAAAAAAAAAAAAAAAAAAAAAAAAAAAAAAAAAAAAAAAAAAAAAAAAAAAAAAAAAAAAAAAAAAAAAAAAAAAAAAAAAAAAAAAAAAAAAAAAAAAAAAAAAAAAAAAAAAAAAAAAAAAAAAAAAAAAAAAAAAAAAAAAAAAAAAAAAAAAAAAAAAAAAAAAAAAAAAAAAAAAAAAAAAAAAAAAAAAAAAAAAAAAAAAAAAAAAAAAAAAAAAAAAAAAAAAAAAAAAAAAAAAAAAAAAAAAAAAAAAAAAAAAAAAAAAAAAAAAAAAAAAAAAAAAAAAAAAAAAAAAAAAAAAAAAAAAAAAAAAAAAAAAAAAAAAAAAAAAAAAAAAAAAAAAAAAAAAAAAAAAAAAAAAAAAAAAAAAAAAAAAAAAAAAAAAAAAAAAAAAAAAAAAAAAAAAAAAAAAAAAAAAAAAAAAAAAAAAAAAAAAAAAAAAAAAAAAAAAAAAAAAAAAAAAAAAAAAAAAAAAAAAAAAAAAAAAAAAAAAAAAAAAAAAAAAAAAAAAAAAAAAAFkAMAAgAAABQAABCYkAQAAgAAABQAABCskpEAAgAAAAMyOQAAkpIAAgAAAAMyOQAA6hwABwAACAwAAAiMAAAAABzqAAAACAAAAAAAAAAAAAAAAAAAAAAAAAAAAAAAAAAAAAAAAAAAAAAAAAAAAAAAAAAAAAAAAAAAAAAAAAAAAAAAAAAAAAAAAAAAAAAAAAAAAAAAAAAAAAAAAAAAAAAAAAAAAAAAAAAAAAAAAAAAAAAAAAAAAAAAAAAAAAAAAAAAAAAAAAAAAAAAAAAAAAAAAAAAAAAAAAAAAAAAAAAAAAAAAAAAAAAAAAAAAAAAAAAAAAAAAAAAAAAAAAAAAAAAAAAAAAAAAAAAAAAAAAAAAAAAAAAAAAAAAAAAAAAAAAAAAAAAAAAAAAAAAAAAAAAAAAAAAAAAAAAAAAAAAAAAAAAAAAAAAAAAAAAAAAAAAAAAAAAAAAAAAAAAAAAAAAAAAAAAAAAAAAAAAAAAAAAAAAAAAAAAAAAAAAAAAAAAAAAAAAAAAAAAAAAAAAAAAAAAAAAAAAAAAAAAAAAAAAAAAAAAAAAAAAAAAAAAAAAAAAAAAAAAAAAAAAAAAAAAAAAAAAAAAAAAAAAAAAAAAAAAAAAAAAAAAAAAAAAAAAAAAAAAAAAAAAAAAAAAAAAAAAAAAAAAAAAAAAAAAAAAAAAAAAAAAAAAAAAAAAAAAAAAAAAAAAAAAAAAAAAAAAAAAAAAAAAAAAAAAAAAAAAAAAAAAAAAAAAAAAAAAAAAAAAAAAAAAAAAAAAAAAAAAAAAAAAAAAAAAAAAAAAAAAAAAAAAAAAAAAAAAAAAAAAAAAAAAAAAAAAAAAAAAAAAAAAAAAAAAAAAAAAAAAAAAAAAAAAAAAAAAAAAAAAAAAAAAAAAAAAAAAAAAAAAAAAAAAAAAAAAAAAAAAAAAAAAAAAAAAAAAAAAAAAAAAAAAAAAAAAAAAAAAAAAAAAAAAAAAAAAAAAAAAAAAAAAAAAAAAAAAAAAAAAAAAAAAAAAAAAAAAAAAAAAAAAAAAAAAAAAAAAAAAAAAAAAAAAAAAAAAAAAAAAAAAAAAAAAAAAAAAAAAAAAAAAAAAAAAAAAAAAAAAAAAAAAAAAAAAAAAAAAAAAAAAAAAAAAAAAAAAAAAAAAAAAAAAAAAAAAAAAAAAAAAAAAAAAAAAAAAAAAAAAAAAAAAAAAAAAAAAAAAAAAAAAAAAAAAAAAAAAAAAAAAAAAAAAAAAAAAAAAAAAAAAAAAAAAAAAAAAAAAAAAAAAAAAAAAAAAAAAAAAAAAAAAAAAAAAAAAAAAAAAAAAAAAAAAAAAAAAAAAAAAAAAAAAAAAAAAAAAAAAAAAAAAAAAAAAAAAAAAAAAAAAAAAAAAAAAAAAAAAAAAAAAAAAAAAAAAAAAAAAAAAAAAAAAAAAAAAAAAAAAAAAAAAAAAAAAAAAAAAAAAAAAAAAAAAAAAAAAAAAAAAAAAAAAAAAAAAAAAAAAAAAAAAAAAAAAAAAAAAAAAAAAAAAAAAAAAAAAAAAAAAAAAAAAAAAAAAAAAAAAAAAAAAAAAAAAAAAAAAAAAAAAAAAAAAAAAAAAAAAAAAAAAAAAAAAAAAAAAAAAAAAAAAAAAAAAAAAAAAAAAAAAAAAAAAAAAAAAAAAAAAAAAAAAAAAAAAAAAAAAAAAAAAAAAAAAAAAAAAAAAAAAAAAAAAAAAAAAAAAAAAAAAAAAAAAAAAAAAAAAAAAAAAAAAAAAAAAAAAAAAAAAAAAAAAAAAAAAAAAAAAAAAAAAAAAAAAAAAAAAAAAAAAAAAAAAAAAAAAAAAAAAAAAAAAAAAAAAAAAAAAAAAAAAAAAAAAAAAAAAAAAAAAAAAAAAAAAAAAAAAAAAAAAAAAAAAAAAAAAAAAAAAAAAAAAAAAAAAAAAAAAAAAAAAAAAAAAAAAAAAAAAAAAAAAAAAAAAAAAAAAAAAAAAAAAAAAAAAAAAAAAAAAAAAAAAAAAAAAAAAAAAAAAAAAAAAAAAAAAAAAAAAAAAAAAAAAAAAAAAAAAAAAAAAAAAAAAAAAAAAAAAAAAAAAAAAAAAAAAAAAAAAAAAAAAAAAAAAAAAAAAAAAAAAAAAAAAAAAAAAAAAAAAAAAAAAAAAAAAAAAAAAAAAAAAAAAAAAAAAAAAAAAAAAAAAAAAAAAAAAAAAAAAAAAAAAAAAAAAAAAAAAAAAAAAAAAAAAAAAAAAAAAAAAAAAAAAAAAAAAAAAAAAAAAAAAAAAAAAAAAAAAAAAAAAAAAAAAAAAAAAAAAAAAAAAAAAAAAAAAAAAAAAAAAAAAAAAAAAAAAAAAAAAAAAAAAAAAAAAAAAAAAAAAAAAAAAAAAAAAAAAAAAAAAAAAAAAAAAAAAAAAAAAAAAAAAAAAAAAAAAAAAAAAAAAAAAAAAAAAAAAAAAAAAAAAAAAAAAAAAAAAAAAAAAAAAAAAAAAAAAAAAAAAAAAAAAAAAAAAAAAAAAAAAAAAAAAAAAAAAAAAAAAAAAAAAAAAAAAAAAAAAAAAAAAAAAAAAAAAAAAAAAAAAAAAAAAAAAAAAAAAAAAAAAAAAAAAAAAAAAAAAAAAAAAAAAAAAAAAAAAAAAAAAAAAAAAAAAAAAAAAAAAAAAAAAAAAAAAAAAAAAAAAAAAAAAAAAAAAAAAAAAAAAAAAAAAAAAAAAAAAAAAAAAAAAAAAAAAAAAAAAAAAAAAAAAAAAAAAAAAAAAAAAAAAAAAAAAAAAAAAAAAAAAAAAAAAAAAAAAAAAAAAAAAAAAAAAAAAAAAAAAAAAAAAAAAAAAAAAAAAAAAAAAAAAAAAAAAAAAAAAAAAAAAAAAAAAAAAAAAAAAAAMjAyMToxMjoxNiAxNzo1NDo1NQAyMDIxOjEyOjE2IDE3OjU0OjU1AAAAcABjAAAA/+ELFWh0dHA6Ly9ucy5hZG9iZS5jb20veGFwLzEuMC8APD94cGFja2V0IGJlZ2luPSfvu78nIGlkPSdXNU0wTXBDZWhpSHpyZVN6TlRjemtjOWQnPz4NCjx4OnhtcG1ldGEgeG1sbnM6eD0iYWRvYmU6bnM6bWV0YS8iPjxyZGY6UkRGIHhtbG5zOnJkZj0iaHR0cDovL3d3dy53My5vcmcvMTk5OS8wMi8yMi1yZGYtc3ludGF4LW5zIyI+PHJkZjpEZXNjcmlwdGlvbiByZGY6YWJvdXQ9InV1aWQ6ZmFmNWJkZDUtYmEzZC0xMWRhLWFkMzEtZDMzZDc1MTgyZjFiIiB4bWxuczpkYz0iaHR0cDovL3B1cmwub3JnL2RjL2VsZW1lbnRzLzEuMS8iLz48cmRmOkRlc2NyaXB0aW9uIHJkZjphYm91dD0idXVpZDpmYWY1YmRkNS1iYTNkLTExZGEtYWQzMS1kMzNkNzUxODJmMWIiIHhtbG5zOnhtcD0iaHR0cDovL25zLmFkb2JlLmNvbS94YXAvMS4wLyI+PHhtcDpDcmVhdGVEYXRlPjIwMjEtMTItMTZUMTc6NTQ6NTUuMjkwPC94bXA6Q3JlYXRlRGF0ZT48L3JkZjpEZXNjcmlwdGlvbj48cmRmOkRlc2NyaXB0aW9uIHJkZjphYm91dD0idXVpZDpmYWY1YmRkNS1iYTNkLTExZGEtYWQzMS1kMzNkNzUxODJmMWIiIHhtbG5zOmRjPSJodHRwOi8vcHVybC5vcmcvZGMvZWxlbWVudHMvMS4xLyI+PGRjOmNyZWF0b3I+PHJkZjpTZXEgeG1sbnM6cmRmPSJodHRwOi8vd3d3LnczLm9yZy8xOTk5LzAyLzIyLXJkZi1zeW50YXgtbnMjIj48cmRmOmxpPnBjPC9yZGY6bGk+PC9yZGY6U2VxPg0KCQkJPC9kYzpjcmVhdG9yPjwvcmRmOkRlc2NyaXB0aW9uPjwvcmRmOlJERj48L3g6eG1wbWV0YT4NCiAgICAgICAgICAgICAgICAgICAgICAgICAgICAgICAgICAgICAgICAgICAgICAgICAgICAgICAgICAgICAgICAgICAgICAgICAgICAgICAgICAgICAgICAgICAgICAgICAgICAKICAgICAgICAgICAgICAgICAgICAgICAgICAgICAgICAgICAgICAgICAgICAgICAgICAgICAgICAgICAgICAgICAgICAgICAgICAgICAgICAgICAgICAgICAgICAgICAgICAgIAogICAgICAgICAgICAgICAgICAgICAgICAgICAgICAgICAgICAgICAgICAgICAgICAgICAgICAgICAgICAgICAgICAgICAgICAgICAgICAgICAgICAgICAgICAgICAgICAgICAgCiAgICAgICAgICAgICAgICAgICAgICAgICAgICAgICAgICAgICAgICAgICAgICAgICAgICAgICAgICAgICAgICAgICAgICAgICAgICAgICAgICAgICAgICAgICAgICAgICAgICAKICAgICAgICAgICAgICAgICAgICAgICAgICAgICAgICAgICAgICAgICAgICAgICAgICAgICAgICAgICAgICAgICAgICAgICAgICAgICAgICAgICAgICAgICAgICAgICAgICAgIAogICAgICAgICAgICAgICAgICAgICAgICAgICAgICAgICAgICAgICAgICAgICAgICAgICAgICAgICAgICAgICAgICAgICAgICAgICAgICAgICAgICAgICAgICAgICAgICAgICAgCiAgICAgICAgICAgICAgICAgICAgICAgICAgICAgICAgICAgICAgICAgICAgICAgICAgICAgICAgICAgICAgICAgICAgICAgICAgICAgICAgICAgICAgICAgICAgICAgICAgICAKICAgICAgICAgICAgICAgICAgICAgICAgICAgICAgICAgICAgICAgICAgICAgICAgICAgICAgICAgICAgICAgICAgICAgICAgICAgICAgICAgICAgICAgICAgICAgICAgICAgIAogICAgICAgICAgICAgICAgICAgICAgICAgICAgICAgICAgICAgICAgICAgICAgICAgICAgICAgICAgICAgICAgICAgICAgICAgICAgICAgICAgICAgICAgICAgICAgICAgICAgCiAgICAgICAgICAgICAgICAgICAgICAgICAgICAgICAgICAgICAgICAgICAgICAgICAgICAgICAgICAgICAgICAgICAgICAgICAgICAgICAgICAgICAgICAgICAgICAgICAgICAKICAgICAgICAgICAgICAgICAgICAgICAgICAgICAgICAgICAgICAgICAgICAgICAgICAgICAgICAgICAgICAgICAgICAgICAgICAgICAgICAgICAgICAgICAgICAgICAgICAgIAogICAgICAgICAgICAgICAgICAgICAgICAgICAgICAgICAgICAgICAgICAgICAgICAgICAgICAgICAgICAgICAgICAgICAgICAgICAgICAgICAgICAgICAgICAgICAgICAgICAgCiAgICAgICAgICAgICAgICAgICAgICAgICAgICAgICAgICAgICAgICAgICAgICAgICAgICAgICAgICAgICAgICAgICAgICAgICAgICAgICAgICAgICAgICAgICAgICAgICAgICAKICAgICAgICAgICAgICAgICAgICAgICAgICAgICAgICAgICAgICAgICAgICAgICAgICAgICAgICAgICAgICAgICAgICAgICAgICAgICAgICAgICAgICAgICAgICAgICAgICAgIAogICAgICAgICAgICAgICAgICAgICAgICAgICAgICAgICAgICAgICAgICAgICAgICAgICAgICAgICAgICAgICAgICAgICAgICAgICAgICAgICAgICAgICAgICAgICAgICAgICAgCiAgICAgICAgICAgICAgICAgICAgICAgICAgICAgICAgICAgICAgICAgICAgICAgICAgICAgICAgICAgICAgICAgICAgICAgICAgICAgICAgICAgICAgICAgICAgICAgICAgICAKICAgICAgICAgICAgICAgICAgICAgICAgICAgICAgICAgICAgICAgICAgICAgICAgICAgICAgICAgICAgICAgICAgICAgICAgICAgICAgICAgICAgICAgICAgICAgICAgICAgIAogICAgICAgICAgICAgICAgICAgICAgICAgICAgICAgICAgICAgICAgICAgICAgICAgICAgICAgICAgICAgICAgICAgICAgICAgICAgICAgICAgICAgICAgICAgICAgICAgICAgCiAgICAgICAgICAgICAgICAgICAgICAgICAgICAgICAgICAgICAgICAgICAgICAgICAgICAgICAgICAgICAgICAgICAgICAgICAgICAgICAgICAgICAgICAgICAgICAgICAgICAKICAgICAgICAgICAgICAgICAgICAgICAgICAgICAgICAgICAgICAgICAgICAgICAgICAgICAgICAgICAgICAgICAgICAgICAgICAgICAgICAgICAgICAgICAgICAgICAgICAgIAogICAgICAgICAgICAgICAgICAgICAgICAgICAgPD94cGFja2V0IGVuZD0ndyc/Pv/bAEMABwUFBgUEBwYFBggHBwgKEQsKCQkKFQ8QDBEYFRoZGBUYFxseJyEbHSUdFxgiLiIlKCkrLCsaIC8zLyoyJyorKv/bAEMBBwgICgkKFAsLFCocGBwqKioqKioqKioqKioqKioqKioqKioqKioqKioqKioqKioqKioqKioqKioqKioqKioqKv/AABEIAQcCKwMBIgACEQEDEQH/xAAfAAABBQEBAQEBAQAAAAAAAAAAAQIDBAUGBwgJCgv/xAC1EAACAQMDAgQDBQUEBAAAAX0BAgMABBEFEiExQQYTUWEHInEUMoGRoQgjQrHBFVLR8CQzYnKCCQoWFxgZGiUmJygpKjQ1Njc4OTpDREVGR0hJSlNUVVZXWFlaY2RlZmdoaWpzdHV2d3h5eoOEhYaHiImKkpOUlZaXmJmaoqOkpaanqKmqsrO0tba3uLm6wsPExcbHyMnK0tPU1dbX2Nna4eLj5OXm5+jp6vHy8/T19vf4+fr/xAAfAQADAQEBAQEBAQEBAAAAAAAAAQIDBAUGBwgJCgv/xAC1EQACAQIEBAMEBwUEBAABAncAAQIDEQQFITEGEkFRB2FxEyIygQgUQpGhscEJIzNS8BVictEKFiQ04SXxFxgZGiYnKCkqNTY3ODk6Q0RFRkdISUpTVFVWV1hZWmNkZWZnaGlqc3R1dnd4eXqCg4SFhoeIiYqSk5SVlpeYmZqio6Slpqeoqaqys7S1tre4ubrCw8TFxsfIycrS09TV1tfY2dri4+Tl5ufo6ery8/T19vf4+fr/2gAMAwEAAhEDEQA/APpCiiikMKKRmVRlmAHuaZ9oh/56p/30Khzit2NJskoqP7RD/wA9U/76FH2iH/nqn/fQpe1p/wAy+8OV9iSio/tEP/PVP++hR9oh/wCeqf8AfQo9rT/mX3hyvsSUVH9oh/56p/30KPtEP/PVP++hR7Wn/MvvDlfYkoqP7RD/AM9U/wC+hR9oh/56p/30KPa0/wCZfeHK+xJRUf2iH/nqn/fQo+0Q/wDPVP8AvoUe1p/zL7w5X2JKKj+0Q/8APVP++hR9oh/56p/30KPa0/5l94cr7ElFR/aIf+eqf99Cj7RD/wA9U/76FHtaf8y+8OV9iSio/tEP/PVP++hR9oh/56p/30KPa0/5l94cr7ElFR/aIf8Anqn/AH0KPtEP/PVP++hR7Wn/ADL7w5X2JKKj+0Q/89U/76FH2iH/AJ6p/wB9Cj2tP+ZfeHK+xJRUf2iH/nqn/fQo+0Q/89U/76FHtaf8y+8OV9iSio/tEP8Az1T/AL6FH2iH/nqn/fQo9rT/AJl94cr7ElFR/aIf+eqf99Cj7RD/AM9U/wC+hR7Wn/MvvDlfYkopAysMqQR7UtWncQUUUUwCiiigApGIVSzHAHUmlrnPFeqfZ4Bao+3cu6Q+i1xY7FxwdB1Za9l3fRGtGk6s1BEWseLEt1cWrIqJ96ZzwPpXB3/xDg80r9oubnHUpwv6kVxuva5Lq12QrFbVD+7T19z71k1vg+F6mMgq2aVJXf2Iuyj5ebPOxOdqjN08HFWX2nq2d3/wsCA/8srv/vof40n/AAn8H/PG6/76H+NcJg0YPqa7/wDUzKO0v/Amcn+sOP7r7kd3/wAJ/B/zxuv++h/jR/wn8H/PG6/76H+NcJz60YPrT/1MyjtL/wACYf6w4/uvuR3f/Cfwf88br/vof40f8J/B/wA8br/vof41wmD60YPrR/qZlH8sv/AmH+sOP7r7kd3/AMJ/B/zxuv8Avof40f8ACfwf88br/vof41wmD60YPrR/qZlH8sv/AAJh/rDj+6+5Hd/8J/B/zxuv++h/jR/wn8H/ADxuv++h/jXCYPrRg+tH+pmUfyy/8CYf6w4/uvuR3f8Awn8H/PG6/wC+h/jR/wAJ/B/zxuv++h/jXCYPrRg+tH+pmUfyy/8AAmH+sOP7r7kd3/wn8H/PG6/76H+NH/Cfwf8APG6/76H+NcJg+tGD60f6mZR/LL/wJh/rDj+6+5Hd/wDCfwf88br/AL6H+NH/AAn8H/PG6/76H+NcJg+tGD60f6mZR/LL/wACYf6w4/uvuR3f/Cfwf88br/vof40f8J/B/wA8br/vof41wmD60YPrR/qZlH8sv/AmH+sOP7r7kd3/AMJ/B/zxuv8Avof40f8ACfwf88br/vof41wmD60YPrR/qZlH8sv/AAJh/rDj+6+5Hd/8J/B/zxuv++h/jR/wn8H/ADxuv++h/jXCYPrRg+tH+pmUfyy/8CYf6w4/uvuR3f8Awn8H/PG6/wC+h/jR/wAJ/B/zxuv++h/jXCYPrRg+tH+pmUfyy/8AAmH+sOP7r7kd3/wn8H/PG6/76H+NOT4gQKwPlXa+4Yf41wWD60fjR/qXlPRS/wDAmH+sOP7r7kex6F48Fy4W3u/OPeGYYb8K73TdUg1KHfEdrj7yE8ivmBHeORXRirKcgg4INel+CfFE0xVpG/0mDAk/6aL614WYZfiMgtXhN1MO3Zp6uN+t+qPWwWOp5jelOKjU6W2f/BPYaKZDKs0KSxnKuAQafXpJpq6HsFYeua8LAGG3KmbHzMeiCtieQQwPIeiKTXi/jbVphCsQc+ZdMWc/7I7f59K8jMKtepVp4LDu0ql7vsluzsw8IKMqtRXUendkuqeOIzOyhpLxgeW3YX8Kzv8AhNj/AM+X/kX/AOtXJilxXfT4WyxR/eRcn1bbu/xIeZYi/u6L0R1X/Can/nzH/fz/AOtS/wDCan/nyH/fz/61cpijFX/qvlP/AD6/F/5i/tLE/wA34I6r/hNT/wA+Q/7+f/Wo/wCE1P8Az5D/AL+f/WrlcUYo/wBV8p/59fi/8w/tLE/zfgjqv+E1P/PkP+/n/wBaj/hNT/z5D/v5/wDWrlcUYo/1Xyn/AJ9fi/8AMP7SxP8AN+COq/4TU/8APkP+/n/1qP8AhNT/AM+Q/wC/n/1q5XFGKP8AVfKf+fX4v/MP7SxP834I6r/hNT/z5D/v5/8AWo/4TU/8+Q/7+f8A1q5XFGKP9V8p/wCfX4v/ADD+0sT/ADfgjqv+E1P/AD5D/v5/9aj/AITU/wDPkP8Av5/9auVxRij/AFXyn/n1+L/zD+0sT/N+COq/4TU/8+Q/7+f/AFqP+E1P/PkP+/n/ANauVxRij/VfKf8An1+L/wAw/tLE/wA34I6r/hNT/wA+Q/7+f/Wo/wCE1P8Az5D/AL+f/WrlcUYo/wBV8p/59fi/8w/tLE/zfgjqv+E1P/PkP+/n/wBaj/hNT/z5D/v5/wDWrlcUYo/1Xyn/AJ9fi/8AMP7SxP8AN+COq/4TU/8APkP+/n/1qP8AhNT/AM+Q/wC/n/1q5XFGKP8AVfKf+fX4v/MP7SxP834I6r/hNT/z5D/v5/8AWo/4TU/8+Q/7+f8A1q5XFGKP9V8p/wCfX4v/ADD+0sT/ADfgjqv+E1P/AD5D/v5/9aj/AITU/wDPkP8Av5/9auVxRij/AFXyn/n1+L/zD+0sT/N+COq/4TU/8+Q/7+f/AFqX/hNT/wA+Q/7+/wD1q5TFGKP9V8p/59fi/wDMP7SxP834I9B0bxuhnVFkks5CeAzZRvavTdF1lNSi2OAk6D5lHQj1FfONei+BdYlaGFncmS3lCMSfvKemf1/KvHxuC/sOcMRh5P2LaUot3tfqjppVVjU4TXvrVP8AQ9eooHSivePOCiiigAry/wCIl00cGpOpOcLGPYHA/qa9Qryb4jn/AEPUv+ui/wAxXjZglLFYSD2dSJ0U21RrSW/Kzyuikpa/VD4AKKSigBaKSilYBaKSiiwxaKSiiwC0UlFFgFopKKLALRSUUWAWikoosAtFJRRYBaKSiiwC0UlFFgFopKKLALRmkophqKa3PCExi8RRIDxKrKR+Gf6VhVr+Fv8AkZLX6t/6Ca8bPoRnleIUv5H+R35bJxxtJr+ZH0H4ckMmhw5/hJX9a1Kx/C//ACA0/wB9v51sV8dlrcsFSb/lX5H12IVq0vVlbUP+Qbcf9c2/lXhXjX/j9tP+uZ/nXuuof8g24/65t/KvCvGv/H9a/wDXNv51zL/ke0P8MjWP+6VPVHN0UUV9ueYFFFFAgooooAKKKKACiiigAooooAKKKKACiiigAooooAKKKKACiiigAooooAKKKKACiiigBDXX+Bet1/vp/WuQNdf4F63X++n9a+X4q/5Fcv8AFH8z0st/3hejPcx90fSlpB90fSlrojsjlCiiimAV5N8R/wDj01H/AK6r/MV6zXk3xH/489R/66r/ADFePjv98wf/AF8R0Q/3ev8A4WeVUUUV+pnwCCiiigdwooooC4UUUUBcKKKKAuFFFFAXCiiigLhRRRQFwooooC4UUUUBcKKKKAuFFFFAXCiiigLhRRRQFwrX8Lf8jJa/U/8AoJrIrX8Lf8jJafVv/QTXkZ3/AMizEf4JfkduX/75S/xL8z3/AML/APIDT/fb+dbFY/hf/kBp/vt/Otivisr/ANxpf4UfY4n+NP1ZW1D/AJBtx/1zb+VeFeNP+P61/wCubfzr3XUP+Qbcf9c2/lXhXjT/AI/rX/rm386wX/I9of4ZGkf90n6o5uiiivtzzAre8LeEbzxZJcrZzwwi2ClzLnndnGMfQ1g16d8Gf9drH+7B/N6xrScINoErsov8HtXCEpf2bMOgO4Z/SuM1bSL3Q9Qay1OAwzKM4zkMOxB7irPg2TUm+Jl1NY3F5JOdbukdRM5UxC4cEFc42hR6dq7H4xyQv4k8N2fmJHLOk+9j/CgMYDH2yT+tYQrTUkpa3KcdDzelruj/AMKp0m7OnX2uS394h2Sm3WWUI3uYlKr+JqPx94O0/QNNs9W0ed2s7qVY9jndgspZSD6HHf1FaxrwbsLlOIozXpPhz4eadr3gq0vhJLFeTOS8hf5VUSEHC467Rx71znixfBsN/pGn+FNTgupri5eC6dLoS+SFA+ZgPej28b2DlZU8J+HJvE2ux2akpAvzzyD+FB1/E9BVTxJd6D/wk9zpvhWKaW0sf3c988wZJJu6IMc47nPWuqk/4VTp8kmk3mv3V5ck+XcNaNOyg+jNCuB9CaqeN/AukeDtL0660BmTT7iQQpETuCkqWBDehAPXv9ayVXmqLXQdtDkM0tekaH8PNL1nwNbag08ltdSgvJOz/IihyDxj+6DVrSPCPgTxTptynhjVDdy258t7mKYvtf1IwARwelaPEQTsxcp5ZS16Xp/hLwXp2rw+H9f1iO4164XcLVJSpGemAP0z1rlfG/hyHwx4lTT7WV5I7iHzoQ/3sbtpHvg4/MVUa8JOyDlOepK7+48NeF/Bfh231Lx5dTme6IWK1twzMzYzsVVGWOOp6UmveD9EuvBx8TeE7iZrWNC8kcwYEqD83DAMpHcH0pLEQbsHKzkdL0LVNaEh0qykuvKxv2Y+XPTqfaqByrFSMEHBHoa9p+GUWiRaQ/8AZNyZrxo4mvULE+W5BwOnHevLPFT+CdNWzs/Bl/Jf3MlzMLgF2YRAbmJJKj+LipjiE5uLQcpk0V61qHw48N6akWpX96bPS7eIvdvPOFDHjb8x4Udc/hXELpGleJviHNo3g25imsI4YpWukl81FDAlufUYHHuKqOIg3YOVnN5pa9JvdL+GXh7U10TWtVkbU9ql0LSMV3dC2xcJn37VkePvBMHhiKDUNPnaSxuJPLCuclGIyOe4ODRHEQk7A4s4ylrvT4c8K+FPB1rrvjWe6drsoIoLdWJLMMqiqoyTgE5JxxXL+Kbnwot7pq+E7i5l+1pI0sUyOph27cZDAEZ3H16U41oylyoVmZVFFFbiENdd4F63X++n9a5E11vggkLdkdQyH+dfLcWO2VSfnH8z0ss/3lejPdR90fSsjxJPLb2CSQSMjiQYKmsH/hJ9Rx96P/vmq95rN3fwiK4ZSoOeFxXyWO4jwtbCzpUuZSa0/q53UcuqwqKUrWNWw8VOuEv03D/nog5/EV0dtdwXke+3lVx7HpXnFSQzy28okgkZHHdTivKwHE2JoWjiPfj+P/BOqvl1OesNH+B6TXk3xH/489R/66r/ADFdhYeKmUKl+m4dPMXr+IrjPiFKk+nX8sTbkaRCD6/MK+jeZYbHYrBujK79orrqjzJ4epQoVlNfZZ5bRRRX7Gz86QUUUUxBRRR2NAztbT4U+IryyhuU+yKsyB1DSnIBGRniqer/AA68R6PbtPNZieFOWe3ffgepHX9K6z4r6hfWHw58M/2dfXVk017BHI9rM0TMvkSHGVIOMgflVP4WeLNSOvrpGpX11fQXKHyzcymVo2UE8M2TggHjPpXiwxWJlCVRWsj2J4XDxlGm73Z5tRXaa74SkvPi5eaDp2yNJ9lyh28RRuuWyPZlb9K0m0b4c2fiZfCt1qN/Nq3CSSxqxjikbG1WYLtVjkcH8TXW8fSUYt9TkWBqttdjzoAkgAZJ6V6E/wAMbPTdHhuvEfiS10uecfJHLtVd2M7cswyfpVNvCmleHfHw0zxHqDR2Ih+0RTL8pYZwoPB7g/lXZfFu28KPpdld+Kb17e5tYrhtOjXnzX2LkY2nPRR261y4vGvmgqTsn1sdOFwa5ZOotV0POk8HSP8ADlPGIv4RZvCJhGyndtLbRz689K5uuvv/AAhpb/BKHxFcyag0iLFItn9pKwKWmVQDGOON2fqK2dC+HOm6x4Ft9WlvntJ2YvNNI4EccasQxxj0Hc1pSxvLGTqyvrbYzq4RycVSja6vueb103g/wVc+L2uvs93FbLbBdxdSxJbOOB9K62x8D+DfFehTy+DNXe7ntzt88PuVnx0IIHB9RWF8NvC9p4qbUFu7y+t0iRMfYrgwlsk9SOeMVdTGxnRlKm7NeRMMHKFWMaiumcXKES6uIUkWTyJpIWZehZGKn9QabW74E8HR+JdWuNPsC1pY2csqyOfmYBZGUfViQT+ddPeaT8MpHu9MsfEZj1G0Dq7vISgdRypYqEJ46A1bxtOFoyd35ELBVJ3cVpfqYuieBLnWvCt1rq30EENuJCUdSSQi5OT2rk45EliWSM7kdQyn1BrsvDvhfTPEfwh1XXby51ERxwzSrbQ3JjjcLEGwyjrnoc0zwD4Hi8SWD6hfXH2HSrVQGYYBOFyQCeAAOpqIYtRlUc5aIueFbjBQjqyvd+G7HRPh+fEviK+lt3nO2xs4UDSXDH7oAJ79fYc1zSncgYqVJGSD2r0y28O/D34hXwXRfEOoX2oWMRFu88srpGvAJQSAKR0yVrn/AA74Tiu/iBJ4d1dnHkM6y+UcEkLuB57EEH6Gow2LupyqS21t5FYjCuLjGEfn5nJ0V6e3g3wRofiFdK8Ra6BfXr/6HZiXDBCcKWIHU+pwPrXL+PvCsfhLXIbe3keS2uozJCZMZG04ZT64yv510UsdRqz5ImFXBVaUOeSOYooortOQKKKKBBWv4W/5GW0+rf8AoJrIrX8Lf8jLafVv/QTXkZ3/AMizEf4Jfkd2Xf75S/xL8z3/AML/APIDT/fb+dbFY/hf/kBp/vt/Otivisr/ANxpf4UfY4n+NP1ZW1D/AJBtx/1zb+VeFeNf+P61/wCubfzr3XUP+Qbcf9c2/lXhXjX/AI/rX/rm386wX/I9of4ZGkf90n6o5uiiivtzzAr034Mf6/WP92D/ANnrzGuj8JeNX8GJfSRaW2pPciMCMTiLG3d3IP8AerCvFyptIcXZmvd/GbU4r3UbfRfC9gjW95PbCea7I3GORlLFVTPJGcZrjrG21TxZ41W916+W41PUHWAOq7YrePOQka9lGSeeT3rNszcSG7ubuFYJbu8nujEr7wnmSM+3OBnG7rWjY3s2nX8F5bECWCQSJkcZBqKdBRjfqNyO48SL4G+Ht3a6Tc+H7/Wb+4hNw3kEDC7iNzEsqjJBGBzxWp8UJop/hTpE1tbtbQyXdmyQueY1PRTgnoOOtYuqfFWzu0Se68EJqOoQriGQzx+WO/LMNwGecYNYvir4hap4s8NafpV5okME4uY7i4uIbnMabWJCqpGTxjvXMoVHJXTKujrriea2/Zt1OW2leKQWFwA6Nhhl2HB+hrzjw5oSX2oafpFiiQrIwjUgcIO5/IE+9auqeNrr/hWU/hGy0YztcwPCbs3QRY9zZztxk9ay9Pvp9M1C2vbVts1u6up7ZHb6V0UoSTkxNnbeIpPAfw/1CDRJtAv9a1GSD7RIISBtUkgMxLKoyQeB6Vf+LksU/wANPD81vA1vFJf2jJC3WNSjYU8noOKy9S+KtndAXNx4HS/1KJdsMrTx7PbLMNwGTnGDWB4u8e6t4w0DS9LvtGhgmhu0uri5hucxjbu+VUIz0I5zXOoVOZXTHdHaaj/ybZfLk4axlU4OMgyEH9KrfBeGO3vtShgQRxpBGFRRgAZNcxqvji5b4av4Ss9G85p4TEbs3QVUy+4nbtyeD60/wn4xfwfNeXEemnUGnjVRGswjIwfUgjvV+zlyz0Fcy9N4+KGrXI/1zeJJQZM/MQs2FGfYdK7j4rlF+Jfg8ykCPy5t+em3zYc15zpd5cJrl1rF5arDJc6pJf8A2dZd20NJvC7sc/XFafjHxbd+NfE1hePpP9m2+nwTRhmuRI0pdkOQABgDZ+tV7OV4aBc9Q+KOqaJpM2j3GueF7nXWJlW3eF1UQHC7s7mAyw/9BNcXf/FKxHg7UtD0TwZqFqLu3liQPcQ7FZ1K7j85OOc1ctvirKmlxWOvaCmsxRqAXWRQ7Y6Eqw2k475FYviP4hS6ro9zpHhvwjBo8d2oSW8mmQOq7gTtVAcnjuaxVNr3ZJjudl8FFdNP1FZDlwYQx9Tg5ryKxVo7KSN1Kss04KnqD5r113hHxjP4SuLiSO0F1FOoDxb9hyOhBwfU1V8YeMpfFlxZ2+n+HhpFrFK81zM8kZedipAGEHqc5J7V0KMo1W7aMV9Dsvjkgn8N+HraUloJdRBkjz8r7YZGXI7gEA49qq/B3yl8Q34IUSG1G3jtuGf6VzfjbxxdeMZNLsl0X7FbWFwZ2uWug5f90yABQBj736VS0TWbvQdWiv7FgJY+CrDKsp6g+1TTpSdJq2oNkfiKzuLXx94ma+X9/NqTuGI5aMqvl/htwK9E+I8xsPgfYwaicXcj2MUat97zN6HH1Chs/Q1Qm+LtpIwnv/BZurxB8kkU0TDjpy4BH5GuI8TeJtb8d6tbXeuwQ2NlZFmtNOgkMmHIx5jvgbmxwMDAqOWcuWNrWHdHc6L8RdNbRrbRfFmltdWsaqgnVBIAB90sh54Hdcn2qp8SfDGleHodP1PSSyW2oT+QsW7KhijOCuecEK36U2P4laclpBHq3g5NQlt4ljSaF4yW2gDkOBj8zXL+KvFuseO9VsptRsotK03TnaS3skl813kI2h3bAHCkgAepqoxmqmit3FdWKVFFFd5mIa63wONy3gzjLJ/WuSNdd4G6Xf8Avp/WvluLFfKprzj+Z6WWf7yvRno48JXRAPnxc+xqpqOhTabbiWWVHBOMLmu4X7o+lZPiG1mvLJIrdC7Fx+FfL47h7CU8JKdGLc7aat6nZQx9WVVKb0OJqxa2Vxevttomc9yOgro7DwtGhD3z+Y39xelb0UMcEYSFFRR2ArysBwtWq2ninyrt1/4B1V8yhHSnq/wMHT/C0ceJL595H8C9K4b4iRpFp+oRxqFVZEAA7civW+1eTfEf/jz1H/rov8xX0M8Bh8FisHGhG37xa9X8zzJ16lahXc39lnlfakpe1JX7Az88QUUUUxBS9jSUtA0ep/Fm0urz4eeFks7aa4ZL63ZhFGXKr9nkGTjtyPzqr8L/AAjqaeIk1a/tZbW3t0by/NUqZGYY4B7YJ5rET4reLrW3it7J9LEMUaxr5to7NwMckSAfpWTr/jnxj4kszZXutJZWrjbLHptv5LSD0LlmYD6EV4MaOKhTlRjHRve57kq2FnONWUtuljufCfiG11/4+6/d2zK1tHaiwt5QciRotpcj8Sw/CqHiLxZBoHjDUYG+Hli0y3RkF3JcbGuTwRL/AKs9eO9ef6VLJoclvJpLm1e2/wBUU/h/x/HrXaN8YPFSxBVtNHuHHAkmikU/XCtg/pSngakGmlzaW3sOGNhNNN8uvVXMjxV4g1fxR4w0y/1TR00mOC38uOPzmdpN0gbdyq8ccfjXXfHHP2/wxj+7d/yirzvUNZ1fXPEEms65dRTXLKiJHBF5cUSoSQACSTyTkk1e8UeKdX8XahZTaobOOCxWQQxwRMrEvtyWYsc/dHQCto4WalSajZLfUxliYNVU5Xvsdxrn/JtT/SH/ANK0p+oAH9mi+VhlTbOCPUedyK4TUfFesXvgtfC0Zs49Pym9zCzSkLIJMA7gByB2NOvfFusXHgh/CsH2OOxkXa8jws0mC+4gHcAPyrKeErNSVvtX+RpDFUlKLb+zb5nc/BEKkuqxRqFRUiwo4A+9Vb4BEmDVSevy/wDoclcl4d8Xap4UF02jLamS5Cgm5jZ1GM9gw9fWoPCHijVvBVnMmmG0mmnA3vPExXO4nIAYf3j3rSvhas51HFbpW/AijiaUYU1J6pu/4nefBKSNovEUCsBOb6Vh67fNlGfzrzbSvCesRM2knTJ/tcTP50flnruJLEnjB65707w5q+p+G737bZXKi6aSR5GCfI+9yxBUk8ZPrXSat8V/GOoWUtnanSrFZUKNcx27tKAeDtDNtB+uaFRr0KnPCN7pfIJVqNaHJKVrN/M6PwkEHwG8SCIKEEF3t29MeQOlN8NW02sfs66tp2kqXvHtLiIIh+ZnKZA+pBArg9M8S6tongO48K6WbUWtzC8LyzxM7hWTYcYYDOPrT/DPifVvCjZ0mdArKBJFKm5HwOpGR+hqZ4OrP2jtu00VHF0ociveyaZvfCfSrseMraSK3kigs4mEmUICDbgKc989vatrR7+DUP2jtYNqQ0cGIGYdDIsADfiDgfhXPar8WPGeoWklrZvpemeYNpuoIHeUe6hm2g/XNYXg27ufDOsQz6ZtluCX3vc5fzGfO52wQSec9aipTrTc61SPKlFocKtGnGNOMubW5v8AivTHuvjNrtwihCs1qPOxzgQREAfjXW/ElEutT0d7iNXKRzhcjOM+Xn+Qrnri8ur3VLjULxozPO6sfLUqo2qFAwSewqXV9VvdavIJrwwqlurqiRoQfmxnJJP90V8TicZXryglpGJ6sI04qfVsoGCIjBiTH+6KrXOk2s6/Kgib1Tj9KvdqSnTxNajLmhJpnPKlCas0cjeWctnLtlHB+6w6Gq9ddeWq3ls0TdTyp9DXJMpRirDBBwa+9yvMPrtJ83xLf/M8LFYf2MtNmJWv4W/5GW0+rf8AoJrIrX8Lf8jLafVv/QTRnf8AyLMR/gl+RWXf75S/xL8z3/wv/wAgNP8Afb+dbFY/hf8A5Aaf77fzrYr4rK/9xpf4V+R9jif40/VlbUP+Qbcf9c2/lXhXjX/j+tf+ubfzr3XUP+Qbcf8AXNv5V4V41/4/bT/rm386wX/I9of4ZGkf90n6o5uiiivtzzCC6uBa27TGOSQL/DGuSazv+Egj/wCfG9/79f8A162KTFddGrQhG1SnzP1aM5KT2djI/wCEhj/58b3/AL9f/Xo/4SGP/nxvf+/X/wBetiitvrGD/wCfH/kzFyz/AJvwMf8A4SGP/nxvf+/X/wBej/hII/8Anxvf+/X/ANetiij6xg/+fH/kzDln/N+Bj/8ACQx/8+F7/wB+v/r0f8JDH/z4X3/fr/69bFFH1jB/8+P/ACZhyz/m/Ax/+Ehj/wCfC9/79f8A16P+Ehj/AOfG+/79f/XrYoo+sYP/AJ8f+TMOWf8AN+Bj/wDCQx/8+F7/AN+f/r0f8JDH/wA+F7/35/8Ar1sUUfWMH/z4/wDJmHLP+b8DH/4SGP8A58L3/vz/APXo/wCEhj/58L3/AL9f/XrYoo+sYP8A58f+TMOWf834GP8A8JDH/wA+F7/35/8Ar0f8JDH/AM+F7/35/wDr1sUUfWMH/wA+P/JmHLP+b8DH/wCEhj/58L3/AL8//Xo/4SGP/nxvv+/P/wBetiij6xg/+fH/AJMw5Z/zfgY//CQx/wDPhe/9+f8A69H/AAkMf/Phe/8Afn/69bFFH1jB/wDPj/yZhyz/AJvwMf8A4SGP/nwvf+/P/wBej/hIY/8Anwvf+/P/ANetiij6xg/+fH/kzDln/N+Bjf8ACQR/8+F7/wB+f/r1rROJI1cAgMM4IwRT6K569SjNL2VPl+bY4qS3dwooormLENdf4G6XX++n9a5A11/gX/l6/wB9P618txX/AMiuXrH8z0st/wB4Xoz3Nfuj6UtIv3R9KWumOyOUKKKKYBXk3xH/AOPPUf8Arov8xXrNeTfEf/jz1H/rov8AMV4+P/3zB/8AXxG8P93r/wCFnlfakpe1JX6kz4JBRRRTEFFFFAFW71G2snVLhyrMMgBSeKg/t7T/APnq/wD3wa0dqnkqD9RRtT+4v5V0wlh1H34u/r/wC049TO/t7T/+ej/98Gk/t/T/APno/wD3wa0tqf3F/KjYn9xfyq+bC/yv71/kO8exnf2/p/8Aff8A74NJ/b+n/wB9/wDvg1pbF/ur+VGxP7i/lRz4X+R/f/wBXj2M3/hILD+/J/3waP8AhILD+/J/37NaWxP7i/lR5af3F/Knz4X+R/f/AMALx7Gd/wAJBYf3pP8Avg0f8JBYf3pP++DWjsT+4v5UbE/uj8qPaYT+R/f/AMALx7Gd/wAJBYesn/fBpP8AhILD+9J/3wa0tqg/dH5UbV9B+VL2mE/kf3/8ALx7Gb/wkFh6y/8AfFH/AAkFh6y/98VpbV/uj8qNq/3R+VP2mE/kf/gX/AC8exm/8JDYesv/AHxWr4d1myuNTYIZMpGW5T6CmbV/uj8q0NEdYtRUYA3qVrzs0lh3gqihB3t3/wCAdGHlH2sdDa/tS2z1f/vml/tO29W/75q1+A/Kj5f7o/Kvy/nofyv7/wDgH0ZBBf29zM0MT/vFXcVI5x0zU9a3hrTtL1G51eLVpo7YeRb+TOSFZH3S42+p9u9Y0U8c4fyZRMiNtEyoyrIOzAEZxRVppRU47Mdh4rltVQJqcwUYBOfzFdUK5LUJRNfzOOhbA/Divf4dUvbTfSx5eYtciK1a/hb/AJGW0+rf+gmsitfwt/yMtp9W/wDQTXvZ3/yLMR/gl+RxZd/vlL/EvzPf/C//ACA0/wB9v51sVj+F/wDkBp/vt/Otivisr/3Gl/hX5H2OJ/jT9WMmjEsLxt0ZSDXjfjTRZ3h3IhaW0Y7lHUqe4/Q17PWTrOhpqK+ZERHOvfs3saxzChXjUp4zDK86fTunui8PUhaVKp8MvwZ85Zor0nVfAaPOzSWs0Dk5LQj5W/DpWb/wgcX/AD0u/wDvgf4V1R4qwSVqsZRl1TixPLqr+Fpr1OIort/+EDi/56Xf/fI/wo/4QOL/AJ6Xf/fI/wAKv/WvLe8v/AWH9m1/L7ziKK7f/hA4v+el3/3wP8KP+ECi/wCel3/3wP8ACj/WvLe8v/AWH9m1/L7ziKK7f/hAov8Anpd/98D/AAo/4QKL/npd/wDfA/wo/wBa8t7y/wDAWH9m1/L7ziKK7f8A4QKL/npd/wDfA/wo/wCECi/56Xf/AHwP8KP9a8t7y/8AAWH9m1/L7ziKK7f/AIQKL/npd/8AfA/wo/4QKL/npd/98D/Cj/WrLe8v/AWH9m1/L7ziKK7f/hAov+el3/3wP8KP+ECi/wCel3/3wP8ACj/WrLe8v/AWH9m1/L7ziKK7f/hAov8Anpd/98D/AAo/4QKL/npd/wDfA/wo/wBast7y/wDAWH9m1/L7ziKK7f8A4QKL/npd/wDfA/wo/wCECi/56Xf/AHwP8KP9ast7y/8AAWH9m1/L7ziKK7f/AIQKL/npd/8AfA/wo/4QKL/npd/98D/Cj/WrLe8v/AWH9m1/L7ziKK7f/hAov+el3/3wP8KP+ECi/wCel3/3wP8ACj/WrLe8v/AWH9m1/L7ziaK7b/hAov8Anpd/98D/AAo/4QKL/npd/wDfA/wo/wBast7y/wDAWL+za/l95xNFdt/wgUX/AD0u/wDvgf4Uf8IFF/z0u/8Avgf4Uf61Zb3l/wCAsP7Nr+X3nE0V23/CBRf89Lv/AL4H+FH/AAgcX9+7/wC+B/hR/rVlveX/AICw/s2v5fecSAScAZJ7V6T4H0OWNYIZEIklfzJR/dUev4fzqXRvAqxTI8FpI8gPEs/RfcV6FpOkR6XAQDvlb7z4/QV5eLxdTPJwpUoONGLTbas5W2SXY3p044OLlJ3m9El0NIdKKO1Fe8eeFFFFABXk3xH/AOPPUf8Arqv8xXrNeY/EKxeWHUY1ByVEq++MH+hrxsxahicJOWyqRudFNOVGtFbuLPIO1JS9qSv1NnwCCiiimAUUUUAFFFFABRRRQAUopKKAFopKKAFopKKACiiigAooooAKcjFHDKcFTkGm0Umk1ZjTs7nWWN6l7AGUgOB8y+hqzXHQzyW8geFirD0rXg18bQLiI5/vJ/hXxGOyOrCblh1ePbqj2qGOi42nozVe2hkn84riUAAODyMHIx7gk81KqbQQDnJLHgDknJ4FZv8Ab1oBnbKT6bR/jVW519nQrbRlM/xN1rhpZVjar5OVpeZ0yxdFK9y5ql+trCY0b964wMfwj1rm+9K7tI5Z2LMTkk96bX22X4GGCpci1b3Z4eIrutK4Vr+Fv+RltPq3/oJrIrd8H27TeIY5APlhRmJ/DA/nXLn04wyrESltyv8AI6Msi5Y2kl3R7z4X/wCQGn++3862Ky/DsRi0SEH+LLfma1K+Py2Ljg6Sf8q/I+uxDvWk13YUUUV3mAYzRiiigAxRiiigAxRiiigAxRiiigAxRiiigAxRiiigAxRiiigAxRiiigAxRiiigAxRiiigAxRiiigAxRiiigAxRiiigAxRRRQAUUUUAFFFFABRRRQAVgeJtLa7thcQpueMYYY6rW/RXHjcJDF0JUZ9evZ9Ga0qrpTU0fN/iLw9Lplw09uha0c5BA/1fsawq+jdV8MR3bPJalUZvvRsPlauKvvh1FJIWbTHVs9YGwD+FaYPiTFYCCoZjSlK2inFXuvNdGcGJyaniJuphZpX+y9Leh5PijBr0z/hW8H/AD5Xv/fX/wBaj/hW0P8Az5Xv/fX/ANau/wD1ywP/AD7qf+Af8E4/9X8V/NH7zzPBowa9M/4VtD/z53v/AH1/9aj/AIVtD/z53v8A31/9aj/XLA/8+6n/AIAH+r+K/mj955ng0YNemf8ACtof+fO9/wC+v/rUf8K2h/5873/vr/61H+uWB/591P8AwAP9X8V/NH7zzPFGK9MPw2h/5873/vr/AOtSf8K1h/58738//rUf65YH/n3U/wDAA/1fxX80fvPNMUYr0v8A4VrD/wA+d7+Z/wAKP+Faw/8APne/mf8ACj/XLA/8+6n/AIAH+r+K/mj955pijFel/wDCtYf+fO9/M/4Uf8K1h/58738z/hR/rlgf+fdT/wAAD/V/FfzR+880xRivS/8AhWsP/Pne/mf8KP8AhWsP/Pne/mf8KP8AXLA/8+6n/gAf6v4r+aP3nmmDRg16X/wrWH/nzvfzP+FH/CtYf+fO9/M/4Uf65YH/AJ91P/AA/wBX8V/NH7zzTBowa9L/AOFaw/8APne/mf8ACj/hWsP/AD53v5n/AAo/1ywP/Pup/wCAB/q/iv5o/eeaYNHNel/8K1h/58738z/hR/wrWH/nzvfzP+FH+uWB/wCfdT/wAP8AV/FfzR+880waMGvS/wDhWsP/AD53v5n/AAo/4VrD/wA+d7+Z/wAKP9csD/z7qf8AgAf6v4n+aP3nmmDRg16X/wAK1h/58738z/hR/wAK1h/58738z/hR/rlgf+fdT/wAP9X8T/NH7zzTFGK9M/4VtCP+XO9/M/4Uq/DaDcP9CvD7Fjj+VD4ywP8Az6qf+Af8Ef8Aq/if5o/eeawwS3MyxQRtJIxwFUZJr1HwV4We3CxEAzSENO46KPStzR/A32cjy7aO0Tu3VzXZ2OnwafbiK3XH95j1Y+9eHjsZi8+kqcoOnQTu0/ilbb0R62DwdHLbz5uao+2yLEaLHGqIMKowAO1Ooor1EklZCCiiimAUUUUAFFFFABRRRQAUUUUAFFFFABRRRQAUUUUAFFFFABRRRQAUUUUAFFFFABRRRQAUUUUAFFFFABRRRQAUUUUAFFFFABRRRQAUUUUAFFFFABRRRQAUUUUAFFFFABRRRQAUUUUAFFFFABRRRQAUUUUAFFFFABRRRQAUUUUAFFFFABRRRQAUUUUAFFFFABRVWfU7K2bbNcxqR2zzUH9v6Z/z9r+R/wAK5J43DQfLKpFP1RqqNSSuov7jRorO/t/TP+ftfyP+FH9v6Z/z9r+R/wAKn+0MH/z9j96H7Cr/ACv7maNFZ39v6Z/z9r+R/wAKP7f0z/n6X8j/AIUf2hg/+fsfvQewq/yv7maNFZ39v6Z/z9r+R/wo/t/TP+ftfyP+FH9oYP8A5+x+9B7Cr/K/uZo0Vnf2/pn/AD9r+R/wo/t/TP8An7X8j/hR/aGD/wCfsfvQewq/yv7maNFZ39v6Z/z9L+R/wo/t/TP+ftfyP+FH9oYP/n7H70HsKv8AK/uZo0Vnf2/pn/P2v5H/AAo/t/TP+fpfyP8AhR/aGD/5+x+9B7Cr/K/uZo0Vnf2/pn/P0v5H/Cj+39M/5+1/I/4Uf2hg/wDn7H70HsKv8r+5mjRWd/b+mf8AP2v5H/Cj+39M/wCftfyP+FH9oYP/AJ+x+9B7Cr/K/uZo0Vnf2/pn/P2v5H/Cj+39M/5+1/I/4Uf2hg/+fsfvQewq/wAr+5mjRWd/b+mf8/a/kf8ACj+39M/5+1/I/wCFH9oYP/n7H70HsKv8r+5mjRWd/b+mf8/a/kf8KP7f0z/n6X8j/hR/aGD/AOfsfvQewq/yv7maNFZ39vaZ/wA/S/kf8KP7e0z/AJ+l/I/4Uv7Qwf8Az9j96D2FX+V/czRorO/t7TP+fpfyNH9v6Z/z9L+Rp/2hg/8An7H70HsKv8r+40aKr29/a3Rxbzo59AeasV1QqQqR5oNNeRk4uLs0FFFFWIKKKKACiimSypDE0krBVUZJNKUlFOT2Q0r6IfRXG6x4zFujNFIltCDjzZOrfSuUl+JFurkf2hdP7ohx/SvHjmkq8msJQnVS6xWn3nROjGkv31SMH2b1PXaK8e/4WRB/z+3v/fJ/xo/4WRB/z+33/fP/ANetPrWP/wCgKp9xn/sv/P8Ah957DRXj3/CyIP8An9vf++f/AK9H/CyIP+f29/75/wDr0fWsf/0BVPuD/Zf+f8PvPYaK8e/4WRB/z+3v/fP/ANej/hZEH/P7e/8AfP8A9ej61j/+gKp9wf7L/wA/4feew0V49/wsiD/n9vf++f8A69H/AAsiD/n9vf8Avn/69H1rH/8AQFU+4P8AZf8An/D7z2GivHv+FkQf8/t7/wB8/wD16P8AhZEH/P7e/wDfP/16PrWP/wCgKp9wf7L/AM/4feew0V49/wALIg/5/b3/AL5/+vR/wsiD/n9vf++f/r0fWsf/ANAVT7g/2X/n/D7z2GivHv8AhZEH/P7e/wDfP/16P+FkQf8AP7e/98//AF6PrWP/AOgKp9wf7L/z/h957DRXj3/CyIP+f29/75/+vR/wsiD/AJ/b3/vn/wCvR9ax/wD0BVPuD/Zf+f8AD7z2GivHv+FkQf8AP7e/98//AF6P+FkQf8/t7/3z/wDXo+tY/wD6Aqn3B/sv/P8Ah957DRXj3/CyIP8An9vf++f/AK9H/CyIP+f29/75/wDr0fWsf/0BVPuD/Zf+f8PvPYaK8e/4WRB/z+3v/fP/ANej/hZEH/P7e/8AfP8A9ej61j/+gKp9wf7L/wA/4feew0V49/wsiD/n9vf++f8A69H/AAsiD/n9vf8Avn/69H1rH/8AQFU+4P8AZf8An/D7z2GivHv+FkQf8/t7/wB8/wD16P8AhZEH/P7e/wDfH/16PrWP/wCgKp9wf7L/AM/4feew0V5jpXxAWeUJBqO9j/yzuFwT+f8AjXdaTrcOpDYR5c4HKE9fcUUMzpzq+wrRlTn2krX9C5UHye0pyUo907mpRRRXqnOFcr4l8RC2WWGGTykiH72X09hXS3UhhtZZB1VCa8Q8bXkhSCAsf3pMj89cdP614mYOriMRSwFKXLz3cn15Vvb1O3DqMISryV+Xb1IL/wAZzPIwsIVVc/fl5Lfh2qmPF2pjr5B/7Z//AF6xKK9ylw9ldOKj7FPzerOeWOxEnfmaNv8A4S/U/SD/AL9//Xo/4S/U/wDph/37/wDr1iUVr/YWWf8APiP3E/XMR/Ozb/4S/U/SD/v3/wDXo/4S/U/SD/v3/wDXrEoo/sLLP+fEfuF9cxH87Nv/AIS/U/SD/v3/APXo/wCEv1P0g/79/wD16xKKP7Cyz/nxH7h/XMR/Ozb/AOEv1P0g/wC/f/16P+Ev1P0g/wC/f/16xKKP7Cyz/nxH7g+uYj+dm3/wl+p+kH/fv/69H/CX6n6Qf9+//r1iUUf2Fln/AD4j9wfXMR/Ozb/4S/U/SD/v3/8AXo/4S/U/SD/v3/8AXrEoo/sLLP8AnxH7g+uYj+dm3/wl+p+kH/fv/wCvR/wl+p+kH/fv/wCvWJRR/YWWf8+I/cH1zEfzs2/+Ev1P/ph/37/+vR/wl+p+kH/fv/69YlFH9hZZ/wA+I/cH1zEfzs2/+Ev1P0g/79//AF6P+Ev1P/ph/wB+/wD69YlFH9hZZ/z4j9wfXMR/Ozb/AOEv1P0g/wC/f/16P+Ev1P0g/wC/f/16xKKP7Cyz/nxH7g+uYj+dm3/wl+p/9MP+/f8A9ej/AIS7U/8Apj/37/8Ar1iUUf2Fln/PiP3B9cxH87Nv/hLtU/6Y/wDfv/69H/CXap6w/wDfv/69YlFH9hZX/wA+I/cH1zEfzs2/+Eu1T1h/79//AF6P+Et1T1g/79//AF6xKKP7Cyv/AJ8R+4PrmI/nZ1Wm+M5BOi30YTniaLI2+5FeseHNe+3osE7h3K5Rx/GK+fK7vwJqEggVdx3W0w2n/ZPOP5189mmAp5PKONwfuwulKPSz6rzO3D1ni06NXV2ume0UUDpRXtnnhRRRQAVyHjLVhAjRM22KFPMkx39q6+vKfiNIwtNSIPV0X8MivFzZOt7HC3sqs1F+nU6qEvZqdbrGLa9TzXU9VuNVvGnnYhc/JHnhB6VSzR2pK/UKFCnh6apUo2itEkfBVKk6s3Obu2LRSUVqZ2QtFJRQFkLRSUUBZC0UlFAWQtFJRQFkLRSUUBZC0UlFAWQtFJRQFkLRSUUBZC0UlFAWQtFJRQFkLRSUUBZC0UlFAWQtd54J8QzySC2mkJngG+JyeSPQ1wVbPhNiviW2weu4H/vk18zxRgaeKy2pNr3oLmi+qa1PYybEzoYuEVtJ2a73Po6yuVu7KKdejrnHoanrJ8NMW0RM9mYfrWtXgYOs6+Gp1ZbtJ/gfSVYKFSUV0ZW1H/kG3H/XNv5V4V41/wCP20/65N/OvddR/wCQbcf9cz/KvCvGv/H9af8AXNv51xR/5HtD/DI3j/udT1RzdFFFfbHlhRRSUALRRRQAUUUUAFFFFABRRRQAUUUUAFFFFABRRRQAUUUUAFFFFABRRRQAUUUUAFFFFACHpXXeBet1/vp/WuRPSuu8C/euv9+P+tfLcV/8iuX+KP5npZb/ALwvR/ke6D7opaQfdH0pGdUxvYLk4GT1roTSjdnKOoooqgCvJ/iP/wAemo/9dU/mK9Yryb4j/wDHnqX/AF1T/wBCFePjv98wf/XxG8f93r/4WeWdqbTu1Nr9TPgQooooAKKKKACiiigAooooAKKKKACiiigAooooAKKKKACiiigAooooAKKKKACiiigAooooAK2PCv8AyMtr9W/9BNY9bHhX/kZbX6t/6Ca8jO/+RZiP8EvyO/Lv98pf4l+Z7/4Y/wCQIv8Avt/Otesjwx/yBF/32/nWvXxWV/7jS/wr8j7DE/xperKmot/xLbj/AK5n+VeF+NT/AKbaf9cm/nXuGot/xLbj/rmf5V4b40P+m2n/AFzb+dYx/wCR7Q/wyNI/7nP1RzuaM0zNGa+1PLHZrvvAfgSy8Q6VPqGrSTJGJfLhEThc46k5B7kCuAALMFUZJOAK9E+Id1L4S+HGg+H9MkMN5e3cIZl64jImlb8wB/wKubETaSUd2XFHOeONAh8MeKP7PtfONvLAs8LynO7khhkAcggf99CsCvUfidEut+CNM8RWg3C2ZXf1EUoCt+TbCfoaxfhZp9lqOuXqahaQ3KpbZVZkDAHcOeaVOq/Z80ugNanEfjRXb+LfFHg/w1bav4Y0jSpdR1dbaUvNBbI6wTMpKKzEjBBI4GcDFT20OleCvhfa+JdR0ZdZ1G6ESpA+Mb5DhVBIIUDucU/rCtewrHA/jRXq9pqugXfw+vfFN14Tskexjd5rVFjbOwZO1yoB4PcCsv4TafbaxoOqXetaXaPO1yxRHjV/KQ5KqD06Y6UfWFZ3Wwcp55RV7wFs1TxDowv4o5Unm/eRsvytweMfhW98QILa0+KNpp1pawQWrWMErRxRhQzNNIpJx7KPyq3VSkkFjk80mfevWvHMvgzwWlrqup6Ss87kwWmn2sK5uH6k7eAcDuTgfXFWpNP8JeJvB8PiC8sk0m1RDPM+FjaJUJ3q5XjHB/pWX1qO9h8p43u560teq+C9c8H+Oobuw0/w4bW3hXML3Nuim4TON64JYduuDyK4rRfDQ1b4gXmglmjis7qVJW7+WpyD9SCv51ca6d7q1hcpz/40V6DrPjLQPDPiqXw3p3hG3vIbMILy6kKrtLANtGVJcgEE5Iqp8TNB03Rzp2o6VGIIL9jH5aDC7tpcEDtkBuPaiFdSaVtwscTQDmvV9WsvCOh+A9M17xBaRxwWsETskEQ33MjIAEOBliSemevXiptBbw58SPC9w0GhHSpYyYwskSLJESMqwKE8e3saj60uw+U808P6JP4h1hNOtZEjkdWbdJnAAHtUWt6a2h6/daTNPHNPa7PMMecDcoYdR6EV2Hwn1jTxqEdg2mF7+ZpHF6AuIlCgFcnnqD0qv8T/ABZpcOpa3ouneFzca55cIbUtkQUMyqVJJO44Xjp7UOtJVLW0Dl0OJzRmvRdE0fQfC3gGTxd4qtxchY/NWNl34BOEVVPBZiR19R0q54U1zw74/knsLvwmulyLF5ke/wAvcy9OCnKkZHFN4hJ6IXKeXZozXaaB4Ss5/iXfaJeuZLfTyXKNwZVwpUH8HBP0NaOt+LNP0XxDdaRd+AIv7Nt3CLcnYrTjAO5FK4I5x94dKqVdJ2SuHKed5ozUMM73CNLJbm2Lu5ERIJRdx2g49sU/Nbp3VxDs113gU/Ndf78f9a4/NdZ4JOEvCP7yf1r5fit2yqb84/mejln+8r0Z7uG+UfSsXxS5GloQefMH8jXK/wBqX3/P3L/30ajmvrm4TZPO8i5zhmzXxWO4jpYnCyoRg02rHpUcunTqKbktDUsPEd5aEJK3nRjs3UfjXS2OuWd8AEk2Sf3H4NcBmgMQcg4rysBn+LwloyfPHs/0Z118DSq6rRnp+7ivJ/iMf9D1H/rqn/oQroLHxFd2hCSN50Y7N1H0Ncv48uBdaVezBSod0OD1HzCvp4ZrQzDF4T2d01UV0zya2FqUKFbm25WeaZ4pKTtSV+0XPzgdRTaKLjsOoptFFwsOrofB3hVvFupzWi3YtfJi8wsY92eQMYyPWucr0X4NHHiW+/69P/Z1rlxdSVOjKUdzowtONSsoy2OE1G3Sx1q/09JfNNlcPbu+3bll68V2OgeF9KvfhprOu3kcr3VlFPJHtk2j93HuHH1rjtcP/FbeJf8AsLT/ANK9G8Ln/ix3ib/r2vP/AERXJiK1RYWM07N2OvD0YPEyg1ornl0UnmQo+MblBx9afW14d1jwroXhxbvXNKu9Y1F3VIbSBcrt2j5iSQoHXqfwrudIs/DXj7wzqM9n4cOjXlqCFG5M525U5QkEZGCDW08aqcrSi7dzGGDdSN4yV+x5ZmjNdx8JtH0rxRZ6hLfWqTAwxmEuMmPcG5+vT8q2PC8/w/1jXrnwtp+ly3klsrI2pTRjy55F++EbOcjnoAODj3VXMKdOTjZuw6eBqTipXSueX5ozXpcj+APCnjCHwzcWFxquoXLjzXMYkjs1c/IHyRjqOgJ71hfEnQdP8PeLbS3sYzBb3sBmCA5ClWAfH/fSn8adPH06k+VJq+3mFTA1KceZtab+RyNGa7QeM/Athfmw03wbd6nDCQkl7MqKGPcqHOT+QqX4neHNM0SbS7vR4TDHqG5DED8oYKGBHpkZ/KiGOjKai4tX7ingpRg5Jp27HDV21h4a0p/hLq3iS5ilkvLOKeRAJML8i5AxWxqVl4T+G3hOxufEmlvq2oXriJYY0DvI5GSFBIACjvWjq8mjy/AfxDP4djeGzn0+5k8mT70TFDuU9cY+prjxGP54/urqz3OvD4HllepZ3Wx4+DkA+tLmt7Q9c8KaDogn1rR7vWtTlm2xWsKfIqAD5iSQo5z1z9K7KzsPDvjnwXqN/p+gf2NeWiuEXcudwXcM7Tgg9K7J46NOXLKLt3OSGDlUjzRkr9jy+ioopBNAkq/ddQw+hGafXcnc4rDqKbRTuFh1FNoouFh1bHhU/wDFS2v1b/0E1i1r+Fj/AMVLa/Vv/QTXkZ3/AMizEf4JfkduX/75S/xL8z6A8MN/xJV/32/nWvurE8Mt/wASVf8Afb+da+6vi8s/3Gl/hX5H2GJ/jS9WUdQb/iXXH/XM14f4zP8Aptr/ANc2/nXteoN/xLrj/rma8R8ZH/TbX/rmf51lH/keUP8ADI0j/uc/VHPZozTc0Zr7M8s6bwDpY1bxjaJIu6K3JnkGOPl6friuu8YeNPBCeKXsdc0a71W/0xfLMkNuJFh8wBioJYc425/CvPtG8S6p4cM8mjNbpNOoUtPD5gABzwAR/OsaFLjzrq5vrj7Td3lw9xPNt27nY54HYDgAegrlqUnOpd7Fpqx7n4d1jQfGnhfUNK0izubK1SNoHguIhGVDg8gZPHX8RXLfCOOe18R6nbXqhbm3hMMyjoHWQBse2RXHaL4j1Pw7LNNpEkKSypsPnR71656Aj+fel0zxZ4g0zV9R1aK5s2vr9suTbERqMLwF3Z/hz17modGcVKK1THdEGtBV8Z+IyAAW1WbJx16V6vbi5074ZaZCmjSeJhMU32wdF2I2WyN3B2nA9ea8a8y5mubu7v5lnurud7iVkTYu5j0AycCvYNasteTwBpdr8OrpIGLxmWcbGfytpLFd+VyWx19TSrJqEUCOO8a6p4p1XwpJoNp4Om8NaHJxdTSOru0eclQEyF3dyTXUfCGRDo+pwKw3CVTt9AVwD+hrQ8MTa5onhrUbr4iaqssEfziW5ESlIwPmDbAAQe3evIvDPifUtMI1LS5PIafcQjplWjLEqGX6YqIR54ygtxvc6r4e+Cte07xDp/8AaFi9tHYOTLI/3WxkDae+fal+JB/4vJZf9g22/wDR8tYurePPF2s3FsZtTt7K2t5VlaCxgKecVIIDszE7cjkDGazdQ1jVda8TnXNWuIJLhYUhiSGHYqKjMw7nJyxrSMKjknJCujvPjYc6r4a9jdf+gpU0zf8AGNmtD/qHXf8A7NXB+IfEGs+KNTtLjV7m3MNmJPJiht9hy+MktuOeg9KLvxFrc3g658M2t1bQ2FzFJFIXt977X+8Adwx1PY0vYz9ny9bhdHT/AAfOPFJ/7B7f+hR1oeErqOH45eJUkYKZ7h0TPc+XEcfkDXEaHrd/4cuTdaQ8K3HkmENNHvXBwemR/dHeqUd3ftqtzql3dh7+5uPtDywp5YVsADaMnGAo71cqUpTb6WC56r4s8V+OdH8R3NvpekWM2n5U28z20sjONozkqwGQ2RjHauI8aar4x1+10v8A4Sa1tLCzhuDPGIbd0aZghXHzscABj2q5F8UfFttCI0m0+4wOHubZi/5o6g/lXN6vrOveJNUivfEOpRzrbqywW1vAI4492MnuxPA6mohSlGSvEG0eifEtgfhHoGf+fmy/9Bq38HWxYap/11T+RrzfXPEWua9pdjpV3dWy6dZyRusaW/7x9gwoLbv6VY0bxZrPhy1ni0SW2jM7BmM8JkHAPQBh60KjP2biF0afwmkA8Yw7jy32gD/vpqf4+0PU18fa5qf2GY2UyQSLOEJTCxKhyfYiuV0e4u9GeCe2uT9qhYuJgoGWJJPHTHJ4rW8SeNvFHiXQ5tHubuxgtLgBZnhtmErKCCRkuQM46gVbhOMlJdgujvfE2nTeMfgtZQ6QDLND9ll8peS/lOu9PrgH8QKz/hnoGpW/iZr68tJ7aGGFlzKhTeWwMc9fWuR0bxXrXh5Cuk3apGTuaGZN8bH6ZBH4EVLrPxB8aazaG0XU7TS4nGJJLC2IlYdwGdm2/UDNQ6c4pxitGFy1fX2p6p8YfEeoeF1klksXjiDwgNzHGFfjvydpFeg+Fdfv/FiXOm+KNDRUjTJlMTKjnOMFW6Hvwex6V4/4cv7nwmVbQZfs7KpXLrv3gnJ3Z65PNbmqfEnxnqFm1tb31hp28YM9taMZQP8AZLOQD74onSlZJILmJqDQrr+rWtqMRWd9LbrznhW4/TFQ5qtZ2qWVsIUZnOSzyOcs7E5LE9yTzU+a7I3UVchjs11ngnlbserJ/WuRzXV+CT/x9f76f1r5ripXyuS84/mehlv+8L0f5HqY8LW5HNxJ+lUNX0WLTrRZY5XcltuGxXVKflH0rP1ixfULZIY2C4fJJ7CvDx2SYX6rL2FL37aG9HG1faLnlocXmtGx0W7vSG2eXGf434/IV0FjolpZ4Yr5sn95+30FaYIAry8DwvtPFy+S/V/5HVXzLpSXzKFjodpZ4Yr5sg/if+grz74ht/oeoD/pqn/oQr1EmvK/iGf9F1D/AK6L/MV7lfDUcPicHClFJe0R5zqTqUa7m7+6zzLPFJmkzxSZr9WufBDs0ZpuaM0XAdmjNNzRmi4Ds16H8HD/AMVJff8AXp/7OtedZqzZ6nqGmGR9Jv57GWRNhlgIDYznuCO1c+JpurScI7s3w9RUqqm9kdTqnw98T3HifXLuHTC0F1qEs0Tecg3IcYP3uK6Hw4rRfBbxTC+A8cF6jAHOCISCPzrzj/hJPF3/AEOWsf8AfUf/AMRVaK91e28PzaPa63ew2lyZDchShM/mZ37iV75PTFedKhiZ0fZSSsrHoqvhoVfaRbuz0vwFYR2Pwuudd0rSotU1pI3MMMgzllA2qPT145NdR4M1HxVqOh38/jC0tbViMQJbwNFxtO7IZmPpjpXi2ma5q+iQGLRdUnscgZ8sKwOPVWBB/KkHiDxObi5uZfFGpPc3EYiaTKAImc4VAu0Z9QM1FfBVpzbWt/PYqhjKMIJPS3ludz+z2QNEuP8Ar3g/9mrB+Ehx42tf9+5/m9c9pGo6n4f077JoOp3NgCio0kW0swXpncCKZpNxdaIY5NMvJobiNWC3AwXy2cnkYzye1b/VanNN91Yx+tU7Q8nc6TxOf+L4aof+ny0/9FR10/xUt4b74meEbW6fZDNDOkjZxhTLCDXmKS3banPqV5f3F5fTyLI9xMRuyoAXGAAMADtUmoX2p6vqqX+sarc30sSNHCJdoWJWIJA2gf3R19KlYWp+7/u7lPFU/wB557Hr3ii78U+H9ZstJ8AeHbFbF4A0l3JbtIC+4jZ8rLjAAJLHvVD4yu62nhhp8eYLmQvt6Z8o5xXAXHi3xZLaG1g8T39vAV2lY1jLAezlSw/Os66vNRv1sYr/AFW7urbT02W8ErKVX5duScZJx6msaeBrRqRk+j3vubTxlKVNpdVtY9c+Jeg3ni7TtC1LQYhepbl22qwB2yIMMM+m3H41He6Pc6D8A/EFnf7VuG0+5leMHOzchwD+Veb2vijxFptkLXSNbubKIZwqIjgZ9A6nH4VnSXmryaXf2L67qDpqbFr5ndWa4yNuCSOBjjC4pywddQ9krWvcUcXQc/ayve1j1DwtZf2V8LJde8P6TBq+ukExxyjPIfbj1AA5wOTXSeG7/wATX/g7U5/F9rbW05jkEKW8DRfLsOchmY9fpXjOn6/rOjwNHouqz2G45PlhWBPurAj9Kj/4SDxKwvGl8T6k816oSWQsmAoz8qrt2r1PQCitga05t738wo4yjCCW1vIzdPP/ABK7X/rin/oIqxmooY1ggjhTO2NQoz1wBin5r2o6RSPGlZybHZozTc0Zqrkjs0ZpuaM0XAdmtfwuf+Kktfq3/oJrGzWv4XP/ABUdr9W/9BNeVnX/ACLa/wDgl+R3Zf8A73S/xL8z3vw03/ElX/fb+da+6sTw03/EmX/fb+da26vjMs/3Kl/hR9bif40vUpag3/EuuP8Armf5V4n4xP8Aptr/ANcz/OvaL850+f8A65n+VeK+Mc/a7U9vLYfrWS/5HVH/AAyNI/7pP1Rz2aM03NGa+xPNHZozTc0ZoAdmjNNzRmgB2akW7vYVxZ6jfWfva3Txf+gnFQ5ozSaTVmFyG7tX1N1bWL6/1MIcql7dvKoPrtJx+lWBgDAGAKbmjNEYqOyC7HZopuaM0wHZozTc0ZoAdmjNNzRmgB2aM03NGaAHZopuaM0AOzRmm5ozQA7NGabmjNADs0ZpuaM0AOzRmm5ozQA7NdX4JPN1/vp/WuSzXV+CgcXJxwXQD9a+a4n/AORbL1j+Z6GXf7wvR/ke3K3yijdUSt8opd1dC2RzEm6jdUe6jdTAk3V5b8Qj/ouof9dF/mK9O3V5d8QTm11D/rov8xXk43/e8J/18RtH+BW/ws80zxSZozxSZr9MufD2FzRmkzRmgLC5ozSZozQFhc0ZpM0ZouFhc0ZpM0ZouFhc0ZpM0ZouFhc0ZpM0ZoCwuaM0maM0XCwuaM0maM0BYXNGaTNGaLhYXNGaTNGaLhYXNGaTNGaAsLmjNJmjNAWFzRmkzRmgLC5rW8MH/io7X6t/6CayM1q+GT/xUVr9W/8AQTXlZz/yLa/+CX5HbgF/tdP1X5nvHhtv+JMv++1au6sXw23/ABJ1/wB9q1t1fHZb/uVL/Cj6zEfxpepC4DoVbowwa8v8W6FJKrQqP3sLFo8/xj0r0zdVTULCHUIdsoIYfdcdRUY7DVZyhXw7tUhqvPuiqFWMbwn8LPn5gyOUdSrKcEEcikzXquo+DWnfMttFc46OOGqh/wAIPHn/AJBn/j//ANetY8QSirVcPNS8ldfJjeCi3eNRWPOc0Zr0b/hB4/8AoGf+P/8A16X/AIQlB/zC/wDx7/69P/WKH/Pip9wvqP8Afj955xmjNej/APCEp/0Cx/31/wDXo/4QlP8AoFj/AL6/+vR/rFD/AJ8VPuD6j/fj955xmjNej/8ACEp/0Cx/31/9ej/hCU/6BY/76/8Ar0/9Yof8+Kn3B9R/vx+884zRmvR/+EJT/oFj/vr/AOvR/wAISn/QLH/fX/16P9Yof8+Kn3B9R/vx+884zRmvR/8AhCU/6BY/76/+vR/whKf9Awf99f8A16P9Yof8+Kn3B9R/vx+884zRmvR/+EJT/oFj/vr/AOvR/wAISn/QMH/fX/16X+sUP+fFT7g+o/34/eecZozXo/8AwhKf9Awf99f/AF6P+EJT/oFj/vr/AOvR/rFD/nxU+4PqP9+P3nnGaM16P/whKf8AQLH/AH1/9ej/AIQlP+gWP++v/r0f6xQ/58VPuD6j/fj955xmjNej/wDCEp/0Cx/31/8AXpP+EHT/AKBf/j//ANej/WKH/Pip9wfUf78fvPOc0Zr0f/hB0/6Bf/j/AP8AXo/4QdP+gX/4/wD/AF6P9Yof8+Kn3B9R/vx+884zRmvR/wDhB0/6Bf8A4/8A/Xo/4QdP+gX/AOP/AP16P9Yof8+Kn3B9R/vx+884zRmvR/8AhB0/6Bf/AI//APXo/wCEHT/oF/8Aj/8A9ej/AFih/wA+Kn3B9R/vx+884zRmvR/+EHT/AKBf/j//ANej/hB0/wCgWP8Avv8A+vR/rFD/AJ8VPuD6j/fj9553FHJPKscKF3Y4AAr0vwdojQ+VAcHY3mTMOmfT9MVc03webc/LDFaqfvEcsa6uytIrGARQLgdyepNcVepic2qQVSDhSi72e8n0+RrH2eFi+V80n9yLu6jdUW6jdXtHCS7qN1RbqN1AEu6vPPHNk8yX0Sg7nUSJ745/pXfbqy9b0039uHj/ANbH09x6V5eZUqkoQrUVeVOSkl3t0Oig43lCe0k1958/Z4pM11eueFZDcSTWChXJJeBuOfb/AArnm0nUUbDWU+fZCa+wwOdYLG0lOE0n1TdmvW58tiMuxGHm4yi2u62ZVz70Z96s/wBl6h/z5T/9+zSf2XqH/PlP/wB+zXf9cw3/AD8j96OX6vV/lf3Mr596M+9WP7L1D/nyn/79mj+y9Q/58p/+/Zo+uYb/AJ+R+9B9Xq/yv7mV8+9GferH9l6h/wA+U/8A37NH9l6h/wA+U/8A37NH1zDf8/I/eg+r1f5X9zK+aM1Y/svUP+fKf/v2aP7L1D/nyn/79mj65hv+fkfvQfV6v8r+5lfNGasf2XqH/PlP/wB+zR/Zeof8+U//AH7NH1zDf8/I/eg9hV/lf3Mr5ozVj+y9Q/58p/8Av2aP7L1D/nyn/wC/Zo+uYb/n5H70HsKv8r+5lfNGasf2XqH/AD5T/wDfs0f2XqH/AD5T/wDfs0fXMN/z8j96D2FX+V/cyvmjNWP7L1D/AJ8p/wDv2aP7L1D/AJ8p/wDv2aPrmG/5+R+9B7Cr/K/uZXzRmrH9l6h/z5T/APfs0f2XqH/PlP8A9+zR9cw3/PyP3oPYVf5X9zK+aM1Y/svUP+fKf/v2aP7L1D/nyn/79mj65hv+fkfvQewq/wAr+5lfNGasf2XqH/PlP/37NH9l6h/z5T/9+zR9cw3/AD8j96D2FX+V/cyvmjNWP7L1D/nyn/79mj+y9Q/58p/+/Zo+uYb/AJ+R+9B7Cr/K/uZXzRmrH9l6h/z5T/8Afs0f2XqH/PlP/wB+zR9cw3/PyP3oPYVf5X9zK+a3PCVu02tCUD5YVLE/UYFVbPw9qN3IAYDCnd5RjH4da9F8K+GUhjWNFPlA7pZCOXNfLZ/nFKpQlgcJJTqT001SXVtnt5Xl9RVViKy5Yx116vyO00OMw6RCG4LZb8zWhuqFSFUAcAdKXdXPQpKjSjTXRJHpzlzycu5Huo3UUVsQG6jdRRQAbqN1FFACZpd1FFABuo3UUUAG6jdRRQAbqN1FFABuo3UUUAG6jdRRRcA3UbqKKLgG6jdRRRcBM0ZooouAZozRRQAZozRRQAZo3UUUALuo3UUUAG6jdRRQAbqN1FFABuo3UUUAVLvT7W95niBb+8ODWefDNqTxNKB+FFFcNbL8JXlzVKabNoV6sFaMmN/4Ri2/57y/pR/wjFt/z3l/IUUVj/Y+A/59L8S/rdf+YP8AhGLb/nvL+Qo/4Ri2/wCe8v5Ciij+x8B/z6X4h9br/wAwf8Ixbf8APeX8hR/wjFt/z3l/IUUUf2PgP+fS/EPrdf8AmD/hGLb/AJ7y/kKP+EYtv+e8v5Ciij+x8B/z6X4h9br/AMwf8Ixbf895fyFH/CMW3/PeX8hRRR/Y+A/59L8Q+t1/5g/4Ri2/57y/kKP+EYtv+e8v5Ciij+x8B/z6X4h9br/zB/wjFt/z3l/IUf8ACMW3/PeX8hRRR/Y+A/59L8Q+t1/5g/4Ri2/57y/kKP8AhGLb/nvL+Qooo/sfAf8APpfiH1uv/MH/AAjFt/z3l/IUf8Ixbf8APeX8hRRR/Y+A/wCfS/EPrdf+YP8AhGLb/nvL+Qo/4Ri2/wCe8v5Ciij+x8B/z6X4h9br/wAwf8Ixbf8APeX8hR/wjFt/z3l/IUUUf2PgP+fS/EPrdf8AmD/hGLb/AJ7y/kKP+EYtv+e8v5Ciij+x8B/z6X4h9br/AMwf8Ixbf895fyFH/CMW3/PeX8hRRS/sfAf8+l+IfW6/8xNB4fsoW3OGlP8Atnj9K1EVY0CooVR0AGAKKK7aGEoYdWpQS9DKdWdT4ncfuo3UUV0GZ//Z)"
      ],
      "metadata": {
        "id": "AW7nn5EnSOdo"
      }
    },
    {
      "cell_type": "code",
      "source": [
        "# si necesito varios parametros los separon con comas\n",
        "def mostrar_doble(num):\n",
        "    print(num * 2)\n",
        "mostrar_doble(6)    "
      ],
      "metadata": {
        "colab": {
          "base_uri": "https://localhost:8080/"
        },
        "id": "LRIQr0W5SxU-",
        "outputId": "d9313ac9-717d-40a5-edac-bd4dd526bb17"
      },
      "execution_count": 34,
      "outputs": [
        {
          "output_type": "stream",
          "name": "stdout",
          "text": [
            "12\n"
          ]
        }
      ]
    },
    {
      "cell_type": "code",
      "source": [
        "# los argumentos se usan cuando llamamos a la función\n",
        "def sumar(x, y):\n",
        "    print(x + y) #entre paréntesis los argumentos\n",
        "sumar(4, 5)    # acá llamo a la función\n",
        "mostrar_doble(81) #aqui estamos llamando otra función"
      ],
      "metadata": {
        "colab": {
          "base_uri": "https://localhost:8080/"
        },
        "id": "VNNxordnTf-_",
        "outputId": "9aa7f5f7-afea-4f4a-e47b-49b4e6c7812b"
      },
      "execution_count": 35,
      "outputs": [
        {
          "output_type": "stream",
          "name": "stdout",
          "text": [
            "9\n",
            "162\n"
          ]
        }
      ]
    }
  ]
}